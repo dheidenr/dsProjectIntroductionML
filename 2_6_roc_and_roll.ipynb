{
 "cells": [
  {
   "cell_type": "code",
   "execution_count": 76,
   "metadata": {
    "collapsed": true
   },
   "outputs": [
    {
     "data": {
      "text/plain": "<IPython.core.display.HTML object>",
      "text/html": "<style>svg{width:70% !important;height:70% !important;}</style>"
     },
     "execution_count": 76,
     "metadata": {},
     "output_type": "execute_result"
    }
   ],
   "source": [
    "import numpy as np\n",
    "import pandas as pd\n",
    "import matplotlib.pyplot as plt\n",
    "import seaborn as sns\n",
    "from sklearn import tree\n",
    "from sklearn.model_selection import train_test_split\n",
    "from sklearn.model_selection import cross_val_score\n",
    "%matplotlib inline\n",
    "from IPython.display import SVG\n",
    "from graphviz import Source\n",
    "from IPython.display import display\n",
    "from IPython.display import HTML\n",
    "style = \"<style>svg{width:70% !important;height:70% !important;}</style>\"\n",
    "HTML(style)"
   ]
  },
  {
   "cell_type": "code",
   "execution_count": 77,
   "outputs": [],
   "source": [
    "np.random.seed(42)"
   ],
   "metadata": {
    "collapsed": false,
    "pycharm": {
     "name": "#%%\n"
    }
   }
  },
  {
   "cell_type": "code",
   "execution_count": 78,
   "outputs": [],
   "source": [
    "titanic_data = pd.read_csv('data/titanic/train.csv')"
   ],
   "metadata": {
    "collapsed": false,
    "pycharm": {
     "name": "#%%\n"
    }
   }
  },
  {
   "cell_type": "code",
   "execution_count": 79,
   "outputs": [],
   "source": [
    "X = titanic_data.drop(['PassengerId', 'Survived', 'Name', 'Ticket', 'Cabin'], axis='columns')\n",
    "X = pd.get_dummies(X)\n",
    "X = X.fillna({'Age': X.Age.median()}) # Можно вместо медианы попробовать подругому подобрать более подходящие данные, напрмер через машинное обучение и предсказание.\n",
    "y = titanic_data.Survived\n",
    "X_train, X_test, y_train, y_test = train_test_split(X, y, test_size=0.33, random_state=42)"
   ],
   "metadata": {
    "collapsed": false,
    "pycharm": {
     "name": "#%%\n"
    }
   }
  },
  {
   "cell_type": "code",
   "execution_count": 80,
   "outputs": [
    {
     "data": {
      "text/plain": "0.7886274509803922"
     },
     "execution_count": 80,
     "metadata": {},
     "output_type": "execute_result"
    }
   ],
   "source": [
    "clf = tree.DecisionTreeClassifier(criterion='entropy', max_depth=4)\n",
    "cross_val_score(clf, X_train, y_train, cv=5).mean()\n",
    "cross_val_score(clf, X_train, y_train, cv=5).mean()"
   ],
   "metadata": {
    "collapsed": false,
    "pycharm": {
     "name": "#%%\n"
    }
   }
  },
  {
   "cell_type": "code",
   "execution_count": 80,
   "outputs": [],
   "source": [],
   "metadata": {
    "collapsed": false,
    "pycharm": {
     "name": "#%%\n"
    }
   }
  },
  {
   "cell_type": "code",
   "execution_count": 81,
   "outputs": [],
   "source": [
    "max_depth_values = range(1, 100)\n",
    "scores_data = pd.DataFrame()\n",
    "for max_depth in max_depth_values:\n",
    "    clf = tree.DecisionTreeClassifier(criterion='entropy', max_depth=max_depth)\n",
    "    clf.fit(X_train, y_train)\n",
    "    train_score = clf.score(X_train, y_train)\n",
    "    test_score = clf.score(X_test, y_test)\n",
    "\n",
    "    mean_cross_val_score = cross_val_score(clf, X_train, y_train, cv=5).mean()\n",
    "\n",
    "    temp_score_data = pd.DataFrame({'max_depth': [max_depth],\n",
    "                                    'train_score': [train_score],\n",
    "                                    'test_score': [test_score],\n",
    "                                    'cross_val_score': [mean_cross_val_score]\n",
    "                                    })\n",
    "    scores_data = scores_data.append(temp_score_data)"
   ],
   "metadata": {
    "collapsed": false,
    "pycharm": {
     "name": "#%%\n"
    }
   }
  },
  {
   "cell_type": "code",
   "execution_count": 82,
   "outputs": [
    {
     "data": {
      "text/plain": "   max_depth  train_score  test_score  cross_val_score\n0          1     0.781879    0.796610         0.781961\n0          2     0.805369    0.776271         0.770196\n0          3     0.823826    0.820339         0.790322\n0          4     0.833893    0.823729         0.788627\n0          5     0.840604    0.810169         0.795350",
      "text/html": "<div>\n<style scoped>\n    .dataframe tbody tr th:only-of-type {\n        vertical-align: middle;\n    }\n\n    .dataframe tbody tr th {\n        vertical-align: top;\n    }\n\n    .dataframe thead th {\n        text-align: right;\n    }\n</style>\n<table border=\"1\" class=\"dataframe\">\n  <thead>\n    <tr style=\"text-align: right;\">\n      <th></th>\n      <th>max_depth</th>\n      <th>train_score</th>\n      <th>test_score</th>\n      <th>cross_val_score</th>\n    </tr>\n  </thead>\n  <tbody>\n    <tr>\n      <th>0</th>\n      <td>1</td>\n      <td>0.781879</td>\n      <td>0.796610</td>\n      <td>0.781961</td>\n    </tr>\n    <tr>\n      <th>0</th>\n      <td>2</td>\n      <td>0.805369</td>\n      <td>0.776271</td>\n      <td>0.770196</td>\n    </tr>\n    <tr>\n      <th>0</th>\n      <td>3</td>\n      <td>0.823826</td>\n      <td>0.820339</td>\n      <td>0.790322</td>\n    </tr>\n    <tr>\n      <th>0</th>\n      <td>4</td>\n      <td>0.833893</td>\n      <td>0.823729</td>\n      <td>0.788627</td>\n    </tr>\n    <tr>\n      <th>0</th>\n      <td>5</td>\n      <td>0.840604</td>\n      <td>0.810169</td>\n      <td>0.795350</td>\n    </tr>\n  </tbody>\n</table>\n</div>"
     },
     "execution_count": 82,
     "metadata": {},
     "output_type": "execute_result"
    }
   ],
   "source": [
    "scores_data.head()"
   ],
   "metadata": {
    "collapsed": false,
    "pycharm": {
     "name": "#%%\n"
    }
   }
  },
  {
   "cell_type": "code",
   "execution_count": 83,
   "outputs": [
    {
     "data": {
      "text/plain": "<AxesSubplot:xlabel='max_depth', ylabel='score'>"
     },
     "execution_count": 83,
     "metadata": {},
     "output_type": "execute_result"
    },
    {
     "data": {
      "text/plain": "<Figure size 432x288 with 1 Axes>",
      "image/png": "[encoded data removed]"
     },
     "metadata": {
      "needs_background": "light"
     },
     "output_type": "display_data"
    }
   ],
   "source": [
    "# Снова при помощи melt и отрисовки графика отрисуем линии. Так же добавим cross_val_score\n",
    "scores_data_long = pd.melt(scores_data, id_vars=['max_depth'],\n",
    "                           value_vars=['train_score', 'test_score', 'cross_val_score'],\n",
    "                           var_name='set_type',  # Имя колонки с ключами\n",
    "                           value_name='score')  #\n",
    "sns.lineplot(x='max_depth', y='score', hue='set_type', data=scores_data_long)"
   ],
   "metadata": {
    "collapsed": false,
    "pycharm": {
     "name": "#%%\n"
    }
   }
  },
  {
   "cell_type": "code",
   "execution_count": 84,
   "outputs": [
    {
     "data": {
      "text/plain": "     max_depth         set_type     score\n198          1  cross_val_score  0.781961\n199          2  cross_val_score  0.770196\n200          3  cross_val_score  0.790322\n201          4  cross_val_score  0.788627\n202          5  cross_val_score  0.795350\n203          6  cross_val_score  0.805434\n204          7  cross_val_score  0.797017\n205          8  cross_val_score  0.800364\n206          9  cross_val_score  0.796989\n207         10  cross_val_score  0.810434\n208         11  cross_val_score  0.790266\n209         12  cross_val_score  0.797017\n210         13  cross_val_score  0.795308\n211         14  cross_val_score  0.797003\n212         15  cross_val_score  0.788627\n213         16  cross_val_score  0.775210\n214         17  cross_val_score  0.783599\n215         18  cross_val_score  0.783613\n216         19  cross_val_score  0.775196\n217         20  cross_val_score  0.771863",
      "text/html": "<div>\n<style scoped>\n    .dataframe tbody tr th:only-of-type {\n        vertical-align: middle;\n    }\n\n    .dataframe tbody tr th {\n        vertical-align: top;\n    }\n\n    .dataframe thead th {\n        text-align: right;\n    }\n</style>\n<table border=\"1\" class=\"dataframe\">\n  <thead>\n    <tr style=\"text-align: right;\">\n      <th></th>\n      <th>max_depth</th>\n      <th>set_type</th>\n      <th>score</th>\n    </tr>\n  </thead>\n  <tbody>\n    <tr>\n      <th>198</th>\n      <td>1</td>\n      <td>cross_val_score</td>\n      <td>0.781961</td>\n    </tr>\n    <tr>\n      <th>199</th>\n      <td>2</td>\n      <td>cross_val_score</td>\n      <td>0.770196</td>\n    </tr>\n    <tr>\n      <th>200</th>\n      <td>3</td>\n      <td>cross_val_score</td>\n      <td>0.790322</td>\n    </tr>\n    <tr>\n      <th>201</th>\n      <td>4</td>\n      <td>cross_val_score</td>\n      <td>0.788627</td>\n    </tr>\n    <tr>\n      <th>202</th>\n      <td>5</td>\n      <td>cross_val_score</td>\n      <td>0.795350</td>\n    </tr>\n    <tr>\n      <th>203</th>\n      <td>6</td>\n      <td>cross_val_score</td>\n      <td>0.805434</td>\n    </tr>\n    <tr>\n      <th>204</th>\n      <td>7</td>\n      <td>cross_val_score</td>\n      <td>0.797017</td>\n    </tr>\n    <tr>\n      <th>205</th>\n      <td>8</td>\n      <td>cross_val_score</td>\n      <td>0.800364</td>\n    </tr>\n    <tr>\n      <th>206</th>\n      <td>9</td>\n      <td>cross_val_score</td>\n      <td>0.796989</td>\n    </tr>\n    <tr>\n      <th>207</th>\n      <td>10</td>\n      <td>cross_val_score</td>\n      <td>0.810434</td>\n    </tr>\n    <tr>\n      <th>208</th>\n      <td>11</td>\n      <td>cross_val_score</td>\n      <td>0.790266</td>\n    </tr>\n    <tr>\n      <th>209</th>\n      <td>12</td>\n      <td>cross_val_score</td>\n      <td>0.797017</td>\n    </tr>\n    <tr>\n      <th>210</th>\n      <td>13</td>\n      <td>cross_val_score</td>\n      <td>0.795308</td>\n    </tr>\n    <tr>\n      <th>211</th>\n      <td>14</td>\n      <td>cross_val_score</td>\n      <td>0.797003</td>\n    </tr>\n    <tr>\n      <th>212</th>\n      <td>15</td>\n      <td>cross_val_score</td>\n      <td>0.788627</td>\n    </tr>\n    <tr>\n      <th>213</th>\n      <td>16</td>\n      <td>cross_val_score</td>\n      <td>0.775210</td>\n    </tr>\n    <tr>\n      <th>214</th>\n      <td>17</td>\n      <td>cross_val_score</td>\n      <td>0.783599</td>\n    </tr>\n    <tr>\n      <th>215</th>\n      <td>18</td>\n      <td>cross_val_score</td>\n      <td>0.783613</td>\n    </tr>\n    <tr>\n      <th>216</th>\n      <td>19</td>\n      <td>cross_val_score</td>\n      <td>0.775196</td>\n    </tr>\n    <tr>\n      <th>217</th>\n      <td>20</td>\n      <td>cross_val_score</td>\n      <td>0.771863</td>\n    </tr>\n  </tbody>\n</table>\n</div>"
     },
     "execution_count": 84,
     "metadata": {},
     "output_type": "execute_result"
    }
   ],
   "source": [
    "scores_data_long.query(\"set_type == 'cross_val_score'\").head(20)\n",
    "# Можем увидеть что на 11-м шаге наибольшая точность достигается"
   ],
   "metadata": {
    "collapsed": false,
    "pycharm": {
     "name": "#%%\n"
    }
   }
  },
  {
   "cell_type": "code",
   "execution_count": 85,
   "outputs": [],
   "source": [
    "# теперь при максимальной глубине 10 протестим финально дерево.\n",
    "best_clf = tree.DecisionTreeClassifier(criterion='entropy', max_depth=10)"
   ],
   "metadata": {
    "collapsed": false,
    "pycharm": {
     "name": "#%%\n"
    }
   }
  },
  {
   "cell_type": "code",
   "execution_count": 86,
   "outputs": [
    {
     "data": {
      "text/plain": "0.7966101694915255"
     },
     "execution_count": 86,
     "metadata": {},
     "output_type": "execute_result"
    }
   ],
   "source": [
    "# проверим точность на значениях которые не видел классификатор ранее\n",
    "cross_val_score(clf, X_test, y_test, cv=5).mean()\n",
    "# Полученное значение можно использовать как финальное значение, которое мы получили при обучении с использованием кросс валидации на train множестве."
   ],
   "metadata": {
    "collapsed": false,
    "pycharm": {
     "name": "#%%\n"
    }
   }
  },
  {
   "cell_type": "code",
   "execution_count": 87,
   "outputs": [],
   "source": [
    "# GridSearchCV помогает подбирать оптимальные гиперпараметры автоматом\n",
    "from sklearn.model_selection import GridSearchCV"
   ],
   "metadata": {
    "collapsed": false,
    "pycharm": {
     "name": "#%%\n"
    }
   }
  },
  {
   "cell_type": "code",
   "execution_count": 88,
   "outputs": [],
   "source": [
    "parameters = {'criterion': ['gini', 'entropy'], 'max_depth': range(1, 30)}"
   ],
   "metadata": {
    "collapsed": false,
    "pycharm": {
     "name": "#%%\n"
    }
   }
  },
  {
   "cell_type": "code",
   "execution_count": 89,
   "outputs": [],
   "source": [
    "clf = tree.DecisionTreeClassifier()\n",
    "grid_search_cv_clf = GridSearchCV(clf,  parameters, cv=5)"
   ],
   "metadata": {
    "collapsed": false,
    "pycharm": {
     "name": "#%%\n"
    }
   }
  },
  {
   "cell_type": "code",
   "execution_count": 90,
   "outputs": [
    {
     "data": {
      "text/plain": "GridSearchCV(cv=5, estimator=DecisionTreeClassifier(),\n             param_grid={'criterion': ['gini', 'entropy'],\n                         'max_depth': range(1, 30)})"
     },
     "execution_count": 90,
     "metadata": {},
     "output_type": "execute_result"
    }
   ],
   "source": [
    "grid_search_cv_clf"
   ],
   "metadata": {
    "collapsed": false,
    "pycharm": {
     "name": "#%%\n"
    }
   }
  },
  {
   "cell_type": "code",
   "execution_count": 91,
   "outputs": [
    {
     "data": {
      "text/plain": "GridSearchCV(cv=5, estimator=DecisionTreeClassifier(),\n             param_grid={'criterion': ['gini', 'entropy'],\n                         'max_depth': range(1, 30)})"
     },
     "execution_count": 91,
     "metadata": {},
     "output_type": "execute_result"
    }
   ],
   "source": [
    "grid_search_cv_clf.fit(X_train, y_train)"
   ],
   "metadata": {
    "collapsed": false,
    "pycharm": {
     "name": "#%%\n"
    }
   }
  },
  {
   "cell_type": "code",
   "execution_count": 92,
   "outputs": [
    {
     "data": {
      "text/plain": "{'criterion': 'entropy', 'max_depth': 6}"
     },
     "execution_count": 92,
     "metadata": {},
     "output_type": "execute_result"
    }
   ],
   "source": [
    "grid_search_cv_clf.best_params_"
   ],
   "metadata": {
    "collapsed": false,
    "pycharm": {
     "name": "#%%\n"
    }
   }
  },
  {
   "cell_type": "code",
   "execution_count": 93,
   "outputs": [
    {
     "data": {
      "text/plain": "DecisionTreeClassifier(criterion='entropy', max_depth=6)"
     },
     "execution_count": 93,
     "metadata": {},
     "output_type": "execute_result"
    }
   ],
   "source": [
    "best_clf = grid_search_cv_clf.best_estimator_\n",
    "best_clf"
   ],
   "metadata": {
    "collapsed": false,
    "pycharm": {
     "name": "#%%\n"
    }
   }
  },
  {
   "cell_type": "code",
   "execution_count": 94,
   "outputs": [
    {
     "data": {
      "text/plain": "0.7694915254237288"
     },
     "execution_count": 94,
     "metadata": {},
     "output_type": "execute_result"
    }
   ],
   "source": [
    "best_clf.score(X_test, y_test)"
   ],
   "metadata": {
    "collapsed": false,
    "pycharm": {
     "name": "#%%\n"
    }
   }
  },
  {
   "cell_type": "code",
   "execution_count": 99,
   "outputs": [],
   "source": [
    "from sklearn.metrics import precision_score, recall_score"
   ],
   "metadata": {
    "collapsed": false,
    "pycharm": {
     "name": "#%%\n"
    }
   }
  },
  {
   "cell_type": "code",
   "execution_count": 97,
   "outputs": [
    {
     "data": {
      "text/plain": "0.8023255813953488"
     },
     "execution_count": 97,
     "metadata": {},
     "output_type": "execute_result"
    }
   ],
   "source": [
    "y_pred = best_clf.predict(X_test)\n",
    "precision_score(y_test, y_pred)"
   ],
   "metadata": {
    "collapsed": false,
    "pycharm": {
     "name": "#%%\n"
    }
   }
  },
  {
   "cell_type": "code",
   "execution_count": 100,
   "outputs": [
    {
     "data": {
      "text/plain": "0.575"
     },
     "execution_count": 100,
     "metadata": {},
     "output_type": "execute_result"
    }
   ],
   "source": [
    "recall_score(y_test, y_pred)"
   ],
   "metadata": {
    "collapsed": false,
    "pycharm": {
     "name": "#%%\n"
    }
   }
  },
  {
   "cell_type": "code",
   "execution_count": 101,
   "outputs": [],
   "source": [
    "# посмотрим предсказанную вероятность которую получает дерево при обучении\n",
    "y_predicted_prob = best_clf.predict_proba(X_test)"
   ],
   "metadata": {
    "collapsed": false,
    "pycharm": {
     "name": "#%%\n"
    }
   }
  },
  {
   "cell_type": "code",
   "execution_count": 103,
   "outputs": [
    {
     "data": {
      "text/plain": "array([[0.88518519, 0.11481481],\n       [0.88518519, 0.11481481],\n       [0.88518519, 0.11481481],\n       [0.        , 1.        ],\n       [0.65625   , 0.34375   ],\n       [1.        , 0.        ],\n       [0.23809524, 0.76190476],\n       [0.88518519, 0.11481481],\n       [0.23809524, 0.76190476],\n       [0.        , 1.        ],\n       [0.125     , 0.875     ],\n       [0.88518519, 0.11481481],\n       [1.        , 0.        ],\n       [0.88518519, 0.11481481],\n       [0.88518519, 0.11481481],\n       [0.        , 1.        ],\n       [1.        , 0.        ],\n       [0.65625   , 0.34375   ],\n       [0.88518519, 0.11481481],\n       [1.        , 0.        ],\n       [0.88518519, 0.11481481],\n       [0.60714286, 0.39285714],\n       [0.65625   , 0.34375   ],\n       [0.88518519, 0.11481481],\n       [0.88518519, 0.11481481],\n       [0.6       , 0.4       ],\n       [0.60714286, 0.39285714],\n       [0.88518519, 0.11481481],\n       [0.6       , 0.4       ],\n       [0.65625   , 0.34375   ],\n       [0.88518519, 0.11481481],\n       [0.23809524, 0.76190476],\n       [0.60714286, 0.39285714],\n       [0.23809524, 0.76190476],\n       [0.88518519, 0.11481481],\n       [0.88518519, 0.11481481],\n       [0.60714286, 0.39285714],\n       [0.23809524, 0.76190476],\n       [0.        , 1.        ],\n       [0.88518519, 0.11481481],\n       [1.        , 0.        ],\n       [0.88518519, 0.11481481],\n       [0.88518519, 0.11481481],\n       [0.88518519, 0.11481481],\n       [1.        , 0.        ],\n       [0.88518519, 0.11481481],\n       [0.88518519, 0.11481481],\n       [0.88518519, 0.11481481],\n       [0.88518519, 0.11481481],\n       [0.4       , 0.6       ],\n       [0.        , 1.        ],\n       [0.07692308, 0.92307692],\n       [0.88518519, 0.11481481],\n       [0.58823529, 0.41176471],\n       [0.88518519, 0.11481481],\n       [0.        , 1.        ],\n       [0.88518519, 0.11481481],\n       [0.07692308, 0.92307692],\n       [0.        , 1.        ],\n       [0.65625   , 0.34375   ],\n       [0.88518519, 0.11481481],\n       [0.        , 1.        ],\n       [0.        , 1.        ],\n       [1.        , 0.        ],\n       [0.88518519, 0.11481481],\n       [0.07692308, 0.92307692],\n       [0.58823529, 0.41176471],\n       [0.88518519, 0.11481481],\n       [0.88518519, 0.11481481],\n       [0.07692308, 0.92307692],\n       [1.        , 0.        ],\n       [0.        , 1.        ],\n       [0.60714286, 0.39285714],\n       [0.        , 1.        ],\n       [0.88518519, 0.11481481],\n       [0.88518519, 0.11481481],\n       [0.23809524, 0.76190476],\n       [0.        , 1.        ],\n       [0.        , 1.        ],\n       [1.        , 0.        ],\n       [1.        , 0.        ],\n       [0.        , 1.        ],\n       [0.        , 1.        ],\n       [0.88518519, 0.11481481],\n       [0.60714286, 0.39285714],\n       [1.        , 0.        ],\n       [0.        , 1.        ],\n       [0.        , 1.        ],\n       [1.        , 0.        ],\n       [0.88518519, 0.11481481],\n       [0.6       , 0.4       ],\n       [1.        , 0.        ],\n       [0.60714286, 0.39285714],\n       [0.88518519, 0.11481481],\n       [0.88518519, 0.11481481],\n       [0.88518519, 0.11481481],\n       [1.        , 0.        ],\n       [0.88518519, 0.11481481],\n       [0.        , 1.        ],\n       [0.88518519, 0.11481481],\n       [1.        , 0.        ],\n       [0.88518519, 0.11481481],\n       [0.        , 1.        ],\n       [0.88518519, 0.11481481],\n       [0.88518519, 0.11481481],\n       [0.88518519, 0.11481481],\n       [0.        , 1.        ],\n       [1.        , 0.        ],\n       [0.88518519, 0.11481481],\n       [0.60714286, 0.39285714],\n       [0.        , 1.        ],\n       [0.88518519, 0.11481481],\n       [0.        , 1.        ],\n       [0.60714286, 0.39285714],\n       [0.58823529, 0.41176471],\n       [0.88518519, 0.11481481],\n       [0.60714286, 0.39285714],\n       [0.88518519, 0.11481481],\n       [0.        , 1.        ],\n       [1.        , 0.        ],\n       [0.88518519, 0.11481481],\n       [0.        , 1.        ],\n       [0.07692308, 0.92307692],\n       [0.        , 1.        ],\n       [0.88518519, 0.11481481],\n       [0.60714286, 0.39285714],\n       [0.        , 1.        ],\n       [0.58823529, 0.41176471],\n       [0.65625   , 0.34375   ],\n       [0.88518519, 0.11481481],\n       [0.65625   , 0.34375   ],\n       [0.88518519, 0.11481481],\n       [0.88518519, 0.11481481],\n       [0.65625   , 0.34375   ],\n       [0.4       , 0.6       ],\n       [0.65625   , 0.34375   ],\n       [0.        , 1.        ],\n       [0.88518519, 0.11481481],\n       [0.88518519, 0.11481481],\n       [0.4       , 0.6       ],\n       [0.88518519, 0.11481481],\n       [0.        , 1.        ],\n       [0.88518519, 0.11481481],\n       [0.88518519, 0.11481481],\n       [1.        , 0.        ],\n       [0.        , 1.        ],\n       [0.88518519, 0.11481481],\n       [0.88518519, 0.11481481],\n       [0.        , 1.        ],\n       [0.88518519, 0.11481481],\n       [0.88518519, 0.11481481],\n       [0.88518519, 0.11481481],\n       [0.88518519, 0.11481481],\n       [1.        , 0.        ],\n       [0.88518519, 0.11481481],\n       [0.88518519, 0.11481481],\n       [0.58823529, 0.41176471],\n       [0.65625   , 0.34375   ],\n       [0.        , 1.        ],\n       [0.        , 1.        ],\n       [0.88518519, 0.11481481],\n       [0.60714286, 0.39285714],\n       [0.88518519, 0.11481481],\n       [0.        , 1.        ],\n       [0.88518519, 0.11481481],\n       [0.4       , 0.6       ],\n       [0.88518519, 0.11481481],\n       [0.        , 1.        ],\n       [0.88518519, 0.11481481],\n       [0.88518519, 0.11481481],\n       [0.58823529, 0.41176471],\n       [0.        , 1.        ],\n       [0.60714286, 0.39285714],\n       [0.        , 1.        ],\n       [0.88518519, 0.11481481],\n       [0.88518519, 0.11481481],\n       [1.        , 0.        ],\n       [0.        , 1.        ],\n       [0.4       , 0.6       ],\n       [0.60714286, 0.39285714],\n       [0.88518519, 0.11481481],\n       [0.88518519, 0.11481481],\n       [0.88518519, 0.11481481],\n       [1.        , 0.        ],\n       [0.58823529, 0.41176471],\n       [0.60714286, 0.39285714],\n       [0.88518519, 0.11481481],\n       [0.88518519, 0.11481481],\n       [0.60714286, 0.39285714],\n       [0.        , 1.        ],\n       [0.88518519, 0.11481481],\n       [0.88518519, 0.11481481],\n       [0.88518519, 0.11481481],\n       [0.88518519, 0.11481481],\n       [0.07692308, 0.92307692],\n       [0.        , 1.        ],\n       [0.        , 1.        ],\n       [0.88518519, 0.11481481],\n       [0.        , 1.        ],\n       [1.        , 0.        ],\n       [0.88518519, 0.11481481],\n       [0.65625   , 0.34375   ],\n       [0.        , 1.        ],\n       [1.        , 0.        ],\n       [0.88518519, 0.11481481],\n       [0.        , 1.        ],\n       [0.88518519, 0.11481481],\n       [0.125     , 0.875     ],\n       [0.88518519, 0.11481481],\n       [0.88518519, 0.11481481],\n       [0.58823529, 0.41176471],\n       [0.88518519, 0.11481481],\n       [0.        , 1.        ],\n       [0.88518519, 0.11481481],\n       [1.        , 0.        ],\n       [0.        , 1.        ],\n       [1.        , 0.        ],\n       [0.4       , 0.6       ],\n       [1.        , 0.        ],\n       [0.88518519, 0.11481481],\n       [0.88518519, 0.11481481],\n       [0.        , 1.        ],\n       [0.88518519, 0.11481481],\n       [0.60714286, 0.39285714],\n       [0.88518519, 0.11481481],\n       [0.        , 1.        ],\n       [0.88518519, 0.11481481],\n       [0.        , 1.        ],\n       [0.        , 1.        ],\n       [0.65625   , 0.34375   ],\n       [0.88518519, 0.11481481],\n       [0.        , 1.        ],\n       [0.88518519, 0.11481481],\n       [0.23809524, 0.76190476],\n       [0.88518519, 0.11481481],\n       [0.65625   , 0.34375   ],\n       [0.07692308, 0.92307692],\n       [0.65625   , 0.34375   ],\n       [0.        , 1.        ],\n       [0.88518519, 0.11481481],\n       [0.88518519, 0.11481481],\n       [0.        , 1.        ],\n       [0.88518519, 0.11481481],\n       [0.65625   , 0.34375   ],\n       [0.88518519, 0.11481481],\n       [0.88518519, 0.11481481],\n       [0.88518519, 0.11481481],\n       [0.88518519, 0.11481481],\n       [0.88518519, 0.11481481],\n       [0.60714286, 0.39285714],\n       [0.65625   , 0.34375   ],\n       [0.88518519, 0.11481481],\n       [0.88518519, 0.11481481],\n       [0.88518519, 0.11481481],\n       [1.        , 0.        ],\n       [0.88518519, 0.11481481],\n       [0.88518519, 0.11481481],\n       [0.07692308, 0.92307692],\n       [0.88518519, 0.11481481],\n       [0.        , 1.        ],\n       [0.        , 1.        ],\n       [0.4       , 0.6       ],\n       [0.        , 1.        ],\n       [0.88518519, 0.11481481],\n       [1.        , 0.        ],\n       [0.60714286, 0.39285714],\n       [0.88518519, 0.11481481],\n       [0.60714286, 0.39285714],\n       [0.58823529, 0.41176471],\n       [0.88518519, 0.11481481],\n       [0.65625   , 0.34375   ],\n       [0.88518519, 0.11481481],\n       [0.88518519, 0.11481481],\n       [0.125     , 0.875     ],\n       [0.        , 1.        ],\n       [0.88518519, 0.11481481],\n       [0.88518519, 0.11481481],\n       [0.88518519, 0.11481481],\n       [0.        , 1.        ],\n       [0.88518519, 0.11481481],\n       [0.88518519, 0.11481481],\n       [0.88518519, 0.11481481],\n       [0.        , 1.        ],\n       [0.88518519, 0.11481481],\n       [0.88518519, 0.11481481],\n       [1.        , 0.        ],\n       [0.65625   , 0.34375   ],\n       [0.88518519, 0.11481481],\n       [0.        , 1.        ],\n       [0.6       , 0.4       ],\n       [0.88518519, 0.11481481],\n       [0.88518519, 0.11481481],\n       [0.        , 1.        ],\n       [0.        , 1.        ],\n       [0.88518519, 0.11481481]])"
     },
     "execution_count": 103,
     "metadata": {},
     "output_type": "execute_result"
    }
   ],
   "source": [
    "y_predicted_prob\n",
    "# Тут можем наблюдать вероятности, в отличие от y_pred, где нули и единицы и отсечка по умолчанию происходит по вероятности 0.5"
   ],
   "metadata": {
    "collapsed": false,
    "pycharm": {
     "name": "#%%\n"
    }
   }
  },
  {
   "cell_type": "code",
   "execution_count": 104,
   "outputs": [
    {
     "data": {
      "text/plain": "<AxesSubplot:>"
     },
     "execution_count": 104,
     "metadata": {},
     "output_type": "execute_result"
    },
    {
     "data": {
      "text/plain": "<Figure size 432x288 with 1 Axes>",
      "image/png": "[encoded data removed]"
     },
     "metadata": {
      "needs_background": "light"
     },
     "output_type": "display_data"
    }
   ],
   "source": [
    "pd.Series(y_predicted_prob[:, 1]).hist()"
   ],
   "metadata": {
    "collapsed": false,
    "pycharm": {
     "name": "#%%\n"
    }
   }
  },
  {
   "cell_type": "code",
   "execution_count": 106,
   "outputs": [],
   "source": [
    "# Попробуем сделать другую отсечку, например по 0.8\n",
    "y_pred = np.where(y_predicted_prob[:, 1] > 0.8, 1, 0)"
   ],
   "metadata": {
    "collapsed": false,
    "pycharm": {
     "name": "#%%\n"
    }
   }
  },
  {
   "cell_type": "code",
   "execution_count": 107,
   "outputs": [
    {
     "data": {
      "text/plain": "0.8611111111111112"
     },
     "execution_count": 107,
     "metadata": {},
     "output_type": "execute_result"
    }
   ],
   "source": [
    "precision_score(y_test, y_pred)\n",
    "# Точность повысилась"
   ],
   "metadata": {
    "collapsed": false,
    "pycharm": {
     "name": "#%%\n"
    }
   }
  },
  {
   "cell_type": "code",
   "execution_count": 109,
   "outputs": [
    {
     "data": {
      "text/plain": "0.5166666666666667"
     },
     "execution_count": 109,
     "metadata": {},
     "output_type": "execute_result"
    }
   ],
   "source": [
    "recall_score(y_test, y_pred)\n",
    "# А recall упал"
   ],
   "metadata": {
    "collapsed": false,
    "pycharm": {
     "name": "#%%\n"
    }
   }
  },
  {
   "cell_type": "code",
   "execution_count": 111,
   "outputs": [
    {
     "data": {
      "text/plain": "11"
     },
     "execution_count": 111,
     "metadata": {},
     "output_type": "execute_result"
    }
   ],
   "source": [
    "pd.Series(y_predicted_prob[:, 1]).nunique()\n",
    "# Показывает что множество значений не бесконечно"
   ],
   "metadata": {
    "collapsed": false,
    "pycharm": {
     "name": "#%%\n"
    }
   }
  },
  {
   "cell_type": "code",
   "execution_count": 112,
   "outputs": [
    {
     "data": {
      "text/plain": "<Figure size 432x288 with 1 Axes>",
      "image/png": "[encoded data removed]"
     },
     "metadata": {
      "needs_background": "light"
     },
     "output_type": "display_data"
    }
   ],
   "source": [
    "# Рок кривая показывает какой процент выживших мы действительно классифицировали как выжившие и то для какого процента пассажиров с отрицательным классом мы дали неправильный ответ.\n",
    "from sklearn.metrics import roc_curve, auc\n",
    "lw = 2\n",
    "fpr, tpr, thresholds = roc_curve(y_test, y_predicted_prob[:,1])\n",
    "roc_auc= auc(fpr, tpr)\n",
    "plt.figure()\n",
    "plt.plot(fpr, tpr, color='darkorange',\n",
    "         lw=lw, label='ROC curve (area = %0.2f)' % roc_auc)\n",
    "plt.plot([0, 1], [0, 1], color='navy', lw=lw, linestyle='--')\n",
    "plt.xlim([0.0, 1.0])\n",
    "plt.ylim([0.0, 1.05])\n",
    "plt.xlabel('False Positive Rate')\n",
    "plt.ylabel('True Positive Rate')\n",
    "plt.title('Receiver operating characteristic example')\n",
    "plt.legend(loc=\"lower right\")\n",
    "plt.show()"
   ],
   "metadata": {
    "collapsed": false,
    "pycharm": {
     "name": "#%%\n"
    }
   }
  },
  {
   "cell_type": "code",
   "execution_count": null,
   "outputs": [],
   "source": [],
   "metadata": {
    "collapsed": false,
    "pycharm": {
     "name": "#%%\n"
    }
   }
  }
 ],
 "metadata": {
  "kernelspec": {
   "display_name": "Python 3",
   "language": "python",
   "name": "python3"
  },
  "language_info": {
   "codemirror_mode": {
    "name": "ipython",
    "version": 2
   },
   "file_extension": ".py",
   "mimetype": "text/x-python",
   "name": "python",
   "nbconvert_exporter": "python",
   "pygments_lexer": "ipython2",
   "version": "2.7.6"
  }
 },
 "nbformat": 4,
 "nbformat_minor": 0
}