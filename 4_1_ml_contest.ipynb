{
 "cells": [
  {
   "cell_type": "code",
   "execution_count": 299,
   "metadata": {
    "collapsed": true
   },
   "outputs": [
    {
     "data": {
      "text/plain": "<IPython.core.display.HTML object>",
      "text/html": "<style>svg{width:70% !important;height:70% !important;}</style>"
     },
     "execution_count": 299,
     "metadata": {},
     "output_type": "execute_result"
    }
   ],
   "source": [
    "import numpy as np\n",
    "import pandas as pd\n",
    "import matplotlib.pyplot as plt\n",
    "import seaborn as sns\n",
    "sns.set(rc={'figure.figsize': (20, 6)})\n",
    "%matplotlib inline\n",
    "\n",
    "from sklearn import tree\n",
    "from sklearn.model_selection import train_test_split\n",
    "from sklearn.model_selection import cross_val_score\n",
    "from sklearn.metrics import f1_score, roc_auc_score\n",
    "from sklearn.model_selection import GridSearchCV\n",
    "from sklearn.ensemble import RandomForestClassifier\n",
    "from sklearn.datasets import make_classification\n",
    "\n",
    "%matplotlib inline\n",
    "from IPython.display import SVG\n",
    "from graphviz import Source\n",
    "from IPython.display import display\n",
    "from IPython.display import HTML\n",
    "style = \"<style>svg{width:70% !important;height:70% !important;}</style>\"\n",
    "HTML(style)\n"
   ]
  },
  {
   "cell_type": "markdown",
   "source": [
    "# events_data_test.csv - данные о действиях, которые совершают студенты со стэпами\n",
    "\n",
    "step_id - id стэпа\n",
    "user_id - анонимизированный id юзера\n",
    "timestamp - время наступления события в формате unix date\n",
    "action - событие, возможные значения:\n",
    "discovered - пользователь перешел на стэп\n",
    "viewed - просмотр шага,\n",
    "started_attempt - начало попытки решить шаг, ранее нужно было явно нажать на кнопку - начать решение, перед тем как приступить к решению практического шага\n",
    "passed - удачное решение практического шага"
   ],
   "metadata": {
    "collapsed": false,
    "pycharm": {
     "name": "#%% md\n"
    }
   }
  },
  {
   "cell_type": "code",
   "execution_count": 300,
   "outputs": [
    {
     "data": {
      "text/plain": "   step_id   timestamp      action  user_id\n0    30456  1526893787      viewed    24417\n1    30456  1526893797      viewed    24417\n2    30456  1526893954      viewed    24417\n3    30456  1526895780      viewed    24417\n4    30456  1526893787  discovered    24417",
      "text/html": "<div>\n<style scoped>\n    .dataframe tbody tr th:only-of-type {\n        vertical-align: middle;\n    }\n\n    .dataframe tbody tr th {\n        vertical-align: top;\n    }\n\n    .dataframe thead th {\n        text-align: right;\n    }\n</style>\n<table border=\"1\" class=\"dataframe\">\n  <thead>\n    <tr style=\"text-align: right;\">\n      <th></th>\n      <th>step_id</th>\n      <th>timestamp</th>\n      <th>action</th>\n      <th>user_id</th>\n    </tr>\n  </thead>\n  <tbody>\n    <tr>\n      <th>0</th>\n      <td>30456</td>\n      <td>1526893787</td>\n      <td>viewed</td>\n      <td>24417</td>\n    </tr>\n    <tr>\n      <th>1</th>\n      <td>30456</td>\n      <td>1526893797</td>\n      <td>viewed</td>\n      <td>24417</td>\n    </tr>\n    <tr>\n      <th>2</th>\n      <td>30456</td>\n      <td>1526893954</td>\n      <td>viewed</td>\n      <td>24417</td>\n    </tr>\n    <tr>\n      <th>3</th>\n      <td>30456</td>\n      <td>1526895780</td>\n      <td>viewed</td>\n      <td>24417</td>\n    </tr>\n    <tr>\n      <th>4</th>\n      <td>30456</td>\n      <td>1526893787</td>\n      <td>discovered</td>\n      <td>24417</td>\n    </tr>\n  </tbody>\n</table>\n</div>"
     },
     "execution_count": 300,
     "metadata": {},
     "output_type": "execute_result"
    }
   ],
   "source": [
    "df_events = pd.read_csv('data/events_data_test.csv')\n",
    "df_events.head()"
   ],
   "metadata": {
    "collapsed": false,
    "pycharm": {
     "name": "#%%\n"
    }
   }
  },
  {
   "cell_type": "markdown",
   "source": [
    "# submission_data_test.csv - данные о времени и статусах сабмитов к практическим заданиям\n",
    "\n",
    "step_id - id стэпа\n",
    "timestamp - время отправки решения в формате unix date\n",
    "submission_status - статус решения\n",
    "user_id - анонимизированный id юзера"
   ],
   "metadata": {
    "collapsed": false,
    "pycharm": {
     "name": "#%% md\n"
    }
   }
  },
  {
   "cell_type": "code",
   "execution_count": 301,
   "outputs": [
    {
     "data": {
      "text/plain": "   step_id   timestamp submission_status  user_id\n0    31971  1526800961             wrong    24370\n1    31971  1526800976             wrong    24370\n2    31971  1526800993             wrong    24370\n3    31971  1526801054           correct    24370\n4    31972  1526800664             wrong    24370",
      "text/html": "<div>\n<style scoped>\n    .dataframe tbody tr th:only-of-type {\n        vertical-align: middle;\n    }\n\n    .dataframe tbody tr th {\n        vertical-align: top;\n    }\n\n    .dataframe thead th {\n        text-align: right;\n    }\n</style>\n<table border=\"1\" class=\"dataframe\">\n  <thead>\n    <tr style=\"text-align: right;\">\n      <th></th>\n      <th>step_id</th>\n      <th>timestamp</th>\n      <th>submission_status</th>\n      <th>user_id</th>\n    </tr>\n  </thead>\n  <tbody>\n    <tr>\n      <th>0</th>\n      <td>31971</td>\n      <td>1526800961</td>\n      <td>wrong</td>\n      <td>24370</td>\n    </tr>\n    <tr>\n      <th>1</th>\n      <td>31971</td>\n      <td>1526800976</td>\n      <td>wrong</td>\n      <td>24370</td>\n    </tr>\n    <tr>\n      <th>2</th>\n      <td>31971</td>\n      <td>1526800993</td>\n      <td>wrong</td>\n      <td>24370</td>\n    </tr>\n    <tr>\n      <th>3</th>\n      <td>31971</td>\n      <td>1526801054</td>\n      <td>correct</td>\n      <td>24370</td>\n    </tr>\n    <tr>\n      <th>4</th>\n      <td>31972</td>\n      <td>1526800664</td>\n      <td>wrong</td>\n      <td>24370</td>\n    </tr>\n  </tbody>\n</table>\n</div>"
     },
     "execution_count": 301,
     "metadata": {},
     "output_type": "execute_result"
    }
   ],
   "source": [
    "df_submission = pd.read_csv('data/submission_data_test.csv')\n",
    "df_submission.head()"
   ],
   "metadata": {
    "collapsed": false,
    "pycharm": {
     "name": "#%%\n"
    }
   }
  },
  {
   "cell_type": "code",
   "execution_count": 302,
   "outputs": [
    {
     "data": {
      "text/plain": "(274768, 4)"
     },
     "execution_count": 302,
     "metadata": {},
     "output_type": "execute_result"
    }
   ],
   "source": [
    "df_events.shape"
   ],
   "metadata": {
    "collapsed": false,
    "pycharm": {
     "name": "#%%\n"
    }
   }
  },
  {
   "cell_type": "code",
   "execution_count": 303,
   "outputs": [
    {
     "data": {
      "text/plain": "(42261, 4)"
     },
     "execution_count": 303,
     "metadata": {},
     "output_type": "execute_result"
    }
   ],
   "source": [
    "df_submission.shape"
   ],
   "metadata": {
    "collapsed": false,
    "pycharm": {
     "name": "#%%\n"
    }
   }
  },
  {
   "cell_type": "code",
   "execution_count": 304,
   "outputs": [
    {
     "data": {
      "text/plain": "['step_id', 'timestamp', 'submission_status', 'user_id']"
     },
     "execution_count": 304,
     "metadata": {},
     "output_type": "execute_result"
    }
   ],
   "source": [
    "list(df_submission)"
   ],
   "metadata": {
    "collapsed": false,
    "pycharm": {
     "name": "#%%\n"
    }
   }
  },
  {
   "cell_type": "code",
   "execution_count": 305,
   "outputs": [
    {
     "data": {
      "text/plain": "wrong      21186\ncorrect    21075\nName: submission_status, dtype: int64"
     },
     "execution_count": 305,
     "metadata": {},
     "output_type": "execute_result"
    }
   ],
   "source": [
    "df_submission.submission_status.value_counts()"
   ],
   "metadata": {
    "collapsed": false,
    "pycharm": {
     "name": "#%%\n"
    }
   }
  },
  {
   "cell_type": "code",
   "execution_count": 306,
   "outputs": [
    {
     "data": {
      "text/plain": "Index(['step_id', 'timestamp', 'submission_status', 'user_id'], dtype='object')"
     },
     "execution_count": 306,
     "metadata": {},
     "output_type": "execute_result"
    }
   ],
   "source": [
    "df_submission.columns"
   ],
   "metadata": {
    "collapsed": false,
    "pycharm": {
     "name": "#%%\n"
    }
   }
  },
  {
   "cell_type": "code",
   "execution_count": 307,
   "outputs": [
    {
     "data": {
      "text/plain": "Index(['step_id', 'timestamp', 'action', 'user_id'], dtype='object')"
     },
     "execution_count": 307,
     "metadata": {},
     "output_type": "execute_result"
    }
   ],
   "source": [
    "df_events.columns"
   ],
   "metadata": {
    "collapsed": false,
    "pycharm": {
     "name": "#%%\n"
    }
   }
  },
  {
   "cell_type": "code",
   "execution_count": 308,
   "outputs": [
    {
     "data": {
      "text/plain": "step_id      0\ntimestamp    0\naction       0\nuser_id      0\ndtype: int64"
     },
     "execution_count": 308,
     "metadata": {},
     "output_type": "execute_result"
    }
   ],
   "source": [
    "df_events.isnull().sum()"
   ],
   "metadata": {
    "collapsed": false,
    "pycharm": {
     "name": "#%%\n"
    }
   }
  },
  {
   "cell_type": "code",
   "execution_count": 309,
   "outputs": [
    {
     "data": {
      "text/plain": "step_id              0\ntimestamp            0\nsubmission_status    0\nuser_id              0\ndtype: int64"
     },
     "execution_count": 309,
     "metadata": {},
     "output_type": "execute_result"
    }
   ],
   "source": [
    "df_submission.isnull().sum()"
   ],
   "metadata": {
    "collapsed": false,
    "pycharm": {
     "name": "#%%\n"
    }
   }
  },
  {
   "cell_type": "code",
   "execution_count": 310,
   "outputs": [
    {
     "data": {
      "text/plain": "   step_id   timestamp      action  user_id\n0    30456  1526893787      viewed    24417\n1    30456  1526893797      viewed    24417\n2    30456  1526893954      viewed    24417\n3    30456  1526895780      viewed    24417\n4    30456  1526893787  discovered    24417",
      "text/html": "<div>\n<style scoped>\n    .dataframe tbody tr th:only-of-type {\n        vertical-align: middle;\n    }\n\n    .dataframe tbody tr th {\n        vertical-align: top;\n    }\n\n    .dataframe thead th {\n        text-align: right;\n    }\n</style>\n<table border=\"1\" class=\"dataframe\">\n  <thead>\n    <tr style=\"text-align: right;\">\n      <th></th>\n      <th>step_id</th>\n      <th>timestamp</th>\n      <th>action</th>\n      <th>user_id</th>\n    </tr>\n  </thead>\n  <tbody>\n    <tr>\n      <th>0</th>\n      <td>30456</td>\n      <td>1526893787</td>\n      <td>viewed</td>\n      <td>24417</td>\n    </tr>\n    <tr>\n      <th>1</th>\n      <td>30456</td>\n      <td>1526893797</td>\n      <td>viewed</td>\n      <td>24417</td>\n    </tr>\n    <tr>\n      <th>2</th>\n      <td>30456</td>\n      <td>1526893954</td>\n      <td>viewed</td>\n      <td>24417</td>\n    </tr>\n    <tr>\n      <th>3</th>\n      <td>30456</td>\n      <td>1526895780</td>\n      <td>viewed</td>\n      <td>24417</td>\n    </tr>\n    <tr>\n      <th>4</th>\n      <td>30456</td>\n      <td>1526893787</td>\n      <td>discovered</td>\n      <td>24417</td>\n    </tr>\n  </tbody>\n</table>\n</div>"
     },
     "execution_count": 310,
     "metadata": {},
     "output_type": "execute_result"
    }
   ],
   "source": [
    "df_events[df_events.user_id == 24417].head()"
   ],
   "metadata": {
    "collapsed": false,
    "pycharm": {
     "name": "#%%\n"
    }
   }
  },
  {
   "cell_type": "code",
   "execution_count": 311,
   "outputs": [
    {
     "data": {
      "text/plain": "viewed             118276\ndiscovered          67268\npassed              62357\nstarted_attempt     26867\nName: action, dtype: int64"
     },
     "execution_count": 311,
     "metadata": {},
     "output_type": "execute_result"
    }
   ],
   "source": [
    "df_events.action.value_counts()"
   ],
   "metadata": {
    "collapsed": false,
    "pycharm": {
     "name": "#%%\n"
    }
   }
  },
  {
   "cell_type": "markdown",
   "source": [
    "# Фичи, которые могут быть важны:\n",
    "1. Количество уникальных степов у пользователя (sum step_id)\n",
    "2. Количество просмотренных степов (viewed (просмотр))\n",
    "3. Количество переходов на шаг (discovered (исследование))\n",
    "4. Количество попыток решить шаг (started_attempt (начать_попытку))\n",
    "5. Среднее время между шагами (timestamp)\n",
    "6."
   ],
   "metadata": {
    "collapsed": false,
    "pycharm": {
     "name": "#%% md\n"
    }
   }
  },
  {
   "cell_type": "code",
   "execution_count": 312,
   "outputs": [
    {
     "data": {
      "text/plain": "   user_id  step_id\n0        4        3\n1        6        3\n2       10       10\n3       12       38\n4       13      280",
      "text/html": "<div>\n<style scoped>\n    .dataframe tbody tr th:only-of-type {\n        vertical-align: middle;\n    }\n\n    .dataframe tbody tr th {\n        vertical-align: top;\n    }\n\n    .dataframe thead th {\n        text-align: right;\n    }\n</style>\n<table border=\"1\" class=\"dataframe\">\n  <thead>\n    <tr style=\"text-align: right;\">\n      <th></th>\n      <th>user_id</th>\n      <th>step_id</th>\n    </tr>\n  </thead>\n  <tbody>\n    <tr>\n      <th>0</th>\n      <td>4</td>\n      <td>3</td>\n    </tr>\n    <tr>\n      <th>1</th>\n      <td>6</td>\n      <td>3</td>\n    </tr>\n    <tr>\n      <th>2</th>\n      <td>10</td>\n      <td>10</td>\n    </tr>\n    <tr>\n      <th>3</th>\n      <td>12</td>\n      <td>38</td>\n    </tr>\n    <tr>\n      <th>4</th>\n      <td>13</td>\n      <td>280</td>\n    </tr>\n  </tbody>\n</table>\n</div>"
     },
     "execution_count": 312,
     "metadata": {},
     "output_type": "execute_result"
    }
   ],
   "source": [
    "df_events.groupby('user_id', as_index=False).step_id.count().head()"
   ],
   "metadata": {
    "collapsed": false,
    "pycharm": {
     "name": "#%%\n"
    }
   }
  },
  {
   "cell_type": "code",
   "execution_count": 313,
   "outputs": [
    {
     "data": {
      "text/plain": "(6184, 2)"
     },
     "execution_count": 313,
     "metadata": {},
     "output_type": "execute_result"
    }
   ],
   "source": [
    "example_result = pd.read_csv('data/submission_example.csv')\n",
    "example_result.shape"
   ],
   "metadata": {
    "collapsed": false,
    "pycharm": {
     "name": "#%%\n"
    }
   }
  },
  {
   "cell_type": "code",
   "execution_count": 314,
   "outputs": [
    {
     "data": {
      "text/plain": "   user_id  step_id\n0       12        1\n1       13       65\n2       15       40\n3       21      127\n4       35       42",
      "text/html": "<div>\n<style scoped>\n    .dataframe tbody tr th:only-of-type {\n        vertical-align: middle;\n    }\n\n    .dataframe tbody tr th {\n        vertical-align: top;\n    }\n\n    .dataframe thead th {\n        text-align: right;\n    }\n</style>\n<table border=\"1\" class=\"dataframe\">\n  <thead>\n    <tr style=\"text-align: right;\">\n      <th></th>\n      <th>user_id</th>\n      <th>step_id</th>\n    </tr>\n  </thead>\n  <tbody>\n    <tr>\n      <th>0</th>\n      <td>12</td>\n      <td>1</td>\n    </tr>\n    <tr>\n      <th>1</th>\n      <td>13</td>\n      <td>65</td>\n    </tr>\n    <tr>\n      <th>2</th>\n      <td>15</td>\n      <td>40</td>\n    </tr>\n    <tr>\n      <th>3</th>\n      <td>21</td>\n      <td>127</td>\n    </tr>\n    <tr>\n      <th>4</th>\n      <td>35</td>\n      <td>42</td>\n    </tr>\n  </tbody>\n</table>\n</div>"
     },
     "execution_count": 314,
     "metadata": {},
     "output_type": "execute_result"
    }
   ],
   "source": [
    "df_submission.groupby('user_id', as_index=False).step_id.count().head()"
   ],
   "metadata": {
    "collapsed": false,
    "pycharm": {
     "name": "#%%\n"
    }
   }
  },
  {
   "cell_type": "code",
   "execution_count": 315,
   "outputs": [
    {
     "data": {
      "text/plain": "array(['wrong', 'correct'], dtype=object)"
     },
     "execution_count": 315,
     "metadata": {},
     "output_type": "execute_result"
    }
   ],
   "source": [
    "# Возьмем код из степа 1_10 и 2_10 где мы формировали фичи\n",
    "df_submission.submission_status.unique()"
   ],
   "metadata": {
    "collapsed": false,
    "pycharm": {
     "name": "#%%\n"
    }
   }
  },
  {
   "cell_type": "code",
   "execution_count": 316,
   "outputs": [
    {
     "data": {
      "text/plain": "   step_id   timestamp      action  user_id\n0    30456  1526893787      viewed    24417\n1    30456  1526893797      viewed    24417\n2    30456  1526893954      viewed    24417\n3    30456  1526895780      viewed    24417\n4    30456  1526893787  discovered    24417",
      "text/html": "<div>\n<style scoped>\n    .dataframe tbody tr th:only-of-type {\n        vertical-align: middle;\n    }\n\n    .dataframe tbody tr th {\n        vertical-align: top;\n    }\n\n    .dataframe thead th {\n        text-align: right;\n    }\n</style>\n<table border=\"1\" class=\"dataframe\">\n  <thead>\n    <tr style=\"text-align: right;\">\n      <th></th>\n      <th>step_id</th>\n      <th>timestamp</th>\n      <th>action</th>\n      <th>user_id</th>\n    </tr>\n  </thead>\n  <tbody>\n    <tr>\n      <th>0</th>\n      <td>30456</td>\n      <td>1526893787</td>\n      <td>viewed</td>\n      <td>24417</td>\n    </tr>\n    <tr>\n      <th>1</th>\n      <td>30456</td>\n      <td>1526893797</td>\n      <td>viewed</td>\n      <td>24417</td>\n    </tr>\n    <tr>\n      <th>2</th>\n      <td>30456</td>\n      <td>1526893954</td>\n      <td>viewed</td>\n      <td>24417</td>\n    </tr>\n    <tr>\n      <th>3</th>\n      <td>30456</td>\n      <td>1526895780</td>\n      <td>viewed</td>\n      <td>24417</td>\n    </tr>\n    <tr>\n      <th>4</th>\n      <td>30456</td>\n      <td>1526893787</td>\n      <td>discovered</td>\n      <td>24417</td>\n    </tr>\n  </tbody>\n</table>\n</div>"
     },
     "execution_count": 316,
     "metadata": {},
     "output_type": "execute_result"
    }
   ],
   "source": [
    "df_events.head()"
   ],
   "metadata": {
    "collapsed": false,
    "pycharm": {
     "name": "#%%\n"
    }
   }
  },
  {
   "cell_type": "code",
   "execution_count": 317,
   "outputs": [],
   "source": [
    "# Преобразуем дату в более читаемый и удобный для работы вид\n",
    "df_events['date'] = pd.to_datetime(df_events.timestamp, unit='s')"
   ],
   "metadata": {
    "collapsed": false,
    "pycharm": {
     "name": "#%%\n"
    }
   }
  },
  {
   "cell_type": "code",
   "execution_count": 318,
   "outputs": [
    {
     "data": {
      "text/plain": "   step_id   timestamp      action  user_id                date\n0    30456  1526893787      viewed    24417 2018-05-21 09:09:47\n1    30456  1526893797      viewed    24417 2018-05-21 09:09:57\n2    30456  1526893954      viewed    24417 2018-05-21 09:12:34\n3    30456  1526895780      viewed    24417 2018-05-21 09:43:00\n4    30456  1526893787  discovered    24417 2018-05-21 09:09:47",
      "text/html": "<div>\n<style scoped>\n    .dataframe tbody tr th:only-of-type {\n        vertical-align: middle;\n    }\n\n    .dataframe tbody tr th {\n        vertical-align: top;\n    }\n\n    .dataframe thead th {\n        text-align: right;\n    }\n</style>\n<table border=\"1\" class=\"dataframe\">\n  <thead>\n    <tr style=\"text-align: right;\">\n      <th></th>\n      <th>step_id</th>\n      <th>timestamp</th>\n      <th>action</th>\n      <th>user_id</th>\n      <th>date</th>\n    </tr>\n  </thead>\n  <tbody>\n    <tr>\n      <th>0</th>\n      <td>30456</td>\n      <td>1526893787</td>\n      <td>viewed</td>\n      <td>24417</td>\n      <td>2018-05-21 09:09:47</td>\n    </tr>\n    <tr>\n      <th>1</th>\n      <td>30456</td>\n      <td>1526893797</td>\n      <td>viewed</td>\n      <td>24417</td>\n      <td>2018-05-21 09:09:57</td>\n    </tr>\n    <tr>\n      <th>2</th>\n      <td>30456</td>\n      <td>1526893954</td>\n      <td>viewed</td>\n      <td>24417</td>\n      <td>2018-05-21 09:12:34</td>\n    </tr>\n    <tr>\n      <th>3</th>\n      <td>30456</td>\n      <td>1526895780</td>\n      <td>viewed</td>\n      <td>24417</td>\n      <td>2018-05-21 09:43:00</td>\n    </tr>\n    <tr>\n      <th>4</th>\n      <td>30456</td>\n      <td>1526893787</td>\n      <td>discovered</td>\n      <td>24417</td>\n      <td>2018-05-21 09:09:47</td>\n    </tr>\n  </tbody>\n</table>\n</div>"
     },
     "execution_count": 318,
     "metadata": {},
     "output_type": "execute_result"
    }
   ],
   "source": [
    "df_events.head()"
   ],
   "metadata": {
    "collapsed": false,
    "pycharm": {
     "name": "#%%\n"
    }
   }
  },
  {
   "cell_type": "code",
   "execution_count": 319,
   "outputs": [
    {
     "data": {
      "text/plain": "step_id               int64\ntimestamp             int64\naction               object\nuser_id               int64\ndate         datetime64[ns]\ndtype: object"
     },
     "execution_count": 319,
     "metadata": {},
     "output_type": "execute_result"
    }
   ],
   "source": [
    "df_events.dtypes"
   ],
   "metadata": {
    "collapsed": false,
    "pycharm": {
     "name": "#%%\n"
    }
   }
  },
  {
   "cell_type": "code",
   "execution_count": 320,
   "outputs": [
    {
     "data": {
      "text/plain": "Timestamp('2018-05-20 03:59:01')"
     },
     "execution_count": 320,
     "metadata": {},
     "output_type": "execute_result"
    }
   ],
   "source": [
    "df_events.date.min()"
   ],
   "metadata": {
    "collapsed": false,
    "pycharm": {
     "name": "#%%\n"
    }
   }
  },
  {
   "cell_type": "code",
   "execution_count": 321,
   "outputs": [
    {
     "data": {
      "text/plain": "Timestamp('2019-01-20 17:00:43')"
     },
     "execution_count": 321,
     "metadata": {},
     "output_type": "execute_result"
    }
   ],
   "source": [
    "df_events.date.max()"
   ],
   "metadata": {
    "collapsed": false,
    "pycharm": {
     "name": "#%%\n"
    }
   }
  },
  {
   "cell_type": "code",
   "execution_count": 322,
   "outputs": [],
   "source": [
    "df_events['day'] = df_events.date.dt.date"
   ],
   "metadata": {
    "collapsed": false,
    "pycharm": {
     "name": "#%%\n"
    }
   }
  },
  {
   "cell_type": "code",
   "execution_count": 323,
   "outputs": [
    {
     "data": {
      "text/plain": "   step_id   timestamp      action  user_id                date         day\n0    30456  1526893787      viewed    24417 2018-05-21 09:09:47  2018-05-21\n1    30456  1526893797      viewed    24417 2018-05-21 09:09:57  2018-05-21\n2    30456  1526893954      viewed    24417 2018-05-21 09:12:34  2018-05-21\n3    30456  1526895780      viewed    24417 2018-05-21 09:43:00  2018-05-21\n4    30456  1526893787  discovered    24417 2018-05-21 09:09:47  2018-05-21",
      "text/html": "<div>\n<style scoped>\n    .dataframe tbody tr th:only-of-type {\n        vertical-align: middle;\n    }\n\n    .dataframe tbody tr th {\n        vertical-align: top;\n    }\n\n    .dataframe thead th {\n        text-align: right;\n    }\n</style>\n<table border=\"1\" class=\"dataframe\">\n  <thead>\n    <tr style=\"text-align: right;\">\n      <th></th>\n      <th>step_id</th>\n      <th>timestamp</th>\n      <th>action</th>\n      <th>user_id</th>\n      <th>date</th>\n      <th>day</th>\n    </tr>\n  </thead>\n  <tbody>\n    <tr>\n      <th>0</th>\n      <td>30456</td>\n      <td>1526893787</td>\n      <td>viewed</td>\n      <td>24417</td>\n      <td>2018-05-21 09:09:47</td>\n      <td>2018-05-21</td>\n    </tr>\n    <tr>\n      <th>1</th>\n      <td>30456</td>\n      <td>1526893797</td>\n      <td>viewed</td>\n      <td>24417</td>\n      <td>2018-05-21 09:09:57</td>\n      <td>2018-05-21</td>\n    </tr>\n    <tr>\n      <th>2</th>\n      <td>30456</td>\n      <td>1526893954</td>\n      <td>viewed</td>\n      <td>24417</td>\n      <td>2018-05-21 09:12:34</td>\n      <td>2018-05-21</td>\n    </tr>\n    <tr>\n      <th>3</th>\n      <td>30456</td>\n      <td>1526895780</td>\n      <td>viewed</td>\n      <td>24417</td>\n      <td>2018-05-21 09:43:00</td>\n      <td>2018-05-21</td>\n    </tr>\n    <tr>\n      <th>4</th>\n      <td>30456</td>\n      <td>1526893787</td>\n      <td>discovered</td>\n      <td>24417</td>\n      <td>2018-05-21 09:09:47</td>\n      <td>2018-05-21</td>\n    </tr>\n  </tbody>\n</table>\n</div>"
     },
     "execution_count": 323,
     "metadata": {},
     "output_type": "execute_result"
    }
   ],
   "source": [
    "df_events.head()"
   ],
   "metadata": {
    "collapsed": false,
    "pycharm": {
     "name": "#%%\n"
    }
   }
  },
  {
   "cell_type": "code",
   "execution_count": 324,
   "outputs": [
    {
     "data": {
      "text/plain": "<AxesSubplot:xlabel='day'>"
     },
     "execution_count": 324,
     "metadata": {},
     "output_type": "execute_result"
    },
    {
     "data": {
      "text/plain": "<Figure size 1440x720 with 1 Axes>",
      "image/png": "[encoded data removed]"
     },
     "metadata": {
      "needs_background": "light"
     },
     "output_type": "display_data"
    }
   ],
   "source": [
    "# посмотрим на уникальные user_id в день\n",
    "# df_events.groupby('day').user_id.nunique().plot(figsize=(20,10))\n",
    "df_events.groupby('day').user_id.nunique().plot(figsize=(20,10))"
   ],
   "metadata": {
    "collapsed": false,
    "pycharm": {
     "name": "#%%\n"
    }
   }
  },
  {
   "cell_type": "code",
   "execution_count": 325,
   "outputs": [
    {
     "data": {
      "text/plain": "   step_id   timestamp      action  user_id                date         day\n0    30456  1526893787      viewed    24417 2018-05-21 09:09:47  2018-05-21\n1    30456  1526893797      viewed    24417 2018-05-21 09:09:57  2018-05-21\n2    30456  1526893954      viewed    24417 2018-05-21 09:12:34  2018-05-21\n3    30456  1526895780      viewed    24417 2018-05-21 09:43:00  2018-05-21\n4    30456  1526893787  discovered    24417 2018-05-21 09:09:47  2018-05-21",
      "text/html": "<div>\n<style scoped>\n    .dataframe tbody tr th:only-of-type {\n        vertical-align: middle;\n    }\n\n    .dataframe tbody tr th {\n        vertical-align: top;\n    }\n\n    .dataframe thead th {\n        text-align: right;\n    }\n</style>\n<table border=\"1\" class=\"dataframe\">\n  <thead>\n    <tr style=\"text-align: right;\">\n      <th></th>\n      <th>step_id</th>\n      <th>timestamp</th>\n      <th>action</th>\n      <th>user_id</th>\n      <th>date</th>\n      <th>day</th>\n    </tr>\n  </thead>\n  <tbody>\n    <tr>\n      <th>0</th>\n      <td>30456</td>\n      <td>1526893787</td>\n      <td>viewed</td>\n      <td>24417</td>\n      <td>2018-05-21 09:09:47</td>\n      <td>2018-05-21</td>\n    </tr>\n    <tr>\n      <th>1</th>\n      <td>30456</td>\n      <td>1526893797</td>\n      <td>viewed</td>\n      <td>24417</td>\n      <td>2018-05-21 09:09:57</td>\n      <td>2018-05-21</td>\n    </tr>\n    <tr>\n      <th>2</th>\n      <td>30456</td>\n      <td>1526893954</td>\n      <td>viewed</td>\n      <td>24417</td>\n      <td>2018-05-21 09:12:34</td>\n      <td>2018-05-21</td>\n    </tr>\n    <tr>\n      <th>3</th>\n      <td>30456</td>\n      <td>1526895780</td>\n      <td>viewed</td>\n      <td>24417</td>\n      <td>2018-05-21 09:43:00</td>\n      <td>2018-05-21</td>\n    </tr>\n    <tr>\n      <th>4</th>\n      <td>30456</td>\n      <td>1526893787</td>\n      <td>discovered</td>\n      <td>24417</td>\n      <td>2018-05-21 09:09:47</td>\n      <td>2018-05-21</td>\n    </tr>\n  </tbody>\n</table>\n</div>"
     },
     "execution_count": 325,
     "metadata": {},
     "output_type": "execute_result"
    }
   ],
   "source": [
    "df_events.head()"
   ],
   "metadata": {
    "collapsed": false,
    "pycharm": {
     "name": "#%%\n"
    }
   }
  },
  {
   "cell_type": "code",
   "execution_count": 326,
   "outputs": [
    {
     "data": {
      "text/plain": "action  user_id  discovered  passed  started_attempt  viewed\n0             4           1       1                0       1\n1             6           1       1                0       1\n2            10           2       2                0       6\n3            12          11       9                4      14\n4            13          70      70               35     105",
      "text/html": "<div>\n<style scoped>\n    .dataframe tbody tr th:only-of-type {\n        vertical-align: middle;\n    }\n\n    .dataframe tbody tr th {\n        vertical-align: top;\n    }\n\n    .dataframe thead th {\n        text-align: right;\n    }\n</style>\n<table border=\"1\" class=\"dataframe\">\n  <thead>\n    <tr style=\"text-align: right;\">\n      <th>action</th>\n      <th>user_id</th>\n      <th>discovered</th>\n      <th>passed</th>\n      <th>started_attempt</th>\n      <th>viewed</th>\n    </tr>\n  </thead>\n  <tbody>\n    <tr>\n      <th>0</th>\n      <td>4</td>\n      <td>1</td>\n      <td>1</td>\n      <td>0</td>\n      <td>1</td>\n    </tr>\n    <tr>\n      <th>1</th>\n      <td>6</td>\n      <td>1</td>\n      <td>1</td>\n      <td>0</td>\n      <td>1</td>\n    </tr>\n    <tr>\n      <th>2</th>\n      <td>10</td>\n      <td>2</td>\n      <td>2</td>\n      <td>0</td>\n      <td>6</td>\n    </tr>\n    <tr>\n      <th>3</th>\n      <td>12</td>\n      <td>11</td>\n      <td>9</td>\n      <td>4</td>\n      <td>14</td>\n    </tr>\n    <tr>\n      <th>4</th>\n      <td>13</td>\n      <td>70</td>\n      <td>70</td>\n      <td>35</td>\n      <td>105</td>\n    </tr>\n  </tbody>\n</table>\n</div>"
     },
     "execution_count": 326,
     "metadata": {},
     "output_type": "execute_result"
    }
   ],
   "source": [
    "# Посмотрим сколько у нас пользователей с тем или иным набором баллов\n",
    "users_data = df_events.pivot_table(index='user_id', columns='action', values='step_id', aggfunc='count', fill_value=0).reset_index()\n",
    "users_data.head()"
   ],
   "metadata": {
    "collapsed": false,
    "pycharm": {
     "name": "#%%\n"
    }
   }
  },
  {
   "cell_type": "code",
   "execution_count": 327,
   "outputs": [
    {
     "data": {
      "text/plain": "<AxesSubplot:>"
     },
     "execution_count": 327,
     "metadata": {},
     "output_type": "execute_result"
    },
    {
     "data": {
      "text/plain": "<Figure size 432x288 with 1 Axes>",
      "image/png": "[encoded data removed]"
     },
     "metadata": {
      "needs_background": "light"
     },
     "output_type": "display_data"
    }
   ],
   "source": [
    "users_data.discovered.hist()"
   ],
   "metadata": {
    "collapsed": false,
    "pycharm": {
     "name": "#%%\n"
    }
   }
  },
  {
   "cell_type": "code",
   "execution_count": 328,
   "outputs": [
    {
     "data": {
      "text/plain": "   step_id   timestamp submission_status  user_id\n0    31971  1526800961             wrong    24370\n1    31971  1526800976             wrong    24370\n2    31971  1526800993             wrong    24370\n3    31971  1526801054           correct    24370\n4    31972  1526800664             wrong    24370",
      "text/html": "<div>\n<style scoped>\n    .dataframe tbody tr th:only-of-type {\n        vertical-align: middle;\n    }\n\n    .dataframe tbody tr th {\n        vertical-align: top;\n    }\n\n    .dataframe thead th {\n        text-align: right;\n    }\n</style>\n<table border=\"1\" class=\"dataframe\">\n  <thead>\n    <tr style=\"text-align: right;\">\n      <th></th>\n      <th>step_id</th>\n      <th>timestamp</th>\n      <th>submission_status</th>\n      <th>user_id</th>\n    </tr>\n  </thead>\n  <tbody>\n    <tr>\n      <th>0</th>\n      <td>31971</td>\n      <td>1526800961</td>\n      <td>wrong</td>\n      <td>24370</td>\n    </tr>\n    <tr>\n      <th>1</th>\n      <td>31971</td>\n      <td>1526800976</td>\n      <td>wrong</td>\n      <td>24370</td>\n    </tr>\n    <tr>\n      <th>2</th>\n      <td>31971</td>\n      <td>1526800993</td>\n      <td>wrong</td>\n      <td>24370</td>\n    </tr>\n    <tr>\n      <th>3</th>\n      <td>31971</td>\n      <td>1526801054</td>\n      <td>correct</td>\n      <td>24370</td>\n    </tr>\n    <tr>\n      <th>4</th>\n      <td>31972</td>\n      <td>1526800664</td>\n      <td>wrong</td>\n      <td>24370</td>\n    </tr>\n  </tbody>\n</table>\n</div>"
     },
     "execution_count": 328,
     "metadata": {},
     "output_type": "execute_result"
    }
   ],
   "source": [
    "df_submission.head()"
   ],
   "metadata": {
    "collapsed": false,
    "pycharm": {
     "name": "#%%\n"
    }
   }
  },
  {
   "cell_type": "code",
   "execution_count": 329,
   "outputs": [
    {
     "data": {
      "text/plain": "<AxesSubplot:>"
     },
     "execution_count": 329,
     "metadata": {},
     "output_type": "execute_result"
    },
    {
     "data": {
      "text/plain": "<Figure size 432x288 with 1 Axes>",
      "image/png": "[encoded data removed]"
     },
     "metadata": {
      "needs_background": "light"
     },
     "output_type": "display_data"
    }
   ],
   "source": [
    "# Повторим те же действия с df_submission\n",
    "users_scores = pd.pivot_table(df_submission,\n",
    "                               values='step_id',\n",
    "                               index='user_id',\n",
    "                               columns='submission_status',\n",
    "                               aggfunc='count',\n",
    "                               fill_value=0).reset_index()\n",
    "users_scores.correct.hist()"
   ],
   "metadata": {
    "collapsed": false,
    "pycharm": {
     "name": "#%%\n"
    }
   }
  },
  {
   "cell_type": "code",
   "execution_count": 330,
   "outputs": [
    {
     "data": {
      "text/plain": "submission_status  user_id  correct  wrong\n0                       12        1      0\n1                       13       29     36\n2                       15       10     30\n3                       21       24    103\n4                       35        7     35",
      "text/html": "<div>\n<style scoped>\n    .dataframe tbody tr th:only-of-type {\n        vertical-align: middle;\n    }\n\n    .dataframe tbody tr th {\n        vertical-align: top;\n    }\n\n    .dataframe thead th {\n        text-align: right;\n    }\n</style>\n<table border=\"1\" class=\"dataframe\">\n  <thead>\n    <tr style=\"text-align: right;\">\n      <th>submission_status</th>\n      <th>user_id</th>\n      <th>correct</th>\n      <th>wrong</th>\n    </tr>\n  </thead>\n  <tbody>\n    <tr>\n      <th>0</th>\n      <td>12</td>\n      <td>1</td>\n      <td>0</td>\n    </tr>\n    <tr>\n      <th>1</th>\n      <td>13</td>\n      <td>29</td>\n      <td>36</td>\n    </tr>\n    <tr>\n      <th>2</th>\n      <td>15</td>\n      <td>10</td>\n      <td>30</td>\n    </tr>\n    <tr>\n      <th>3</th>\n      <td>21</td>\n      <td>24</td>\n      <td>103</td>\n    </tr>\n    <tr>\n      <th>4</th>\n      <td>35</td>\n      <td>7</td>\n      <td>35</td>\n    </tr>\n  </tbody>\n</table>\n</div>"
     },
     "execution_count": 330,
     "metadata": {},
     "output_type": "execute_result"
    }
   ],
   "source": [
    "users_scores.head()"
   ],
   "metadata": {
    "collapsed": false,
    "pycharm": {
     "name": "#%%\n"
    }
   }
  },
  {
   "cell_type": "code",
   "execution_count": 331,
   "outputs": [
    {
     "data": {
      "text/plain": "action  user_id  discovered  passed  started_attempt  viewed\n0             4           1       1                0       1\n1             6           1       1                0       1\n2            10           2       2                0       6\n3            12          11       9                4      14\n4            13          70      70               35     105",
      "text/html": "<div>\n<style scoped>\n    .dataframe tbody tr th:only-of-type {\n        vertical-align: middle;\n    }\n\n    .dataframe tbody tr th {\n        vertical-align: top;\n    }\n\n    .dataframe thead th {\n        text-align: right;\n    }\n</style>\n<table border=\"1\" class=\"dataframe\">\n  <thead>\n    <tr style=\"text-align: right;\">\n      <th>action</th>\n      <th>user_id</th>\n      <th>discovered</th>\n      <th>passed</th>\n      <th>started_attempt</th>\n      <th>viewed</th>\n    </tr>\n  </thead>\n  <tbody>\n    <tr>\n      <th>0</th>\n      <td>4</td>\n      <td>1</td>\n      <td>1</td>\n      <td>0</td>\n      <td>1</td>\n    </tr>\n    <tr>\n      <th>1</th>\n      <td>6</td>\n      <td>1</td>\n      <td>1</td>\n      <td>0</td>\n      <td>1</td>\n    </tr>\n    <tr>\n      <th>2</th>\n      <td>10</td>\n      <td>2</td>\n      <td>2</td>\n      <td>0</td>\n      <td>6</td>\n    </tr>\n    <tr>\n      <th>3</th>\n      <td>12</td>\n      <td>11</td>\n      <td>9</td>\n      <td>4</td>\n      <td>14</td>\n    </tr>\n    <tr>\n      <th>4</th>\n      <td>13</td>\n      <td>70</td>\n      <td>70</td>\n      <td>35</td>\n      <td>105</td>\n    </tr>\n  </tbody>\n</table>\n</div>"
     },
     "execution_count": 331,
     "metadata": {},
     "output_type": "execute_result"
    }
   ],
   "source": [
    "users_data.head()"
   ],
   "metadata": {
    "collapsed": false,
    "pycharm": {
     "name": "#%%\n"
    }
   }
  },
  {
   "cell_type": "code",
   "execution_count": 332,
   "outputs": [
    {
     "data": {
      "text/plain": "   user_id  discovered  passed  started_attempt  viewed  correct  wrong\n0        4           1       1                0       1      0.0    0.0\n1        6           1       1                0       1      0.0    0.0\n2       10           2       2                0       6      0.0    0.0\n3       12          11       9                4      14      1.0    0.0\n4       13          70      70               35     105     29.0   36.0",
      "text/html": "<div>\n<style scoped>\n    .dataframe tbody tr th:only-of-type {\n        vertical-align: middle;\n    }\n\n    .dataframe tbody tr th {\n        vertical-align: top;\n    }\n\n    .dataframe thead th {\n        text-align: right;\n    }\n</style>\n<table border=\"1\" class=\"dataframe\">\n  <thead>\n    <tr style=\"text-align: right;\">\n      <th></th>\n      <th>user_id</th>\n      <th>discovered</th>\n      <th>passed</th>\n      <th>started_attempt</th>\n      <th>viewed</th>\n      <th>correct</th>\n      <th>wrong</th>\n    </tr>\n  </thead>\n  <tbody>\n    <tr>\n      <th>0</th>\n      <td>4</td>\n      <td>1</td>\n      <td>1</td>\n      <td>0</td>\n      <td>1</td>\n      <td>0.0</td>\n      <td>0.0</td>\n    </tr>\n    <tr>\n      <th>1</th>\n      <td>6</td>\n      <td>1</td>\n      <td>1</td>\n      <td>0</td>\n      <td>1</td>\n      <td>0.0</td>\n      <td>0.0</td>\n    </tr>\n    <tr>\n      <th>2</th>\n      <td>10</td>\n      <td>2</td>\n      <td>2</td>\n      <td>0</td>\n      <td>6</td>\n      <td>0.0</td>\n      <td>0.0</td>\n    </tr>\n    <tr>\n      <th>3</th>\n      <td>12</td>\n      <td>11</td>\n      <td>9</td>\n      <td>4</td>\n      <td>14</td>\n      <td>1.0</td>\n      <td>0.0</td>\n    </tr>\n    <tr>\n      <th>4</th>\n      <td>13</td>\n      <td>70</td>\n      <td>70</td>\n      <td>35</td>\n      <td>105</td>\n      <td>29.0</td>\n      <td>36.0</td>\n    </tr>\n  </tbody>\n</table>\n</div>"
     },
     "execution_count": 332,
     "metadata": {},
     "output_type": "execute_result"
    }
   ],
   "source": [
    "X = users_data.merge(users_scores, on='user_id', how='outer').fillna(0)\n",
    "X.head()"
   ],
   "metadata": {
    "collapsed": false,
    "pycharm": {
     "name": "#%%\n"
    }
   }
  },
  {
   "cell_type": "code",
   "execution_count": 333,
   "outputs": [
    {
     "data": {
      "text/plain": "   user_id  discovered  passed  started_attempt  viewed  correct  wrong  \\\n0        4           1       1                0       1      0.0    0.0   \n1        6           1       1                0       1      0.0    0.0   \n2       10           2       2                0       6      0.0    0.0   \n3       12          11       9                4      14      1.0    0.0   \n4       13          70      70               35     105     29.0   36.0   \n\n   finished_course  \n0                0  \n1                0  \n2                0  \n3                0  \n4                0  ",
      "text/html": "<div>\n<style scoped>\n    .dataframe tbody tr th:only-of-type {\n        vertical-align: middle;\n    }\n\n    .dataframe tbody tr th {\n        vertical-align: top;\n    }\n\n    .dataframe thead th {\n        text-align: right;\n    }\n</style>\n<table border=\"1\" class=\"dataframe\">\n  <thead>\n    <tr style=\"text-align: right;\">\n      <th></th>\n      <th>user_id</th>\n      <th>discovered</th>\n      <th>passed</th>\n      <th>started_attempt</th>\n      <th>viewed</th>\n      <th>correct</th>\n      <th>wrong</th>\n      <th>finished_course</th>\n    </tr>\n  </thead>\n  <tbody>\n    <tr>\n      <th>0</th>\n      <td>4</td>\n      <td>1</td>\n      <td>1</td>\n      <td>0</td>\n      <td>1</td>\n      <td>0.0</td>\n      <td>0.0</td>\n      <td>0</td>\n    </tr>\n    <tr>\n      <th>1</th>\n      <td>6</td>\n      <td>1</td>\n      <td>1</td>\n      <td>0</td>\n      <td>1</td>\n      <td>0.0</td>\n      <td>0.0</td>\n      <td>0</td>\n    </tr>\n    <tr>\n      <th>2</th>\n      <td>10</td>\n      <td>2</td>\n      <td>2</td>\n      <td>0</td>\n      <td>6</td>\n      <td>0.0</td>\n      <td>0.0</td>\n      <td>0</td>\n    </tr>\n    <tr>\n      <th>3</th>\n      <td>12</td>\n      <td>11</td>\n      <td>9</td>\n      <td>4</td>\n      <td>14</td>\n      <td>1.0</td>\n      <td>0.0</td>\n      <td>0</td>\n    </tr>\n    <tr>\n      <th>4</th>\n      <td>13</td>\n      <td>70</td>\n      <td>70</td>\n      <td>35</td>\n      <td>105</td>\n      <td>29.0</td>\n      <td>36.0</td>\n      <td>0</td>\n    </tr>\n  </tbody>\n</table>\n</div>"
     },
     "execution_count": 333,
     "metadata": {},
     "output_type": "execute_result"
    }
   ],
   "source": [
    "X['finished_course'] = np.where(X.correct >= 40, 1, 0)\n",
    "X.head()"
   ],
   "metadata": {
    "collapsed": false,
    "pycharm": {
     "name": "#%%\n"
    }
   }
  },
  {
   "cell_type": "code",
   "execution_count": 334,
   "outputs": [
    {
     "data": {
      "text/plain": "user_id              int64\ndiscovered           int64\npassed               int64\nstarted_attempt      int64\nviewed               int64\ncorrect            float64\nwrong              float64\nfinished_course      int32\ndtype: object"
     },
     "execution_count": 334,
     "metadata": {},
     "output_type": "execute_result"
    }
   ],
   "source": [
    "X.dtypes"
   ],
   "metadata": {
    "collapsed": false,
    "pycharm": {
     "name": "#%%\n"
    }
   }
  },
  {
   "cell_type": "code",
   "execution_count": 335,
   "outputs": [],
   "source": [
    "x_train = X.drop('finished_course', axis='columns')\n",
    "y_train = X.finished_course"
   ],
   "metadata": {
    "collapsed": false,
    "pycharm": {
     "name": "#%%\n"
    }
   }
  },
  {
   "cell_type": "code",
   "execution_count": 335,
   "outputs": [],
   "source": [],
   "metadata": {
    "collapsed": false,
    "pycharm": {
     "name": "#%%\n"
    }
   }
  },
  {
   "cell_type": "code",
   "execution_count": 336,
   "outputs": [],
   "source": [
    "clf = RandomForestClassifier(class_weight='balanced')"
   ],
   "metadata": {
    "collapsed": false,
    "pycharm": {
     "name": "#%%\n"
    }
   }
  },
  {
   "cell_type": "code",
   "execution_count": 337,
   "outputs": [],
   "source": [
    "params = {'n_estimators': [10, 20, 30],'max_depth': [2, 5, 7, 10]}\n",
    "grid_search_clr = GridSearchCV(clf, params, cv=5)"
   ],
   "metadata": {
    "collapsed": false,
    "pycharm": {
     "name": "#%%\n"
    }
   }
  },
  {
   "cell_type": "code",
   "execution_count": 338,
   "outputs": [
    {
     "data": {
      "text/plain": "GridSearchCV(cv=5, estimator=RandomForestClassifier(class_weight='balanced'),\n             param_grid={'max_depth': [2, 5, 7, 10],\n                         'n_estimators': [10, 20, 30]})"
     },
     "execution_count": 338,
     "metadata": {},
     "output_type": "execute_result"
    }
   ],
   "source": [
    "grid_search_clr.fit(x_train, y_train)"
   ],
   "metadata": {
    "collapsed": false,
    "pycharm": {
     "name": "#%%\n"
    }
   }
  },
  {
   "cell_type": "code",
   "execution_count": 339,
   "outputs": [
    {
     "data": {
      "text/plain": "{'max_depth': 2, 'n_estimators': 20}"
     },
     "execution_count": 339,
     "metadata": {},
     "output_type": "execute_result"
    }
   ],
   "source": [
    "grid_search_clr.best_params_"
   ],
   "metadata": {
    "collapsed": false,
    "pycharm": {
     "name": "#%%\n"
    }
   }
  },
  {
   "cell_type": "code",
   "execution_count": 340,
   "outputs": [
    {
     "data": {
      "text/plain": "array([0.01283553, 0.12840402, 0.08401074, 0.06171852, 0.12538529,\n       0.47818955, 0.10945634])"
     },
     "execution_count": 340,
     "metadata": {},
     "output_type": "execute_result"
    }
   ],
   "source": [
    "grid_search_clr.best_estimator_.feature_importances_"
   ],
   "metadata": {
    "collapsed": false,
    "pycharm": {
     "name": "#%%\n"
    }
   }
  },
  {
   "cell_type": "code",
   "execution_count": 341,
   "outputs": [
    {
     "data": {
      "text/plain": "GridSearchCV(cv=5, estimator=RandomForestClassifier(class_weight='balanced'),\n             param_grid={'max_depth': [2, 5, 7, 10],\n                         'n_estimators': [10, 20, 30]})"
     },
     "execution_count": 341,
     "metadata": {},
     "output_type": "execute_result"
    }
   ],
   "source": [
    "grid_search_clr.fit(x_train, y_train)"
   ],
   "metadata": {
    "collapsed": false,
    "pycharm": {
     "name": "#%%\n"
    }
   }
  },
  {
   "cell_type": "code",
   "execution_count": 342,
   "outputs": [],
   "source": [
    "y_pred = grid_search_clr.predict_proba(x_train)"
   ],
   "metadata": {
    "collapsed": false,
    "pycharm": {
     "name": "#%%\n"
    }
   }
  },
  {
   "cell_type": "code",
   "execution_count": 343,
   "outputs": [
    {
     "data": {
      "text/plain": "1.0"
     },
     "execution_count": 343,
     "metadata": {},
     "output_type": "execute_result"
    }
   ],
   "source": [
    "# f1_score(y_pred=y_pred, y_true=y_train)\n",
    "# y_pred = pd.Series(y_pred)\n",
    "# y_pred.head()\n",
    "roc_score = roc_auc_score(y_train, y_pred[:, 1])\n",
    "roc_score"
   ],
   "metadata": {
    "collapsed": false,
    "pycharm": {
     "name": "#%%\n"
    }
   }
  },
  {
   "cell_type": "code",
   "execution_count": 344,
   "outputs": [],
   "source": [
    "# pd.Series(y_pred).to_frame().to_csv('data/y_pred_ml_contest.csv')"
   ],
   "metadata": {
    "collapsed": false,
    "pycharm": {
     "name": "#%%\n"
    }
   }
  },
  {
   "cell_type": "code",
   "execution_count": 345,
   "outputs": [
    {
     "data": {
      "text/plain": "   user_id  is_gone\n0        4      0.0\n1        6      0.0\n2       10      0.0\n3       12      0.0\n4       13      0.0",
      "text/html": "<div>\n<style scoped>\n    .dataframe tbody tr th:only-of-type {\n        vertical-align: middle;\n    }\n\n    .dataframe tbody tr th {\n        vertical-align: top;\n    }\n\n    .dataframe thead th {\n        text-align: right;\n    }\n</style>\n<table border=\"1\" class=\"dataframe\">\n  <thead>\n    <tr style=\"text-align: right;\">\n      <th></th>\n      <th>user_id</th>\n      <th>is_gone</th>\n    </tr>\n  </thead>\n  <tbody>\n    <tr>\n      <th>0</th>\n      <td>4</td>\n      <td>0.0</td>\n    </tr>\n    <tr>\n      <th>1</th>\n      <td>6</td>\n      <td>0.0</td>\n    </tr>\n    <tr>\n      <th>2</th>\n      <td>10</td>\n      <td>0.0</td>\n    </tr>\n    <tr>\n      <th>3</th>\n      <td>12</td>\n      <td>0.0</td>\n    </tr>\n    <tr>\n      <th>4</th>\n      <td>13</td>\n      <td>0.0</td>\n    </tr>\n  </tbody>\n</table>\n</div>"
     },
     "execution_count": 345,
     "metadata": {},
     "output_type": "execute_result"
    }
   ],
   "source": [
    "test_y_pred = pd.read_csv('data/y_pred_ml_contest.csv')\n",
    "test_y_pred.head()"
   ],
   "metadata": {
    "collapsed": false,
    "pycharm": {
     "name": "#%%\n"
    }
   }
  },
  {
   "cell_type": "code",
   "execution_count": 346,
   "outputs": [],
   "source": [
    "pred_proba = grid_search_clr.predict_proba(x_train)[:, 1]\n",
    "result_df = x_train.user_id.to_frame()\n",
    "result_df['is_gone'] = pred_proba\n",
    "result_df.set_index('user_id')\n",
    "result_df.to_csv('data/y_pred_ml_contest.csv', index=False)"
   ],
   "metadata": {
    "collapsed": false,
    "pycharm": {
     "name": "#%%\n"
    }
   }
  },
  {
   "cell_type": "code",
   "source": [
    "result_df.head()"
   ],
   "metadata": {
    "collapsed": false,
    "pycharm": {
     "name": "#%%\n"
    }
   },
   "execution_count": 347,
   "outputs": [
    {
     "data": {
      "text/plain": "   user_id   is_gone\n0        4  0.105468\n1        6  0.105468\n2       10  0.021587\n3       12  0.007848\n4       13  0.180087",
      "text/html": "<div>\n<style scoped>\n    .dataframe tbody tr th:only-of-type {\n        vertical-align: middle;\n    }\n\n    .dataframe tbody tr th {\n        vertical-align: top;\n    }\n\n    .dataframe thead th {\n        text-align: right;\n    }\n</style>\n<table border=\"1\" class=\"dataframe\">\n  <thead>\n    <tr style=\"text-align: right;\">\n      <th></th>\n      <th>user_id</th>\n      <th>is_gone</th>\n    </tr>\n  </thead>\n  <tbody>\n    <tr>\n      <th>0</th>\n      <td>4</td>\n      <td>0.105468</td>\n    </tr>\n    <tr>\n      <th>1</th>\n      <td>6</td>\n      <td>0.105468</td>\n    </tr>\n    <tr>\n      <th>2</th>\n      <td>10</td>\n      <td>0.021587</td>\n    </tr>\n    <tr>\n      <th>3</th>\n      <td>12</td>\n      <td>0.007848</td>\n    </tr>\n    <tr>\n      <th>4</th>\n      <td>13</td>\n      <td>0.180087</td>\n    </tr>\n  </tbody>\n</table>\n</div>"
     },
     "execution_count": 347,
     "metadata": {},
     "output_type": "execute_result"
    }
   ]
  },
  {
   "cell_type": "markdown",
   "source": [
    "# Your ROC score is 0.4219648171397131"
   ],
   "metadata": {
    "collapsed": false,
    "pycharm": {
     "name": "#%% md\n"
    }
   }
  },
  {
   "cell_type": "markdown",
   "source": [
    "# Конец Курса Введение в Data Science на Stepik.org"
   ],
   "metadata": {
    "collapsed": false,
    "pycharm": {
     "name": "#%% md\n"
    }
   }
  },
  {
   "cell_type": "code",
   "execution_count": null,
   "outputs": [],
   "source": [],
   "metadata": {
    "collapsed": false,
    "pycharm": {
     "name": "#%%\n"
    }
   }
  }
 ],
 "metadata": {
  "kernelspec": {
   "display_name": "Python 3",
   "language": "python",
   "name": "python3"
  },
  "language_info": {
   "codemirror_mode": {
    "name": "ipython",
    "version": 2
   },
   "file_extension": ".py",
   "mimetype": "text/x-python",
   "name": "python",
   "nbconvert_exporter": "python",
   "pygments_lexer": "ipython2",
   "version": "2.7.6"
  }
 },
 "nbformat": 4,
 "nbformat_minor": 0
}