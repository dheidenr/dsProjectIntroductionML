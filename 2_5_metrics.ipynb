{
 "cells": [
  {
   "cell_type": "code",
   "execution_count": 1,
   "metadata": {
    "collapsed": true
   },
   "outputs": [
    {
     "name": "stderr",
     "output_type": "stream",
     "text": [
      "UsageError: Line magic function `%` not found.\n"
     ]
    }
   ],
   "source": [
    "import numpy as np\n",
    "import pandas as pd\n",
    "import matplotlib.pyplot as plt\n",
    "import seaborn as sns\n",
    "from sklearn import tree\n",
    "from sklearn.model_selection import train_test_split\n",
    "% matplotlib inline\n",
    "from IPython.display import SVG\n",
    "from graphviz import Source\n",
    "from IPython.display import display\n",
    "from IPython.display import HTML\n",
    "style = \"<style>svg{width:70% !important;height:70% !important;}</style>\"\n",
    "HTML(style)"
   ]
  },
  {
   "cell_type": "markdown",
   "source": [
    "# Метрики\n",
    "accuracy (отношение правильных к неправильным ответам) зачастую может быть бесполезна или заводить в заблуждения."
   ],
   "metadata": {
    "collapsed": false,
    "pycharm": {
     "name": "#%% md\n"
    }
   }
  },
  {
   "cell_type": "code",
   "execution_count": 2,
   "outputs": [],
   "source": [
    "## Precision и Recall"
   ],
   "metadata": {
    "collapsed": false,
    "pycharm": {
     "name": "#%%\n"
    }
   }
  },
  {
   "cell_type": "code",
   "execution_count": 3,
   "outputs": [],
   "source": [
    "# precision = tp / (tp + fp)\n",
    "# fp - Ложно Положительные (False Positive)\n",
    "# tp - Истинно Положительные (True Positive)\n",
    "# recall = tp / (tp + fn)\n",
    "# fn - Ложно отрицательные (False Negative)"
   ],
   "metadata": {
    "collapsed": false,
    "pycharm": {
     "name": "#%%\n"
    }
   }
  },
  {
   "cell_type": "code",
   "execution_count": null,
   "outputs": [],
   "source": [
    "# Классификатор может ошибатся в две стороны, либо находить все вражеские самолёты, но платить за это слишком высокую цену, таким образом точность низкая recall высокий. Или классификатор может избежать ложных срабатываний, но при этом не выявить (пропстить) нужные корабли, соответственно тут будет низский recall и высокий precision.\n",
    "# precision и recall отвечают на вопрос как хорошо удается классификатору справляться с двумя сторонами задачи классификации.\n",
    "# Precision (точность) позваляет определять насколько точно получается предсказать положительные классы не переплачивая за это ложными срабатываниями.\n",
    "# recall (полнота) - (обратная сторона точности) - отвечает на вопрос правда ли мы нашли всех представителей положительного класса.\n",
    "# f-мера - это комбинированная метрика precision и recall, а именно гармоническое среднее произведение / сумма.\n"
   ],
   "metadata": {
    "collapsed": false,
    "pycharm": {
     "name": "#%%\n"
    }
   }
  }
 ],
 "metadata": {
  "kernelspec": {
   "display_name": "Python 3",
   "language": "python",
   "name": "python3"
  },
  "language_info": {
   "codemirror_mode": {
    "name": "ipython",
    "version": 2
   },
   "file_extension": ".py",
   "mimetype": "text/x-python",
   "name": "python",
   "nbconvert_exporter": "python",
   "pygments_lexer": "ipython2",
   "version": "2.7.6"
  }
 },
 "nbformat": 4,
 "nbformat_minor": 0
}