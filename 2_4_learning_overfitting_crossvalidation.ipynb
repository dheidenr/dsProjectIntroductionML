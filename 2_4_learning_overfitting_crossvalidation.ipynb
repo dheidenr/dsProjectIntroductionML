{
 "cells": [
  {
   "cell_type": "code",
   "execution_count": 35,
   "metadata": {
    "collapsed": true
   },
   "outputs": [],
   "source": [
    "import numpy as np\n",
    "import pandas as pd\n",
    "import matplotlib.pyplot as plt\n",
    "import seaborn as sns\n",
    "from sklearn import tree\n",
    "from sklearn.model_selection import train_test_split\n",
    "%matplotlib inline"
   ]
  },
  {
   "cell_type": "code",
   "execution_count": 36,
   "outputs": [
    {
     "data": {
      "text/plain": "<IPython.core.display.HTML object>",
      "text/html": "<style>svg{width:70% !important;height:70% !important;}</style>"
     },
     "execution_count": 36,
     "metadata": {},
     "output_type": "execute_result"
    }
   ],
   "source": [
    "from IPython.display import SVG\n",
    "from graphviz import Source\n",
    "from IPython.display import display\n",
    "from IPython.display import HTML\n",
    "style = \"<style>svg{width:70% !important;height:70% !important;}</style>\"\n",
    "HTML(style)"
   ],
   "metadata": {
    "collapsed": false,
    "pycharm": {
     "name": "#%%\n"
    }
   }
  },
  {
   "cell_type": "code",
   "execution_count": 37,
   "outputs": [],
   "source": [
    "titanic_data = pd.read_csv('data/titanic/train.csv')"
   ],
   "metadata": {
    "collapsed": false,
    "pycharm": {
     "name": "#%%\n"
    }
   }
  },
  {
   "cell_type": "code",
   "execution_count": 38,
   "outputs": [
    {
     "data": {
      "text/plain": "   PassengerId  Survived  Pclass  \\\n0            1         0       3   \n1            2         1       1   \n2            3         1       3   \n3            4         1       1   \n4            5         0       3   \n\n                                                Name     Sex   Age  SibSp  \\\n0                            Braund, Mr. Owen Harris    male  22.0      1   \n1  Cumings, Mrs. John Bradley (Florence Briggs Th...  female  38.0      1   \n2                             Heikkinen, Miss. Laina  female  26.0      0   \n3       Futrelle, Mrs. Jacques Heath (Lily May Peel)  female  35.0      1   \n4                           Allen, Mr. William Henry    male  35.0      0   \n\n   Parch            Ticket     Fare Cabin Embarked  \n0      0         A/5 21171   7.2500   NaN        S  \n1      0          PC 17599  71.2833   C85        C  \n2      0  STON/O2. 3101282   7.9250   NaN        S  \n3      0            113803  53.1000  C123        S  \n4      0            373450   8.0500   NaN        S  ",
      "text/html": "<div>\n<style scoped>\n    .dataframe tbody tr th:only-of-type {\n        vertical-align: middle;\n    }\n\n    .dataframe tbody tr th {\n        vertical-align: top;\n    }\n\n    .dataframe thead th {\n        text-align: right;\n    }\n</style>\n<table border=\"1\" class=\"dataframe\">\n  <thead>\n    <tr style=\"text-align: right;\">\n      <th></th>\n      <th>PassengerId</th>\n      <th>Survived</th>\n      <th>Pclass</th>\n      <th>Name</th>\n      <th>Sex</th>\n      <th>Age</th>\n      <th>SibSp</th>\n      <th>Parch</th>\n      <th>Ticket</th>\n      <th>Fare</th>\n      <th>Cabin</th>\n      <th>Embarked</th>\n    </tr>\n  </thead>\n  <tbody>\n    <tr>\n      <th>0</th>\n      <td>1</td>\n      <td>0</td>\n      <td>3</td>\n      <td>Braund, Mr. Owen Harris</td>\n      <td>male</td>\n      <td>22.0</td>\n      <td>1</td>\n      <td>0</td>\n      <td>A/5 21171</td>\n      <td>7.2500</td>\n      <td>NaN</td>\n      <td>S</td>\n    </tr>\n    <tr>\n      <th>1</th>\n      <td>2</td>\n      <td>1</td>\n      <td>1</td>\n      <td>Cumings, Mrs. John Bradley (Florence Briggs Th...</td>\n      <td>female</td>\n      <td>38.0</td>\n      <td>1</td>\n      <td>0</td>\n      <td>PC 17599</td>\n      <td>71.2833</td>\n      <td>C85</td>\n      <td>C</td>\n    </tr>\n    <tr>\n      <th>2</th>\n      <td>3</td>\n      <td>1</td>\n      <td>3</td>\n      <td>Heikkinen, Miss. Laina</td>\n      <td>female</td>\n      <td>26.0</td>\n      <td>0</td>\n      <td>0</td>\n      <td>STON/O2. 3101282</td>\n      <td>7.9250</td>\n      <td>NaN</td>\n      <td>S</td>\n    </tr>\n    <tr>\n      <th>3</th>\n      <td>4</td>\n      <td>1</td>\n      <td>1</td>\n      <td>Futrelle, Mrs. Jacques Heath (Lily May Peel)</td>\n      <td>female</td>\n      <td>35.0</td>\n      <td>1</td>\n      <td>0</td>\n      <td>113803</td>\n      <td>53.1000</td>\n      <td>C123</td>\n      <td>S</td>\n    </tr>\n    <tr>\n      <th>4</th>\n      <td>5</td>\n      <td>0</td>\n      <td>3</td>\n      <td>Allen, Mr. William Henry</td>\n      <td>male</td>\n      <td>35.0</td>\n      <td>0</td>\n      <td>0</td>\n      <td>373450</td>\n      <td>8.0500</td>\n      <td>NaN</td>\n      <td>S</td>\n    </tr>\n  </tbody>\n</table>\n</div>"
     },
     "execution_count": 38,
     "metadata": {},
     "output_type": "execute_result"
    }
   ],
   "source": [
    "titanic_data.head()"
   ],
   "metadata": {
    "collapsed": false,
    "pycharm": {
     "name": "#%%\n"
    }
   }
  },
  {
   "cell_type": "code",
   "execution_count": 39,
   "outputs": [],
   "source": [
    "X = titanic_data.drop(['PassengerId', 'Survived', 'Name', 'Ticket', 'Cabin'], axis='columns')\n",
    "X = pd.get_dummies(X)\n",
    "X = X.fillna({'Age': X.Age.median()}) # Можно вместо медианы попробовать подругому подобрать более подходящие данные, напрмер через машинное обучение и предсказание.\n",
    "y = titanic_data.Survived\n",
    "X_train, X_test, y_train, y_test = train_test_split(X, y, test_size=0.33, random_state=42)"
   ],
   "metadata": {
    "collapsed": false,
    "pycharm": {
     "name": "#%%\n"
    }
   }
  },
  {
   "cell_type": "code",
   "execution_count": 40,
   "outputs": [],
   "source": [
    "scores_data = pd.DataFrame()"
   ],
   "metadata": {
    "collapsed": false,
    "pycharm": {
     "name": "#%%\n"
    }
   }
  },
  {
   "cell_type": "code",
   "execution_count": 41,
   "outputs": [],
   "source": [
    "# Поработаем с гиперпараметрами\n",
    "max_depth_values = range(1, 100)\n",
    "for max_depth in max_depth_values:\n",
    "    clf = tree.DecisionTreeClassifier(criterion='entropy', max_depth=max_depth)\n",
    "    clf.fit(X_train, y_train)\n",
    "    train_score = clf.score(X_train, y_train)\n",
    "    test_score = clf.score(X_test, y_test)\n",
    "\n",
    "    temp_score_data = pd.DataFrame({'max_depth': [max_depth], 'train_score': [train_score], 'test_score': [test_score]})\n",
    "    scores_data = scores_data.append(temp_score_data)"
   ],
   "metadata": {
    "collapsed": false,
    "pycharm": {
     "name": "#%%\n"
    }
   }
  },
  {
   "cell_type": "code",
   "execution_count": 42,
   "outputs": [
    {
     "data": {
      "text/plain": "   max_depth  train_score  test_score\n0          1     0.781879    0.796610\n0          2     0.805369    0.776271\n0          3     0.823826    0.820339\n0          4     0.833893    0.823729\n0          5     0.840604    0.806780",
      "text/html": "<div>\n<style scoped>\n    .dataframe tbody tr th:only-of-type {\n        vertical-align: middle;\n    }\n\n    .dataframe tbody tr th {\n        vertical-align: top;\n    }\n\n    .dataframe thead th {\n        text-align: right;\n    }\n</style>\n<table border=\"1\" class=\"dataframe\">\n  <thead>\n    <tr style=\"text-align: right;\">\n      <th></th>\n      <th>max_depth</th>\n      <th>train_score</th>\n      <th>test_score</th>\n    </tr>\n  </thead>\n  <tbody>\n    <tr>\n      <th>0</th>\n      <td>1</td>\n      <td>0.781879</td>\n      <td>0.796610</td>\n    </tr>\n    <tr>\n      <th>0</th>\n      <td>2</td>\n      <td>0.805369</td>\n      <td>0.776271</td>\n    </tr>\n    <tr>\n      <th>0</th>\n      <td>3</td>\n      <td>0.823826</td>\n      <td>0.820339</td>\n    </tr>\n    <tr>\n      <th>0</th>\n      <td>4</td>\n      <td>0.833893</td>\n      <td>0.823729</td>\n    </tr>\n    <tr>\n      <th>0</th>\n      <td>5</td>\n      <td>0.840604</td>\n      <td>0.806780</td>\n    </tr>\n  </tbody>\n</table>\n</div>"
     },
     "execution_count": 42,
     "metadata": {},
     "output_type": "execute_result"
    }
   ],
   "source": [
    "scores_data.head()"
   ],
   "metadata": {
    "collapsed": false,
    "pycharm": {
     "name": "#%%\n"
    }
   }
  },
  {
   "cell_type": "code",
   "execution_count": 43,
   "outputs": [
    {
     "data": {
      "text/plain": "   max_depth     set_type     score\n0          1  train_score  0.781879\n1          2  train_score  0.805369\n2          3  train_score  0.823826\n3          4  train_score  0.833893\n4          5  train_score  0.840604",
      "text/html": "<div>\n<style scoped>\n    .dataframe tbody tr th:only-of-type {\n        vertical-align: middle;\n    }\n\n    .dataframe tbody tr th {\n        vertical-align: top;\n    }\n\n    .dataframe thead th {\n        text-align: right;\n    }\n</style>\n<table border=\"1\" class=\"dataframe\">\n  <thead>\n    <tr style=\"text-align: right;\">\n      <th></th>\n      <th>max_depth</th>\n      <th>set_type</th>\n      <th>score</th>\n    </tr>\n  </thead>\n  <tbody>\n    <tr>\n      <th>0</th>\n      <td>1</td>\n      <td>train_score</td>\n      <td>0.781879</td>\n    </tr>\n    <tr>\n      <th>1</th>\n      <td>2</td>\n      <td>train_score</td>\n      <td>0.805369</td>\n    </tr>\n    <tr>\n      <th>2</th>\n      <td>3</td>\n      <td>train_score</td>\n      <td>0.823826</td>\n    </tr>\n    <tr>\n      <th>3</th>\n      <td>4</td>\n      <td>train_score</td>\n      <td>0.833893</td>\n    </tr>\n    <tr>\n      <th>4</th>\n      <td>5</td>\n      <td>train_score</td>\n      <td>0.840604</td>\n    </tr>\n  </tbody>\n</table>\n</div>"
     },
     "execution_count": 43,
     "metadata": {},
     "output_type": "execute_result"
    }
   ],
   "source": [
    "# melt меняет формат DataFrame\n",
    "scores_data_long = pd.melt(scores_data, id_vars=['max_depth'], value_vars=['train_score', 'test_score'],\n",
    "                           var_name='set_type', # Имя колонки с ключами\n",
    "                           value_name='score') #\n",
    "scores_data_long.head()"
   ],
   "metadata": {
    "collapsed": false,
    "pycharm": {
     "name": "#%%\n"
    }
   }
  },
  {
   "cell_type": "code",
   "execution_count": 44,
   "outputs": [
    {
     "data": {
      "text/plain": "<AxesSubplot:xlabel='max_depth', ylabel='score'>"
     },
     "execution_count": 44,
     "metadata": {},
     "output_type": "execute_result"
    },
    {
     "data": {
      "text/plain": "<Figure size 432x288 with 1 Axes>",
      "image/png": "[encoded data removed]"
     },
     "metadata": {
      "needs_background": "light"
     },
     "output_type": "display_data"
    }
   ],
   "source": [
    "sns.lineplot(x='max_depth', y='score', hue='set_type', data=scores_data_long)"
   ],
   "metadata": {
    "collapsed": false,
    "pycharm": {
     "name": "#%%\n"
    }
   }
  },
  {
   "cell_type": "markdown",
   "source": [
    "анализ графика:\n",
    "train score:\n",
    "- растет с увеличением глубины дерева\n",
    "- что не всегда ведет к нахождению общих закономерностей в исследуемых данных\n",
    "\n",
    "test score:\n",
    "- изначально невелик (модель еще не доучилась)\n",
    "- на промежутке 3-5 score максимален (оптимальное состояние: закономерность с изученных данных переносится на новые)\n",
    "- с дальнейшим увеличением глубины test score начинает падать (переход от недообученности к переобученности)"
   ],
   "metadata": {
    "collapsed": false,
    "pycharm": {
     "name": "#%% md\n"
    }
   }
  },
  {
   "cell_type": "markdown",
   "source": [
    "# полезно, но не моё\n",
    "Не сразу разобралась, что именно мы делаем на этом шаге, когда вернулась, поняла для многих скорее всего очевидную идею, но все же распишу ее:\n",
    "\n",
    "0. Мы перебрали в цикле максимальную глубину от 1 до 100 и для каждого значения добавили в датафрейм точность на тренировочной и тестовой выборке - в итоге у нас есть 3 колонки.\n",
    "\n",
    "1. Задача - изобразить на графике зависимость точности от глубины, и сделать это двумя линиями (train и test), если делать это на листе бумаги - проблем для человека вообще нет(даже если одна из линий нужна в форме котеночка), но мы выбираем такую функцию pandas, которой можем скормить x и только один y.\n",
    "\n",
    "2. Нужно преобразовать scores_data так, чтобы для каждой строки были созданы 2 новые: одна со значением точности на тренировочных данных, другая на тестовых. В новом scores_data_long (он long, потому что в нем в два раза больше строк) останется колонка max_depth, которую мы будем использовать как x и появится всего одна колонка score, которую будем использовать как y. Дополнительная третья колонка set_type разделит строки для отрисовки двух линий."
   ],
   "metadata": {
    "collapsed": false
   }
  },
  {
   "cell_type": "markdown",
   "source": [
    "# Кроссвалидация - один из способов избежать переобучения\n",
    "То есть рубим данные на несколько частей.\n",
    "На одной части мы обучаемся\n",
    "На другой части мы крутим подборку гиперпараметров\n",
    "И на части \"финальный тест\" уже проверяем как обучилась модель. Эта часть не должна была быть задействована ни разу при обучении модели. И полученный score на тестовых данных и будет ключевым значением к которому мы стремимся."
   ],
   "metadata": {
    "collapsed": false,
    "pycharm": {
     "name": "#%% md\n"
    }
   }
  },
  {
   "cell_type": "markdown",
   "source": [
    "# Кроссвалидация\n",
    "\n",
    "train dataset используется для тренировки модели, validation - для её проверки (подбора гиперпараметров например), тестовый датасет выступает как ещё один уровень проверки, которая происходит на не показанных модели ранее данных"
   ],
   "metadata": {
    "collapsed": false,
    "pycharm": {
     "name": "#%% md\n"
    }
   }
  },
  {
   "cell_type": "markdown",
   "source": [
    "https://scikit-learn.org/stable/modules/cross_validation.html\n",
    "Кроссвалидация заключается в том, что мы разбиваем данный для тренеровки на например 5 частей и вначале тренеруемся на всех кроме первой части и тестируем на первой, потом на всех кроме 2-й части и тестируем на 2-й и т.п. 5 варинатов прогоняем. Таким образом получается, что каждый кусочек данных побывал и в обучении, и в тесте. Потом берем среднюю точность на каждом из 5-и вариантов и прогоняем для каждого гиперпараметра дерева, и эти среднии точности сравниваем:"
   ],
   "metadata": {
    "collapsed": false,
    "pycharm": {
     "name": "#%% md\n"
    }
   }
  },
  {
   "cell_type": "code",
   "execution_count": 45,
   "outputs": [],
   "source": [
    "from sklearn.model_selection import cross_val_score"
   ],
   "metadata": {
    "collapsed": false,
    "pycharm": {
     "name": "#%%\n"
    }
   }
  },
  {
   "cell_type": "code",
   "execution_count": 46,
   "outputs": [],
   "source": [
    "# пересоздадим классификатор с максимальной глубиной 4\n",
    "clf = tree.DecisionTreeClassifier(criterion='entropy', max_depth=4)"
   ],
   "metadata": {
    "collapsed": false,
    "pycharm": {
     "name": "#%%\n"
    }
   }
  },
  {
   "cell_type": "code",
   "execution_count": 47,
   "outputs": [
    {
     "data": {
      "text/plain": "0.7886274509803922"
     },
     "execution_count": 47,
     "metadata": {},
     "output_type": "execute_result"
    }
   ],
   "source": [
    "cross_val_score(clf, X_train, y_train, cv=5).mean()\n",
    "# в итоге получаем набор точностей при обучении на разных частях тренеровочного куска данных"
   ],
   "metadata": {
    "collapsed": false,
    "pycharm": {
     "name": "#%%\n"
    }
   }
  },
  {
   "cell_type": "code",
   "execution_count": 48,
   "outputs": [
    {
     "data": {
      "text/plain": "0.7886274509803922"
     },
     "execution_count": 48,
     "metadata": {},
     "output_type": "execute_result"
    }
   ],
   "source": [
    "# Возьмем среднее\n",
    "cross_val_score(clf, X_train, y_train, cv=5).mean()"
   ],
   "metadata": {
    "collapsed": false,
    "pycharm": {
     "name": "#%%\n"
    }
   }
  },
  {
   "cell_type": "code",
   "execution_count": 49,
   "outputs": [],
   "source": [
    "# Обновим алгоритм который использовали ранее, добавив значение кросс валидации\n",
    "max_depth_values = range(1, 100)\n",
    "scores_data = pd.DataFrame()\n",
    "for max_depth in max_depth_values:\n",
    "    clf = tree.DecisionTreeClassifier(criterion='entropy', max_depth=max_depth)\n",
    "    clf.fit(X_train, y_train)\n",
    "    train_score = clf.score(X_train, y_train)\n",
    "    test_score = clf.score(X_test, y_test)\n",
    "\n",
    "    mean_cross_val_score = cross_val_score(clf, X_train, y_train, cv=5).mean()\n",
    "\n",
    "    temp_score_data = pd.DataFrame({'max_depth': [max_depth],\n",
    "                                    'train_score': [train_score],\n",
    "                                    'test_score': [test_score],\n",
    "                                    'cross_val_score': [mean_cross_val_score]\n",
    "                                    })\n",
    "    scores_data = scores_data.append(temp_score_data)"
   ],
   "metadata": {
    "collapsed": false,
    "pycharm": {
     "name": "#%%\n"
    }
   }
  },
  {
   "cell_type": "code",
   "execution_count": 50,
   "outputs": [
    {
     "data": {
      "text/plain": "   max_depth  train_score  test_score  cross_val_score\n0          1     0.781879    0.796610         0.781961\n0          2     0.805369    0.776271         0.770196\n0          3     0.823826    0.820339         0.790322\n0          4     0.833893    0.823729         0.788627\n0          5     0.840604    0.810169         0.803754",
      "text/html": "<div>\n<style scoped>\n    .dataframe tbody tr th:only-of-type {\n        vertical-align: middle;\n    }\n\n    .dataframe tbody tr th {\n        vertical-align: top;\n    }\n\n    .dataframe thead th {\n        text-align: right;\n    }\n</style>\n<table border=\"1\" class=\"dataframe\">\n  <thead>\n    <tr style=\"text-align: right;\">\n      <th></th>\n      <th>max_depth</th>\n      <th>train_score</th>\n      <th>test_score</th>\n      <th>cross_val_score</th>\n    </tr>\n  </thead>\n  <tbody>\n    <tr>\n      <th>0</th>\n      <td>1</td>\n      <td>0.781879</td>\n      <td>0.796610</td>\n      <td>0.781961</td>\n    </tr>\n    <tr>\n      <th>0</th>\n      <td>2</td>\n      <td>0.805369</td>\n      <td>0.776271</td>\n      <td>0.770196</td>\n    </tr>\n    <tr>\n      <th>0</th>\n      <td>3</td>\n      <td>0.823826</td>\n      <td>0.820339</td>\n      <td>0.790322</td>\n    </tr>\n    <tr>\n      <th>0</th>\n      <td>4</td>\n      <td>0.833893</td>\n      <td>0.823729</td>\n      <td>0.788627</td>\n    </tr>\n    <tr>\n      <th>0</th>\n      <td>5</td>\n      <td>0.840604</td>\n      <td>0.810169</td>\n      <td>0.803754</td>\n    </tr>\n  </tbody>\n</table>\n</div>"
     },
     "execution_count": 50,
     "metadata": {},
     "output_type": "execute_result"
    }
   ],
   "source": [
    "scores_data.head()"
   ],
   "metadata": {
    "collapsed": false,
    "pycharm": {
     "name": "#%%\n"
    }
   }
  },
  {
   "cell_type": "code",
   "execution_count": 51,
   "outputs": [
    {
     "data": {
      "text/plain": "<AxesSubplot:xlabel='max_depth', ylabel='score'>"
     },
     "execution_count": 51,
     "metadata": {},
     "output_type": "execute_result"
    },
    {
     "data": {
      "text/plain": "<Figure size 432x288 with 1 Axes>",
      "image/png": "[encoded data removed]"
     },
     "metadata": {
      "needs_background": "light"
     },
     "output_type": "display_data"
    }
   ],
   "source": [
    "# Снова при помощи melt и отрисовки графика отрисуем линии. Так же добавим cross_val_score\n",
    "scores_data_long = pd.melt(scores_data, id_vars=['max_depth'],\n",
    "                           value_vars=['train_score', 'test_score', 'cross_val_score'],\n",
    "                           var_name='set_type',  # Имя колонки с ключами\n",
    "                           value_name='score')  #\n",
    "sns.lineplot(x='max_depth', y='score', hue='set_type', data=scores_data_long)"
   ],
   "metadata": {
    "collapsed": false,
    "pycharm": {
     "name": "#%%\n"
    }
   }
  },
  {
   "cell_type": "code",
   "execution_count": 52,
   "outputs": [
    {
     "data": {
      "text/plain": "     max_depth         set_type     score\n198          1  cross_val_score  0.781961\n199          2  cross_val_score  0.770196\n200          3  cross_val_score  0.790322\n201          4  cross_val_score  0.788627\n202          5  cross_val_score  0.803754\n203          6  cross_val_score  0.802073\n204          7  cross_val_score  0.802059\n205          8  cross_val_score  0.800364\n206          9  cross_val_score  0.791947\n207         10  cross_val_score  0.793627\n208         11  cross_val_score  0.805392\n209         12  cross_val_score  0.788613\n210         13  cross_val_score  0.793627\n211         14  cross_val_score  0.805392\n212         15  cross_val_score  0.785266\n213         16  cross_val_score  0.778557\n214         17  cross_val_score  0.775182\n215         18  cross_val_score  0.780266\n216         19  cross_val_score  0.773515\n217         20  cross_val_score  0.771863",
      "text/html": "<div>\n<style scoped>\n    .dataframe tbody tr th:only-of-type {\n        vertical-align: middle;\n    }\n\n    .dataframe tbody tr th {\n        vertical-align: top;\n    }\n\n    .dataframe thead th {\n        text-align: right;\n    }\n</style>\n<table border=\"1\" class=\"dataframe\">\n  <thead>\n    <tr style=\"text-align: right;\">\n      <th></th>\n      <th>max_depth</th>\n      <th>set_type</th>\n      <th>score</th>\n    </tr>\n  </thead>\n  <tbody>\n    <tr>\n      <th>198</th>\n      <td>1</td>\n      <td>cross_val_score</td>\n      <td>0.781961</td>\n    </tr>\n    <tr>\n      <th>199</th>\n      <td>2</td>\n      <td>cross_val_score</td>\n      <td>0.770196</td>\n    </tr>\n    <tr>\n      <th>200</th>\n      <td>3</td>\n      <td>cross_val_score</td>\n      <td>0.790322</td>\n    </tr>\n    <tr>\n      <th>201</th>\n      <td>4</td>\n      <td>cross_val_score</td>\n      <td>0.788627</td>\n    </tr>\n    <tr>\n      <th>202</th>\n      <td>5</td>\n      <td>cross_val_score</td>\n      <td>0.803754</td>\n    </tr>\n    <tr>\n      <th>203</th>\n      <td>6</td>\n      <td>cross_val_score</td>\n      <td>0.802073</td>\n    </tr>\n    <tr>\n      <th>204</th>\n      <td>7</td>\n      <td>cross_val_score</td>\n      <td>0.802059</td>\n    </tr>\n    <tr>\n      <th>205</th>\n      <td>8</td>\n      <td>cross_val_score</td>\n      <td>0.800364</td>\n    </tr>\n    <tr>\n      <th>206</th>\n      <td>9</td>\n      <td>cross_val_score</td>\n      <td>0.791947</td>\n    </tr>\n    <tr>\n      <th>207</th>\n      <td>10</td>\n      <td>cross_val_score</td>\n      <td>0.793627</td>\n    </tr>\n    <tr>\n      <th>208</th>\n      <td>11</td>\n      <td>cross_val_score</td>\n      <td>0.805392</td>\n    </tr>\n    <tr>\n      <th>209</th>\n      <td>12</td>\n      <td>cross_val_score</td>\n      <td>0.788613</td>\n    </tr>\n    <tr>\n      <th>210</th>\n      <td>13</td>\n      <td>cross_val_score</td>\n      <td>0.793627</td>\n    </tr>\n    <tr>\n      <th>211</th>\n      <td>14</td>\n      <td>cross_val_score</td>\n      <td>0.805392</td>\n    </tr>\n    <tr>\n      <th>212</th>\n      <td>15</td>\n      <td>cross_val_score</td>\n      <td>0.785266</td>\n    </tr>\n    <tr>\n      <th>213</th>\n      <td>16</td>\n      <td>cross_val_score</td>\n      <td>0.778557</td>\n    </tr>\n    <tr>\n      <th>214</th>\n      <td>17</td>\n      <td>cross_val_score</td>\n      <td>0.775182</td>\n    </tr>\n    <tr>\n      <th>215</th>\n      <td>18</td>\n      <td>cross_val_score</td>\n      <td>0.780266</td>\n    </tr>\n    <tr>\n      <th>216</th>\n      <td>19</td>\n      <td>cross_val_score</td>\n      <td>0.773515</td>\n    </tr>\n    <tr>\n      <th>217</th>\n      <td>20</td>\n      <td>cross_val_score</td>\n      <td>0.771863</td>\n    </tr>\n  </tbody>\n</table>\n</div>"
     },
     "execution_count": 52,
     "metadata": {},
     "output_type": "execute_result"
    }
   ],
   "source": [
    "scores_data_long.query(\"set_type == 'cross_val_score'\").head(20)\n",
    "# Можем увидеть что на 11-м шаге наибольшая точность достигается"
   ],
   "metadata": {
    "collapsed": false,
    "pycharm": {
     "name": "#%%\n"
    }
   }
  },
  {
   "cell_type": "code",
   "execution_count": 54,
   "outputs": [],
   "source": [
    "# теперь при максимальной глубине 11 протестим финально дерево.\n",
    "best_clf = tree.DecisionTreeClassifier(criterion='entropy', max_depth=11)"
   ],
   "metadata": {
    "collapsed": false,
    "pycharm": {
     "name": "#%%\n"
    }
   }
  },
  {
   "cell_type": "code",
   "execution_count": 55,
   "outputs": [
    {
     "data": {
      "text/plain": "0.7932203389830509"
     },
     "execution_count": 55,
     "metadata": {},
     "output_type": "execute_result"
    }
   ],
   "source": [
    "# проверим точность на значениях которые не видел классификатор ранее\n",
    "cross_val_score(clf, X_test, y_test, cv=5).mean()\n",
    "# Полученное значение можно использовать как финальное значение, которое мы получили при обучении с использованием кросс валидации на train множестве."
   ],
   "metadata": {
    "collapsed": false,
    "pycharm": {
     "name": "#%%\n"
    }
   }
  },
  {
   "cell_type": "code",
   "execution_count": 57,
   "outputs": [
    {
     "data": {
      "text/plain": "0.7762711864406779"
     },
     "execution_count": 57,
     "metadata": {},
     "output_type": "execute_result"
    }
   ],
   "source": [
    "# В предыдущей ячейке мы по новой проводили кросс валидацию, не обязательно это делать можно вычеслить точность сделав так:\n",
    "best_clf.fit(X_train, y_train)\n",
    "best_clf.score(X_test, y_test)"
   ],
   "metadata": {
    "collapsed": false,
    "pycharm": {
     "name": "#%%\n"
    }
   }
  },
  {
   "cell_type": "markdown",
   "source": [
    "# Не моё, но полезно\n",
    "Тезисы, которые помогли разобраться в данном уроке, может кому тоже пригодится:\n",
    "\n",
    "1. Перекрестная проверка не возвращает модель: кросс-валидация не является способом построения модели, которую можно применить к новым данным. При вызове cross_val_score строится несколько внутренних моделей, однако цель перекрестной проверки заключается только в том, чтобы оценить обобщающую способность данного алгоритма, обучив на определенном наборе данных. (\"Введение в машинное обучение с помощью Python. Руководство для специалистов по работе с данными\" А.Мюллер, С.Гвидо)\n",
    "\n",
    "2. При k-fold кросс-валидации обучающая выборка разбивается на (k-1) подвыборок и следующий алгоритм выполняется k раз:\n",
    "- Модель обучается с использованием (k-1) подвыборок в качестве тренировочных данных;\n",
    "- Полученная модель проверяется на оставшейся одной подвыборке (которая служит тестовым набором для вычисления точности).\n",
    "\n",
    "3. Модель - это набор подготовленных данных (переменных) + метод (статистики, машинного обучения), подобранные для достижения цели исследования (проекта Data Science)\n",
    "Процесс моделирования включает:\n",
    "- Создание модели - планирование показателей (переменных) и выбор метода\n",
    "- Тренировка модели\n",
    "- Проверка адекватности и окончательный выбор модели\n",
    "- Применение тренированной модели к незнакомым данным\n",
    "Хорошая модель будет найдена (вероятно) только после многократного повторения первых 3-х шагов. (\"Основы Data Science и Big Data. Python и наука о данных\" Д.Силен, А.Мейсман, М.Али)\n",
    "\n",
    "Таким образом (насколько я это понял),\n",
    "1. Нужна хорошая модель, которая позволит достичь целей проекта, которую нужно обучить, протестировать, оценить и окончательно выбрать, после чего её можно будет применять \"на производстве\"\n",
    "2. В данном уроке модель - это предобработанные данные Titanic + метод моделирования \"Дерево решений\", модель обучается методом fit() и тестируется 2-мя способами: score и cross_val_score\n",
    "3. Метод cross_val_score() содержит (условно) процедуры обучения (fit) и проверки (score) , но он не может возвращать модель, которую можно применять к новым данным."
   ],
   "metadata": {
    "collapsed": false,
    "pycharm": {
     "name": "#%% md\n"
    }
   }
  },
  {
   "cell_type": "markdown",
   "source": [
    "Для рассмотренного примера при работе с титаником не очень хорошо подходит понятие точность, поскольку пристутствует дисбаланс классов выжили условно 38% прогибли 62%. Соответственно для подобных ситуаций используют другие метрики, такие как: precision, recall, точность, полнота, f-мера, ROC-кривая."
   ],
   "metadata": {
    "collapsed": false,
    "pycharm": {
     "name": "#%% md\n"
    }
   }
  },
  {
   "cell_type": "code",
   "execution_count": null,
   "outputs": [],
   "source": [],
   "metadata": {
    "collapsed": false,
    "pycharm": {
     "name": "#%%\n"
    }
   }
  }
 ],
 "metadata": {
  "kernelspec": {
   "display_name": "Python 3",
   "language": "python",
   "name": "python3"
  },
  "language_info": {
   "codemirror_mode": {
    "name": "ipython",
    "version": 2
   },
   "file_extension": ".py",
   "mimetype": "text/x-python",
   "name": "python",
   "nbconvert_exporter": "python",
   "pygments_lexer": "ipython2",
   "version": "2.7.6"
  }
 },
 "nbformat": 4,
 "nbformat_minor": 0
}