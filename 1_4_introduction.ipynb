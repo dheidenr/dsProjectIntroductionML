{
 "cells": [
  {
   "cell_type": "markdown",
   "metadata": {
    "collapsed": true,
    "pycharm": {
     "name": "#%% md\n"
    }
   },
   "source": [
    "# Введение. Команды: describe, dtypes, size, shape, loc, iloc"
   ]
  },
  {
   "cell_type": "code",
   "execution_count": null,
   "outputs": [],
   "source": [],
   "metadata": {
    "collapsed": false,
    "pycharm": {
     "name": "#%%\n"
    }
   }
  },
  {
   "cell_type": "code",
   "execution_count": null,
   "outputs": [],
   "source": [
    "# Общепринятые именования библиотек\n",
    "import pandas as pd\n",
    "import numpy as np"
   ],
   "metadata": {
    "collapsed": false,
    "pycharm": {
     "name": "#%%\n"
    }
   }
  },
  {
   "cell_type": "code",
   "execution_count": 12,
   "outputs": [],
   "source": [
    "students_performance = pd.read_csv('data/StudentsPerformance.csv')"
   ],
   "metadata": {
    "collapsed": false,
    "pycharm": {
     "name": "#%%\n"
    }
   }
  },
  {
   "cell_type": "code",
   "execution_count": 13,
   "outputs": [
    {
     "data": {
      "text/plain": "   gender race/ethnicity parental level of education         lunch  \\\n0  female        group B           bachelor's degree      standard   \n1  female        group C                some college      standard   \n2  female        group B             master's degree      standard   \n3    male        group A          associate's degree  free/reduced   \n4    male        group C                some college      standard   \n\n  test preparation course  math score  reading score  writing score  \n0                    none          72             72             74  \n1               completed          69             90             88  \n2                    none          90             95             93  \n3                    none          47             57             44  \n4                    none          76             78             75  ",
      "text/html": "<div>\n<style scoped>\n    .dataframe tbody tr th:only-of-type {\n        vertical-align: middle;\n    }\n\n    .dataframe tbody tr th {\n        vertical-align: top;\n    }\n\n    .dataframe thead th {\n        text-align: right;\n    }\n</style>\n<table border=\"1\" class=\"dataframe\">\n  <thead>\n    <tr style=\"text-align: right;\">\n      <th></th>\n      <th>gender</th>\n      <th>race/ethnicity</th>\n      <th>parental level of education</th>\n      <th>lunch</th>\n      <th>test preparation course</th>\n      <th>math score</th>\n      <th>reading score</th>\n      <th>writing score</th>\n    </tr>\n  </thead>\n  <tbody>\n    <tr>\n      <th>0</th>\n      <td>female</td>\n      <td>group B</td>\n      <td>bachelor's degree</td>\n      <td>standard</td>\n      <td>none</td>\n      <td>72</td>\n      <td>72</td>\n      <td>74</td>\n    </tr>\n    <tr>\n      <th>1</th>\n      <td>female</td>\n      <td>group C</td>\n      <td>some college</td>\n      <td>standard</td>\n      <td>completed</td>\n      <td>69</td>\n      <td>90</td>\n      <td>88</td>\n    </tr>\n    <tr>\n      <th>2</th>\n      <td>female</td>\n      <td>group B</td>\n      <td>master's degree</td>\n      <td>standard</td>\n      <td>none</td>\n      <td>90</td>\n      <td>95</td>\n      <td>93</td>\n    </tr>\n    <tr>\n      <th>3</th>\n      <td>male</td>\n      <td>group A</td>\n      <td>associate's degree</td>\n      <td>free/reduced</td>\n      <td>none</td>\n      <td>47</td>\n      <td>57</td>\n      <td>44</td>\n    </tr>\n    <tr>\n      <th>4</th>\n      <td>male</td>\n      <td>group C</td>\n      <td>some college</td>\n      <td>standard</td>\n      <td>none</td>\n      <td>76</td>\n      <td>78</td>\n      <td>75</td>\n    </tr>\n  </tbody>\n</table>\n</div>"
     },
     "execution_count": 13,
     "metadata": {},
     "output_type": "execute_result"
    }
   ],
   "source": [
    "students_performance.head()"
   ],
   "metadata": {
    "collapsed": false,
    "pycharm": {
     "name": "#%%\n"
    }
   }
  },
  {
   "cell_type": "code",
   "execution_count": 14,
   "outputs": [
    {
     "data": {
      "text/plain": "       math score  reading score  writing score\ncount  1000.00000    1000.000000    1000.000000\nmean     66.08900      69.169000      68.054000\nstd      15.16308      14.600192      15.195657\nmin       0.00000      17.000000      10.000000\n25%      57.00000      59.000000      57.750000\n50%      66.00000      70.000000      69.000000\n75%      77.00000      79.000000      79.000000\nmax     100.00000     100.000000     100.000000",
      "text/html": "<div>\n<style scoped>\n    .dataframe tbody tr th:only-of-type {\n        vertical-align: middle;\n    }\n\n    .dataframe tbody tr th {\n        vertical-align: top;\n    }\n\n    .dataframe thead th {\n        text-align: right;\n    }\n</style>\n<table border=\"1\" class=\"dataframe\">\n  <thead>\n    <tr style=\"text-align: right;\">\n      <th></th>\n      <th>math score</th>\n      <th>reading score</th>\n      <th>writing score</th>\n    </tr>\n  </thead>\n  <tbody>\n    <tr>\n      <th>count</th>\n      <td>1000.00000</td>\n      <td>1000.000000</td>\n      <td>1000.000000</td>\n    </tr>\n    <tr>\n      <th>mean</th>\n      <td>66.08900</td>\n      <td>69.169000</td>\n      <td>68.054000</td>\n    </tr>\n    <tr>\n      <th>std</th>\n      <td>15.16308</td>\n      <td>14.600192</td>\n      <td>15.195657</td>\n    </tr>\n    <tr>\n      <th>min</th>\n      <td>0.00000</td>\n      <td>17.000000</td>\n      <td>10.000000</td>\n    </tr>\n    <tr>\n      <th>25%</th>\n      <td>57.00000</td>\n      <td>59.000000</td>\n      <td>57.750000</td>\n    </tr>\n    <tr>\n      <th>50%</th>\n      <td>66.00000</td>\n      <td>70.000000</td>\n      <td>69.000000</td>\n    </tr>\n    <tr>\n      <th>75%</th>\n      <td>77.00000</td>\n      <td>79.000000</td>\n      <td>79.000000</td>\n    </tr>\n    <tr>\n      <th>max</th>\n      <td>100.00000</td>\n      <td>100.000000</td>\n      <td>100.000000</td>\n    </tr>\n  </tbody>\n</table>\n</div>"
     },
     "execution_count": 14,
     "metadata": {},
     "output_type": "execute_result"
    }
   ],
   "source": [
    "# Описательные статистики\n",
    "students_performance.describe()"
   ],
   "metadata": {
    "collapsed": false,
    "pycharm": {
     "name": "#%%\n"
    }
   }
  },
  {
   "cell_type": "code",
   "execution_count": 15,
   "outputs": [
    {
     "data": {
      "text/plain": "gender                         object\nrace/ethnicity                 object\nparental level of education    object\nlunch                          object\ntest preparation course        object\nmath score                      int64\nreading score                   int64\nwriting score                   int64\ndtype: object"
     },
     "execution_count": 15,
     "metadata": {},
     "output_type": "execute_result"
    }
   ],
   "source": [
    "# Посмотреть типы данных датафрейма\n",
    "students_performance.dtypes"
   ],
   "metadata": {
    "collapsed": false,
    "pycharm": {
     "name": "#%%\n"
    }
   }
  },
  {
   "cell_type": "code",
   "execution_count": 16,
   "outputs": [
    {
     "data": {
      "text/plain": "(1000, 8)"
     },
     "execution_count": 16,
     "metadata": {},
     "output_type": "execute_result"
    }
   ],
   "source": [
    "# Атрибут shape(форма) в данном случае показывающий (количество строк, количество столбцов)\n",
    "students_performance.shape"
   ],
   "metadata": {
    "collapsed": false,
    "pycharm": {
     "name": "#%%\n"
    }
   }
  },
  {
   "cell_type": "code",
   "execution_count": 17,
   "outputs": [
    {
     "data": {
      "text/plain": "8000"
     },
     "execution_count": 17,
     "metadata": {},
     "output_type": "execute_result"
    }
   ],
   "source": [
    "students_performance.size"
   ],
   "metadata": {
    "collapsed": false,
    "pycharm": {
     "name": "#%%\n"
    }
   }
  },
  {
   "cell_type": "markdown",
   "source": [
    "## Отбор колонок и строк"
   ],
   "metadata": {
    "collapsed": false,
    "pycharm": {
     "name": "#%% md\n"
    }
   }
  },
  {
   "cell_type": "markdown",
   "source": [
    "### iloc"
   ],
   "metadata": {
    "collapsed": false,
    "pycharm": {
     "name": "#%% md\n"
    }
   }
  },
  {
   "cell_type": "code",
   "execution_count": 18,
   "outputs": [
    {
     "data": {
      "text/plain": "   gender race/ethnicity parental level of education     lunch  \\\n0  female        group B           bachelor's degree  standard   \n1  female        group C                some college  standard   \n2  female        group B             master's degree  standard   \n\n  test preparation course  \n0                    none  \n1               completed  \n2                    none  ",
      "text/html": "<div>\n<style scoped>\n    .dataframe tbody tr th:only-of-type {\n        vertical-align: middle;\n    }\n\n    .dataframe tbody tr th {\n        vertical-align: top;\n    }\n\n    .dataframe thead th {\n        text-align: right;\n    }\n</style>\n<table border=\"1\" class=\"dataframe\">\n  <thead>\n    <tr style=\"text-align: right;\">\n      <th></th>\n      <th>gender</th>\n      <th>race/ethnicity</th>\n      <th>parental level of education</th>\n      <th>lunch</th>\n      <th>test preparation course</th>\n    </tr>\n  </thead>\n  <tbody>\n    <tr>\n      <th>0</th>\n      <td>female</td>\n      <td>group B</td>\n      <td>bachelor's degree</td>\n      <td>standard</td>\n      <td>none</td>\n    </tr>\n    <tr>\n      <th>1</th>\n      <td>female</td>\n      <td>group C</td>\n      <td>some college</td>\n      <td>standard</td>\n      <td>completed</td>\n    </tr>\n    <tr>\n      <th>2</th>\n      <td>female</td>\n      <td>group B</td>\n      <td>master's degree</td>\n      <td>standard</td>\n      <td>none</td>\n    </tr>\n  </tbody>\n</table>\n</div>"
     },
     "execution_count": 18,
     "metadata": {},
     "output_type": "execute_result"
    }
   ],
   "source": [
    "# 3 строки, 5 колонок при помощи integer location iloc\n",
    "students_performance.iloc[0:3, 0:5]"
   ],
   "metadata": {
    "collapsed": false,
    "pycharm": {
     "name": "#%%\n"
    }
   }
  },
  {
   "cell_type": "code",
   "execution_count": 20,
   "outputs": [
    {
     "data": {
      "text/plain": "    gender  math score  writing score\n0   female          72             74\n3     male          47             44\n10    male          58             52",
      "text/html": "<div>\n<style scoped>\n    .dataframe tbody tr th:only-of-type {\n        vertical-align: middle;\n    }\n\n    .dataframe tbody tr th {\n        vertical-align: top;\n    }\n\n    .dataframe thead th {\n        text-align: right;\n    }\n</style>\n<table border=\"1\" class=\"dataframe\">\n  <thead>\n    <tr style=\"text-align: right;\">\n      <th></th>\n      <th>gender</th>\n      <th>math score</th>\n      <th>writing score</th>\n    </tr>\n  </thead>\n  <tbody>\n    <tr>\n      <th>0</th>\n      <td>female</td>\n      <td>72</td>\n      <td>74</td>\n    </tr>\n    <tr>\n      <th>3</th>\n      <td>male</td>\n      <td>47</td>\n      <td>44</td>\n    </tr>\n    <tr>\n      <th>10</th>\n      <td>male</td>\n      <td>58</td>\n      <td>52</td>\n    </tr>\n  </tbody>\n</table>\n</div>"
     },
     "execution_count": 20,
     "metadata": {},
     "output_type": "execute_result"
    }
   ],
   "source": [
    "# Можно отбирать конкретные строки и столбцы по индексам\n",
    "students_performance.iloc[[0, 3, 10], [0, 5, -1]]"
   ],
   "metadata": {
    "collapsed": false,
    "pycharm": {
     "name": "#%%\n"
    }
   }
  },
  {
   "cell_type": "markdown",
   "source": [
    "### loc"
   ],
   "metadata": {
    "collapsed": false,
    "pycharm": {
     "name": "#%% md\n"
    }
   }
  },
  {
   "cell_type": "code",
   "execution_count": 21,
   "outputs": [],
   "source": [
    "# Доступ используя названия колонок и строк\n",
    "students_performance_with_names = students_performance.iloc[[0, 3, 4, 7, 8]]"
   ],
   "metadata": {
    "collapsed": false,
    "pycharm": {
     "name": "#%%\n"
    }
   }
  },
  {
   "cell_type": "code",
   "execution_count": 27,
   "outputs": [],
   "source": [
    "# Установим в качестве индексов столбец с именами\n",
    "students_performance_with_names.index = [\"Cersei\", \"Tywin\", \"Gregor\", \"Joffrey\", \"Ilyn Payne\"]"
   ],
   "metadata": {
    "collapsed": false,
    "pycharm": {
     "name": "#%%\n"
    }
   }
  },
  {
   "cell_type": "code",
   "execution_count": 28,
   "outputs": [
    {
     "data": {
      "text/plain": "            gender race/ethnicity parental level of education         lunch  \\\nCersei      female        group B           bachelor's degree      standard   \nTywin         male        group A          associate's degree  free/reduced   \nGregor        male        group C                some college      standard   \nJoffrey       male        group B                some college  free/reduced   \nIlyn Payne    male        group D                 high school  free/reduced   \n\n           test preparation course  math score  reading score  writing score  \nCersei                        none          72             72             74  \nTywin                         none          47             57             44  \nGregor                        none          76             78             75  \nJoffrey                       none          40             43             39  \nIlyn Payne               completed          64             64             67  ",
      "text/html": "<div>\n<style scoped>\n    .dataframe tbody tr th:only-of-type {\n        vertical-align: middle;\n    }\n\n    .dataframe tbody tr th {\n        vertical-align: top;\n    }\n\n    .dataframe thead th {\n        text-align: right;\n    }\n</style>\n<table border=\"1\" class=\"dataframe\">\n  <thead>\n    <tr style=\"text-align: right;\">\n      <th></th>\n      <th>gender</th>\n      <th>race/ethnicity</th>\n      <th>parental level of education</th>\n      <th>lunch</th>\n      <th>test preparation course</th>\n      <th>math score</th>\n      <th>reading score</th>\n      <th>writing score</th>\n    </tr>\n  </thead>\n  <tbody>\n    <tr>\n      <th>Cersei</th>\n      <td>female</td>\n      <td>group B</td>\n      <td>bachelor's degree</td>\n      <td>standard</td>\n      <td>none</td>\n      <td>72</td>\n      <td>72</td>\n      <td>74</td>\n    </tr>\n    <tr>\n      <th>Tywin</th>\n      <td>male</td>\n      <td>group A</td>\n      <td>associate's degree</td>\n      <td>free/reduced</td>\n      <td>none</td>\n      <td>47</td>\n      <td>57</td>\n      <td>44</td>\n    </tr>\n    <tr>\n      <th>Gregor</th>\n      <td>male</td>\n      <td>group C</td>\n      <td>some college</td>\n      <td>standard</td>\n      <td>none</td>\n      <td>76</td>\n      <td>78</td>\n      <td>75</td>\n    </tr>\n    <tr>\n      <th>Joffrey</th>\n      <td>male</td>\n      <td>group B</td>\n      <td>some college</td>\n      <td>free/reduced</td>\n      <td>none</td>\n      <td>40</td>\n      <td>43</td>\n      <td>39</td>\n    </tr>\n    <tr>\n      <th>Ilyn Payne</th>\n      <td>male</td>\n      <td>group D</td>\n      <td>high school</td>\n      <td>free/reduced</td>\n      <td>completed</td>\n      <td>64</td>\n      <td>64</td>\n      <td>67</td>\n    </tr>\n  </tbody>\n</table>\n</div>"
     },
     "execution_count": 28,
     "metadata": {},
     "output_type": "execute_result"
    }
   ],
   "source": [
    "students_performance_with_names"
   ],
   "metadata": {
    "collapsed": false,
    "pycharm": {
     "name": "#%%\n"
    }
   }
  },
  {
   "cell_type": "code",
   "execution_count": 29,
   "outputs": [
    {
     "data": {
      "text/plain": "         gender race/ethnicity parental level of education         lunch  \\\nCersei   female        group B           bachelor's degree      standard   \nJoffrey    male        group B                some college  free/reduced   \n\n        test preparation course  math score  reading score  writing score  \nCersei                     none          72             72             74  \nJoffrey                    none          40             43             39  ",
      "text/html": "<div>\n<style scoped>\n    .dataframe tbody tr th:only-of-type {\n        vertical-align: middle;\n    }\n\n    .dataframe tbody tr th {\n        vertical-align: top;\n    }\n\n    .dataframe thead th {\n        text-align: right;\n    }\n</style>\n<table border=\"1\" class=\"dataframe\">\n  <thead>\n    <tr style=\"text-align: right;\">\n      <th></th>\n      <th>gender</th>\n      <th>race/ethnicity</th>\n      <th>parental level of education</th>\n      <th>lunch</th>\n      <th>test preparation course</th>\n      <th>math score</th>\n      <th>reading score</th>\n      <th>writing score</th>\n    </tr>\n  </thead>\n  <tbody>\n    <tr>\n      <th>Cersei</th>\n      <td>female</td>\n      <td>group B</td>\n      <td>bachelor's degree</td>\n      <td>standard</td>\n      <td>none</td>\n      <td>72</td>\n      <td>72</td>\n      <td>74</td>\n    </tr>\n    <tr>\n      <th>Joffrey</th>\n      <td>male</td>\n      <td>group B</td>\n      <td>some college</td>\n      <td>free/reduced</td>\n      <td>none</td>\n      <td>40</td>\n      <td>43</td>\n      <td>39</td>\n    </tr>\n  </tbody>\n</table>\n</div>"
     },
     "execution_count": 29,
     "metadata": {},
     "output_type": "execute_result"
    }
   ],
   "source": [
    "# Вывод для конкретных индексов\n",
    "students_performance_with_names.loc[['Cersei', 'Joffrey']]"
   ],
   "metadata": {
    "collapsed": false,
    "pycharm": {
     "name": "#%%\n"
    }
   }
  },
  {
   "cell_type": "code",
   "execution_count": 31,
   "outputs": [
    {
     "data": {
      "text/plain": "         gender  writing score\nCersei   female             74\nJoffrey    male             39",
      "text/html": "<div>\n<style scoped>\n    .dataframe tbody tr th:only-of-type {\n        vertical-align: middle;\n    }\n\n    .dataframe tbody tr th {\n        vertical-align: top;\n    }\n\n    .dataframe thead th {\n        text-align: right;\n    }\n</style>\n<table border=\"1\" class=\"dataframe\">\n  <thead>\n    <tr style=\"text-align: right;\">\n      <th></th>\n      <th>gender</th>\n      <th>writing score</th>\n    </tr>\n  </thead>\n  <tbody>\n    <tr>\n      <th>Cersei</th>\n      <td>female</td>\n      <td>74</td>\n    </tr>\n    <tr>\n      <th>Joffrey</th>\n      <td>male</td>\n      <td>39</td>\n    </tr>\n  </tbody>\n</table>\n</div>"
     },
     "execution_count": 31,
     "metadata": {},
     "output_type": "execute_result"
    }
   ],
   "source": [
    "# Конкретные строки и конкретные столбцы\n",
    "students_performance_with_names.loc[['Cersei', 'Joffrey'], ['gender', 'writing score']]"
   ],
   "metadata": {
    "collapsed": false,
    "pycharm": {
     "name": "#%%\n"
    }
   }
  },
  {
   "cell_type": "code",
   "execution_count": null,
   "outputs": [],
   "source": [
    "type(students_performance_with_names.iloc[:, 0])"
   ],
   "metadata": {
    "collapsed": false,
    "pycharm": {
     "name": "#%%\n"
    }
   }
  },
  {
   "cell_type": "markdown",
   "source": [
    "### pd.Series"
   ],
   "metadata": {
    "collapsed": false,
    "pycharm": {
     "name": "#%% md\n"
    }
   }
  },
  {
   "cell_type": "code",
   "execution_count": 39,
   "outputs": [],
   "source": [
    "# Каждая колонка в DataFrame это pd.Series (Серия пандоса) которая имеет некоторое имя ключ (название столбца)\n",
    "my_series_1 = pd.Series([1, 2, 3], index=[\"Cersei\", \"Tywin\", \"Gregor\"])\n",
    "my_series_2 = pd.Series([4, 5, 6], index=[\"Cersei\", \"Tywin\", \"Gregor\"])"
   ],
   "metadata": {
    "collapsed": false,
    "pycharm": {
     "name": "#%%\n"
    }
   }
  },
  {
   "cell_type": "markdown",
   "source": [
    "### pd.DataFrame"
   ],
   "metadata": {
    "collapsed": false,
    "pycharm": {
     "name": "#%% md\n"
    }
   }
  },
  {
   "cell_type": "code",
   "execution_count": 41,
   "outputs": [
    {
     "data": {
      "text/plain": "        col_name_1  col_name_2\nCersei           1           4\nTywin            2           5\nGregor           3           6",
      "text/html": "<div>\n<style scoped>\n    .dataframe tbody tr th:only-of-type {\n        vertical-align: middle;\n    }\n\n    .dataframe tbody tr th {\n        vertical-align: top;\n    }\n\n    .dataframe thead th {\n        text-align: right;\n    }\n</style>\n<table border=\"1\" class=\"dataframe\">\n  <thead>\n    <tr style=\"text-align: right;\">\n      <th></th>\n      <th>col_name_1</th>\n      <th>col_name_2</th>\n    </tr>\n  </thead>\n  <tbody>\n    <tr>\n      <th>Cersei</th>\n      <td>1</td>\n      <td>4</td>\n    </tr>\n    <tr>\n      <th>Tywin</th>\n      <td>2</td>\n      <td>5</td>\n    </tr>\n    <tr>\n      <th>Gregor</th>\n      <td>3</td>\n      <td>6</td>\n    </tr>\n  </tbody>\n</table>\n</div>"
     },
     "execution_count": 41,
     "metadata": {},
     "output_type": "execute_result"
    }
   ],
   "source": [
    "pd.DataFrame({'col_name_1': my_series_1, 'col_name_2': my_series_2})"
   ],
   "metadata": {
    "collapsed": false,
    "pycharm": {
     "name": "#%%\n"
    }
   }
  },
  {
   "cell_type": "code",
   "execution_count": 43,
   "outputs": [
    {
     "data": {
      "text/plain": "Cersei        female\nTywin           male\nGregor          male\nJoffrey         male\nIlyn Payne      male\nName: gender, dtype: object"
     },
     "execution_count": 43,
     "metadata": {},
     "output_type": "execute_result"
    }
   ],
   "source": [
    "# Если по аналогии со словарем мы обратимся по ключу к DataFrame то получим pd.Series\n",
    "students_performance_with_names['gender']"
   ],
   "metadata": {
    "collapsed": false,
    "pycharm": {
     "name": "#%%\n"
    }
   }
  },
  {
   "cell_type": "code",
   "execution_count": 46,
   "outputs": [
    {
     "data": {
      "text/plain": "            gender\nCersei      female\nTywin         male\nGregor        male\nJoffrey       male\nIlyn Payne    male",
      "text/html": "<div>\n<style scoped>\n    .dataframe tbody tr th:only-of-type {\n        vertical-align: middle;\n    }\n\n    .dataframe tbody tr th {\n        vertical-align: top;\n    }\n\n    .dataframe thead th {\n        text-align: right;\n    }\n</style>\n<table border=\"1\" class=\"dataframe\">\n  <thead>\n    <tr style=\"text-align: right;\">\n      <th></th>\n      <th>gender</th>\n    </tr>\n  </thead>\n  <tbody>\n    <tr>\n      <th>Cersei</th>\n      <td>female</td>\n    </tr>\n    <tr>\n      <th>Tywin</th>\n      <td>male</td>\n    </tr>\n    <tr>\n      <th>Gregor</th>\n      <td>male</td>\n    </tr>\n    <tr>\n      <th>Joffrey</th>\n      <td>male</td>\n    </tr>\n    <tr>\n      <th>Ilyn Payne</th>\n      <td>male</td>\n    </tr>\n  </tbody>\n</table>\n</div>"
     },
     "execution_count": 46,
     "metadata": {},
     "output_type": "execute_result"
    }
   ],
   "source": [
    "# А если обратимся как к списку столбцов то получим DataFrame\n",
    "students_performance_with_names[['gender']]"
   ],
   "metadata": {
    "collapsed": false,
    "pycharm": {
     "name": "#%%\n"
    }
   }
  },
  {
   "cell_type": "code",
   "execution_count": 48,
   "outputs": [
    {
     "data": {
      "text/plain": "        gender race/ethnicity parental level of education         lunch  \\\nCersei  female        group B           bachelor's degree      standard   \nTywin     male        group A          associate's degree  free/reduced   \nGregor    male        group C                some college      standard   \n\n       test preparation course  math score  reading score  writing score  \nCersei                    none          72             72             74  \nTywin                     none          47             57             44  \nGregor                    none          76             78             75  ",
      "text/html": "<div>\n<style scoped>\n    .dataframe tbody tr th:only-of-type {\n        vertical-align: middle;\n    }\n\n    .dataframe tbody tr th {\n        vertical-align: top;\n    }\n\n    .dataframe thead th {\n        text-align: right;\n    }\n</style>\n<table border=\"1\" class=\"dataframe\">\n  <thead>\n    <tr style=\"text-align: right;\">\n      <th></th>\n      <th>gender</th>\n      <th>race/ethnicity</th>\n      <th>parental level of education</th>\n      <th>lunch</th>\n      <th>test preparation course</th>\n      <th>math score</th>\n      <th>reading score</th>\n      <th>writing score</th>\n    </tr>\n  </thead>\n  <tbody>\n    <tr>\n      <th>Cersei</th>\n      <td>female</td>\n      <td>group B</td>\n      <td>bachelor's degree</td>\n      <td>standard</td>\n      <td>none</td>\n      <td>72</td>\n      <td>72</td>\n      <td>74</td>\n    </tr>\n    <tr>\n      <th>Tywin</th>\n      <td>male</td>\n      <td>group A</td>\n      <td>associate's degree</td>\n      <td>free/reduced</td>\n      <td>none</td>\n      <td>47</td>\n      <td>57</td>\n      <td>44</td>\n    </tr>\n    <tr>\n      <th>Gregor</th>\n      <td>male</td>\n      <td>group C</td>\n      <td>some college</td>\n      <td>standard</td>\n      <td>none</td>\n      <td>76</td>\n      <td>78</td>\n      <td>75</td>\n    </tr>\n  </tbody>\n</table>\n</div>"
     },
     "execution_count": 48,
     "metadata": {},
     "output_type": "execute_result"
    }
   ],
   "source": [
    "students_performance_with_names.iloc[:3]"
   ],
   "metadata": {
    "collapsed": false,
    "pycharm": {
     "name": "#%%\n"
    }
   }
  },
  {
   "cell_type": "markdown",
   "source": [
    "## Пометка: loc берет строки включая последнюю, iloc нет."
   ],
   "metadata": {
    "collapsed": false,
    "pycharm": {
     "name": "#%% md\n"
    }
   }
  },
  {
   "cell_type": "code",
   "execution_count": 53,
   "outputs": [
    {
     "data": {
      "text/plain": "Index(['Cersei', 'Tywin', 'Gregor', 'Joffrey', 'Ilyn Payne'], dtype='object')"
     },
     "execution_count": 53,
     "metadata": {},
     "output_type": "execute_result"
    }
   ],
   "source": [
    "students_performance_with_names.index"
   ],
   "metadata": {
    "collapsed": false,
    "pycharm": {
     "name": "#%%\n"
    }
   }
  },
  {
   "cell_type": "code",
   "execution_count": null,
   "outputs": [],
   "source": [],
   "metadata": {
    "collapsed": false,
    "pycharm": {
     "name": "#%%\n"
    }
   }
  }
 ],
 "metadata": {
  "kernelspec": {
   "display_name": "Python 3",
   "language": "python",
   "name": "python3"
  },
  "language_info": {
   "codemirror_mode": {
    "name": "ipython",
    "version": 2
   },
   "file_extension": ".py",
   "mimetype": "text/x-python",
   "name": "python",
   "nbconvert_exporter": "python",
   "pygments_lexer": "ipython2",
   "version": "2.7.6"
  }
 },
 "nbformat": 4,
 "nbformat_minor": 0
}