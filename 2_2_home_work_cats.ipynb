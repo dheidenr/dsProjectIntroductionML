{
 "cells": [
  {
   "cell_type": "code",
   "execution_count": 2,
   "metadata": {
    "collapsed": true
   },
   "outputs": [],
   "source": [
    "import math as m\n",
    "import numpy as np\n",
    "import pandas as pd\n",
    "import matplotlib.pyplot as plt\n",
    "import seaborn as sns\n",
    "from sklearn import tree"
   ]
  },
  {
   "cell_type": "code",
   "source": [
    "# Импорты для визуализации\n",
    "from IPython.display import SVG\n",
    "from graphviz import Source\n",
    "from IPython.display import display\n",
    "\n",
    "from IPython.display import HTML\n",
    "style = \"<style>svg{width:70% !important;height:70% !important:}</style>\"\n",
    "HTML(style)"
   ],
   "metadata": {
    "collapsed": false,
    "pycharm": {
     "name": "#%%\n"
    }
   },
   "execution_count": 3,
   "outputs": [
    {
     "data": {
      "text/plain": "<IPython.core.display.HTML object>",
      "text/html": "<style>svg{width:70% !important;height:70% !important:}</style>"
     },
     "execution_count": 3,
     "metadata": {},
     "output_type": "execute_result"
    }
   ]
  },
  {
   "cell_type": "code",
   "execution_count": 4,
   "outputs": [
    {
     "data": {
      "text/plain": "   Шерстист  Гавкает  Лазает по деревьям      Вид\n0         1        1                   0  собачка\n1         1        1                   0  собачка\n2         1        1                   0  собачка\n3         1        1                   0  собачка\n4         1        0                   1    котик\n5         1        0                   1    котик\n6         1        0                   1    котик\n7         1        0                   1    котик",
      "text/html": "<div>\n<style scoped>\n    .dataframe tbody tr th:only-of-type {\n        vertical-align: middle;\n    }\n\n    .dataframe tbody tr th {\n        vertical-align: top;\n    }\n\n    .dataframe thead th {\n        text-align: right;\n    }\n</style>\n<table border=\"1\" class=\"dataframe\">\n  <thead>\n    <tr style=\"text-align: right;\">\n      <th></th>\n      <th>Шерстист</th>\n      <th>Гавкает</th>\n      <th>Лазает по деревьям</th>\n      <th>Вид</th>\n    </tr>\n  </thead>\n  <tbody>\n    <tr>\n      <th>0</th>\n      <td>1</td>\n      <td>1</td>\n      <td>0</td>\n      <td>собачка</td>\n    </tr>\n    <tr>\n      <th>1</th>\n      <td>1</td>\n      <td>1</td>\n      <td>0</td>\n      <td>собачка</td>\n    </tr>\n    <tr>\n      <th>2</th>\n      <td>1</td>\n      <td>1</td>\n      <td>0</td>\n      <td>собачка</td>\n    </tr>\n    <tr>\n      <th>3</th>\n      <td>1</td>\n      <td>1</td>\n      <td>0</td>\n      <td>собачка</td>\n    </tr>\n    <tr>\n      <th>4</th>\n      <td>1</td>\n      <td>0</td>\n      <td>1</td>\n      <td>котик</td>\n    </tr>\n    <tr>\n      <th>5</th>\n      <td>1</td>\n      <td>0</td>\n      <td>1</td>\n      <td>котик</td>\n    </tr>\n    <tr>\n      <th>6</th>\n      <td>1</td>\n      <td>0</td>\n      <td>1</td>\n      <td>котик</td>\n    </tr>\n    <tr>\n      <th>7</th>\n      <td>1</td>\n      <td>0</td>\n      <td>1</td>\n      <td>котик</td>\n    </tr>\n  </tbody>\n</table>\n</div>"
     },
     "execution_count": 4,
     "metadata": {},
     "output_type": "execute_result"
    }
   ],
   "source": [
    "dogs_df = pd.read_csv('data/dogs.csv', index_col=0)\n",
    "dogs_df"
   ],
   "metadata": {
    "collapsed": false,
    "pycharm": {
     "name": "#%%\n"
    }
   }
  },
  {
   "cell_type": "code",
   "execution_count": 5,
   "outputs": [],
   "source": [
    "clf = tree.DecisionTreeClassifier(criterion='entropy')"
   ],
   "metadata": {
    "collapsed": false,
    "pycharm": {
     "name": "#%%\n"
    }
   }
  },
  {
   "cell_type": "code",
   "execution_count": 6,
   "outputs": [],
   "source": [
    "X = dogs_df[['Гавкает', 'Лазает по деревьям', 'Шерстист']]\n",
    "y = dogs_df.Вид"
   ],
   "metadata": {
    "collapsed": false,
    "pycharm": {
     "name": "#%%\n"
    }
   }
  },
  {
   "cell_type": "code",
   "execution_count": 7,
   "outputs": [
    {
     "data": {
      "text/plain": "DecisionTreeClassifier(criterion='entropy')"
     },
     "execution_count": 7,
     "metadata": {},
     "output_type": "execute_result"
    }
   ],
   "source": [
    "clf.fit(X, y)"
   ],
   "metadata": {
    "collapsed": false,
    "pycharm": {
     "name": "#%%\n"
    }
   }
  },
  {
   "cell_type": "code",
   "execution_count": 8,
   "outputs": [
    {
     "data": {
      "text/plain": "<IPython.core.display.SVG object>",
      "image/svg+xml": "<svg xmlns=\"http://www.w3.org/2000/svg\" xmlns:xlink=\"http://www.w3.org/1999/xlink\" width=\"238pt\" height=\"195pt\" viewBox=\"0.00 0.00 238.00 195.00\">\n<g id=\"graph0\" class=\"graph\" transform=\"scale(1 1) rotate(0) translate(4 191)\">\n<title>Tree</title>\n<polygon fill=\"white\" stroke=\"none\" points=\"-4,4 -4,-191 234,-191 234,4 -4,4\"/>\n<!-- 0 -->\n<g id=\"node1\" class=\"node\"><title>0</title>\n<polygon fill=\"#ffffff\" stroke=\"black\" points=\"170,-187 62,-187 62,-104 170,-104 170,-187\"/>\n<text text-anchor=\"middle\" x=\"116\" y=\"-171.8\" font-family=\"Times New Roman,serif\" font-size=\"14.00\">Гавкает &lt;= 0.5</text>\n<text text-anchor=\"middle\" x=\"116\" y=\"-156.8\" font-family=\"Times New Roman,serif\" font-size=\"14.00\">entropy = 1.0</text>\n<text text-anchor=\"middle\" x=\"116\" y=\"-141.8\" font-family=\"Times New Roman,serif\" font-size=\"14.00\">samples = 8</text>\n<text text-anchor=\"middle\" x=\"116\" y=\"-126.8\" font-family=\"Times New Roman,serif\" font-size=\"14.00\">value = [4, 4]</text>\n<text text-anchor=\"middle\" x=\"116\" y=\"-111.8\" font-family=\"Times New Roman,serif\" font-size=\"14.00\">class = Negative</text>\n</g>\n<!-- 1 -->\n<g id=\"node2\" class=\"node\"><title>1</title>\n<polygon fill=\"#e58139\" stroke=\"black\" points=\"108,-68 0,-68 0,-0 108,-0 108,-68\"/>\n<text text-anchor=\"middle\" x=\"54\" y=\"-52.8\" font-family=\"Times New Roman,serif\" font-size=\"14.00\">entropy = 0.0</text>\n<text text-anchor=\"middle\" x=\"54\" y=\"-37.8\" font-family=\"Times New Roman,serif\" font-size=\"14.00\">samples = 4</text>\n<text text-anchor=\"middle\" x=\"54\" y=\"-22.8\" font-family=\"Times New Roman,serif\" font-size=\"14.00\">value = [4, 0]</text>\n<text text-anchor=\"middle\" x=\"54\" y=\"-7.8\" font-family=\"Times New Roman,serif\" font-size=\"14.00\">class = Negative</text>\n</g>\n<!-- 0&#45;&gt;1 -->\n<g id=\"edge1\" class=\"edge\"><title>0-&gt;1</title>\n<path fill=\"none\" stroke=\"black\" d=\"M92.9135,-103.726C88.0074,-95.0615 82.8179,-85.8962 77.8828,-77.1802\"/>\n<polygon fill=\"black\" stroke=\"black\" points=\"80.8274,-75.277 72.8546,-68.2996 74.7361,-78.726 80.8274,-75.277\"/>\n<text text-anchor=\"middle\" x=\"66.1816\" y=\"-88.6926\" font-family=\"Times New Roman,serif\" font-size=\"14.00\">True</text>\n</g>\n<!-- 2 -->\n<g id=\"node3\" class=\"node\"><title>2</title>\n<polygon fill=\"#399de5\" stroke=\"black\" points=\"230,-68 126,-68 126,-0 230,-0 230,-68\"/>\n<text text-anchor=\"middle\" x=\"178\" y=\"-52.8\" font-family=\"Times New Roman,serif\" font-size=\"14.00\">entropy = 0.0</text>\n<text text-anchor=\"middle\" x=\"178\" y=\"-37.8\" font-family=\"Times New Roman,serif\" font-size=\"14.00\">samples = 4</text>\n<text text-anchor=\"middle\" x=\"178\" y=\"-22.8\" font-family=\"Times New Roman,serif\" font-size=\"14.00\">value = [0, 4]</text>\n<text text-anchor=\"middle\" x=\"178\" y=\"-7.8\" font-family=\"Times New Roman,serif\" font-size=\"14.00\">class = Positive</text>\n</g>\n<!-- 0&#45;&gt;2 -->\n<g id=\"edge2\" class=\"edge\"><title>0-&gt;2</title>\n<path fill=\"none\" stroke=\"black\" d=\"M139.087,-103.726C143.993,-95.0615 149.182,-85.8962 154.117,-77.1802\"/>\n<polygon fill=\"black\" stroke=\"black\" points=\"157.264,-78.726 159.145,-68.2996 151.173,-75.277 157.264,-78.726\"/>\n<text text-anchor=\"middle\" x=\"165.818\" y=\"-88.6926\" font-family=\"Times New Roman,serif\" font-size=\"14.00\">False</text>\n</g>\n</g>\n</svg>"
     },
     "metadata": {},
     "output_type": "display_data"
    }
   ],
   "source": [
    "# Отрисуем что происходит внутри дерева решений\n",
    "graph = Source(tree.export_graphviz(clf, out_file=None,\n",
    "                                    feature_names=list(X),\n",
    "                                    class_names=['Negative', 'Positive'],\n",
    "                                    filled=True))\n",
    "display(SVG(graph.pipe(format='svg')))"
   ],
   "metadata": {
    "collapsed": false,
    "pycharm": {
     "name": "#%%\n"
    }
   }
  },
  {
   "cell_type": "code",
   "execution_count": 9,
   "outputs": [
    {
     "data": {
      "text/plain": "   Шерстист  Гавкает  Лазает по деревьям      Вид\n0         1        1                   0  собачка\n1         1        1                   0  собачка\n2         1        1                   0  собачка\n3         1        1                   0  собачка\n4         1        0                   1    котик\n5         1        0                   1    котик\n6         1        0                   1    котик\n7         1        0                   1    котик\n8         1        1                   1    котик\n9         0        0                   1    котик",
      "text/html": "<div>\n<style scoped>\n    .dataframe tbody tr th:only-of-type {\n        vertical-align: middle;\n    }\n\n    .dataframe tbody tr th {\n        vertical-align: top;\n    }\n\n    .dataframe thead th {\n        text-align: right;\n    }\n</style>\n<table border=\"1\" class=\"dataframe\">\n  <thead>\n    <tr style=\"text-align: right;\">\n      <th></th>\n      <th>Шерстист</th>\n      <th>Гавкает</th>\n      <th>Лазает по деревьям</th>\n      <th>Вид</th>\n    </tr>\n  </thead>\n  <tbody>\n    <tr>\n      <th>0</th>\n      <td>1</td>\n      <td>1</td>\n      <td>0</td>\n      <td>собачка</td>\n    </tr>\n    <tr>\n      <th>1</th>\n      <td>1</td>\n      <td>1</td>\n      <td>0</td>\n      <td>собачка</td>\n    </tr>\n    <tr>\n      <th>2</th>\n      <td>1</td>\n      <td>1</td>\n      <td>0</td>\n      <td>собачка</td>\n    </tr>\n    <tr>\n      <th>3</th>\n      <td>1</td>\n      <td>1</td>\n      <td>0</td>\n      <td>собачка</td>\n    </tr>\n    <tr>\n      <th>4</th>\n      <td>1</td>\n      <td>0</td>\n      <td>1</td>\n      <td>котик</td>\n    </tr>\n    <tr>\n      <th>5</th>\n      <td>1</td>\n      <td>0</td>\n      <td>1</td>\n      <td>котик</td>\n    </tr>\n    <tr>\n      <th>6</th>\n      <td>1</td>\n      <td>0</td>\n      <td>1</td>\n      <td>котик</td>\n    </tr>\n    <tr>\n      <th>7</th>\n      <td>1</td>\n      <td>0</td>\n      <td>1</td>\n      <td>котик</td>\n    </tr>\n    <tr>\n      <th>8</th>\n      <td>1</td>\n      <td>1</td>\n      <td>1</td>\n      <td>котик</td>\n    </tr>\n    <tr>\n      <th>9</th>\n      <td>0</td>\n      <td>0</td>\n      <td>1</td>\n      <td>котик</td>\n    </tr>\n  </tbody>\n</table>\n</div>"
     },
     "execution_count": 9,
     "metadata": {},
     "output_type": "execute_result"
    }
   ],
   "source": [
    "cats_df = pd.read_csv('data/cats.csv', index_col=0)\n",
    "cats_df"
   ],
   "metadata": {
    "collapsed": false,
    "pycharm": {
     "name": "#%%\n"
    }
   }
  },
  {
   "cell_type": "code",
   "execution_count": 10,
   "outputs": [],
   "source": [
    "clf = tree.DecisionTreeClassifier(criterion='entropy')"
   ],
   "metadata": {
    "collapsed": false,
    "pycharm": {
     "name": "#%%\n"
    }
   }
  },
  {
   "cell_type": "code",
   "execution_count": 11,
   "outputs": [
    {
     "data": {
      "text/plain": "DecisionTreeClassifier(criterion='entropy')"
     },
     "execution_count": 11,
     "metadata": {},
     "output_type": "execute_result"
    }
   ],
   "source": [
    "X = cats_df[['Лазает по деревьям', 'Гавкает', 'Шерстист']]\n",
    "y = cats_df.Вид\n",
    "clf.fit(X, y)"
   ],
   "metadata": {
    "collapsed": false,
    "pycharm": {
     "name": "#%%\n"
    }
   }
  },
  {
   "cell_type": "code",
   "execution_count": 12,
   "outputs": [
    {
     "data": {
      "text/plain": "<IPython.core.display.SVG object>",
      "image/svg+xml": "<svg xmlns=\"http://www.w3.org/2000/svg\" xmlns:xlink=\"http://www.w3.org/1999/xlink\" width=\"238pt\" height=\"195pt\" viewBox=\"0.00 0.00 238.00 195.00\">\n<g id=\"graph0\" class=\"graph\" transform=\"scale(1 1) rotate(0) translate(4 191)\">\n<title>Tree</title>\n<polygon fill=\"white\" stroke=\"none\" points=\"-4,4 -4,-191 234,-191 234,4 -4,4\"/>\n<!-- 0 -->\n<g id=\"node1\" class=\"node\"><title>0</title>\n<polygon fill=\"#f6d5bd\" stroke=\"black\" points=\"202,-187 26,-187 26,-104 202,-104 202,-187\"/>\n<text text-anchor=\"middle\" x=\"114\" y=\"-171.8\" font-family=\"Times New Roman,serif\" font-size=\"14.00\">Лазает по деревьям &lt;= 0.5</text>\n<text text-anchor=\"middle\" x=\"114\" y=\"-156.8\" font-family=\"Times New Roman,serif\" font-size=\"14.00\">entropy = 0.971</text>\n<text text-anchor=\"middle\" x=\"114\" y=\"-141.8\" font-family=\"Times New Roman,serif\" font-size=\"14.00\">samples = 10</text>\n<text text-anchor=\"middle\" x=\"114\" y=\"-126.8\" font-family=\"Times New Roman,serif\" font-size=\"14.00\">value = [6, 4]</text>\n<text text-anchor=\"middle\" x=\"114\" y=\"-111.8\" font-family=\"Times New Roman,serif\" font-size=\"14.00\">class = Negative</text>\n</g>\n<!-- 1 -->\n<g id=\"node2\" class=\"node\"><title>1</title>\n<polygon fill=\"#399de5\" stroke=\"black\" points=\"104,-68 0,-68 0,-0 104,-0 104,-68\"/>\n<text text-anchor=\"middle\" x=\"52\" y=\"-52.8\" font-family=\"Times New Roman,serif\" font-size=\"14.00\">entropy = 0.0</text>\n<text text-anchor=\"middle\" x=\"52\" y=\"-37.8\" font-family=\"Times New Roman,serif\" font-size=\"14.00\">samples = 4</text>\n<text text-anchor=\"middle\" x=\"52\" y=\"-22.8\" font-family=\"Times New Roman,serif\" font-size=\"14.00\">value = [0, 4]</text>\n<text text-anchor=\"middle\" x=\"52\" y=\"-7.8\" font-family=\"Times New Roman,serif\" font-size=\"14.00\">class = Positive</text>\n</g>\n<!-- 0&#45;&gt;1 -->\n<g id=\"edge1\" class=\"edge\"><title>0-&gt;1</title>\n<path fill=\"none\" stroke=\"black\" d=\"M90.9135,-103.726C86.0074,-95.0615 80.8179,-85.8962 75.8828,-77.1802\"/>\n<polygon fill=\"black\" stroke=\"black\" points=\"78.8274,-75.277 70.8546,-68.2996 72.7361,-78.726 78.8274,-75.277\"/>\n<text text-anchor=\"middle\" x=\"64.1816\" y=\"-88.6926\" font-family=\"Times New Roman,serif\" font-size=\"14.00\">True</text>\n</g>\n<!-- 2 -->\n<g id=\"node3\" class=\"node\"><title>2</title>\n<polygon fill=\"#e58139\" stroke=\"black\" points=\"230,-68 122,-68 122,-0 230,-0 230,-68\"/>\n<text text-anchor=\"middle\" x=\"176\" y=\"-52.8\" font-family=\"Times New Roman,serif\" font-size=\"14.00\">entropy = 0.0</text>\n<text text-anchor=\"middle\" x=\"176\" y=\"-37.8\" font-family=\"Times New Roman,serif\" font-size=\"14.00\">samples = 6</text>\n<text text-anchor=\"middle\" x=\"176\" y=\"-22.8\" font-family=\"Times New Roman,serif\" font-size=\"14.00\">value = [6, 0]</text>\n<text text-anchor=\"middle\" x=\"176\" y=\"-7.8\" font-family=\"Times New Roman,serif\" font-size=\"14.00\">class = Negative</text>\n</g>\n<!-- 0&#45;&gt;2 -->\n<g id=\"edge2\" class=\"edge\"><title>0-&gt;2</title>\n<path fill=\"none\" stroke=\"black\" d=\"M137.087,-103.726C141.993,-95.0615 147.182,-85.8962 152.117,-77.1802\"/>\n<polygon fill=\"black\" stroke=\"black\" points=\"155.264,-78.726 157.145,-68.2996 149.173,-75.277 155.264,-78.726\"/>\n<text text-anchor=\"middle\" x=\"163.818\" y=\"-88.6926\" font-family=\"Times New Roman,serif\" font-size=\"14.00\">False</text>\n</g>\n</g>\n</svg>"
     },
     "metadata": {},
     "output_type": "display_data"
    }
   ],
   "source": [
    "# Отрисуем что происходит внутри дерева решений\n",
    "graph = Source(tree.export_graphviz(clf, out_file=None,\n",
    "                                    feature_names=list(X),\n",
    "                                    class_names=['Negative', 'Positive'],\n",
    "                                    filled=True))\n",
    "display(SVG(graph.pipe(format='svg')))"
   ],
   "metadata": {
    "collapsed": false,
    "pycharm": {
     "name": "#%%\n"
    }
   }
  },
  {
   "cell_type": "code",
   "execution_count": 13,
   "outputs": [],
   "source": [
    "# def entropy(s: pd.Series, decision=0.5):\n",
    "E_sh_sob=(1/1)*m.log2((1/1)) - 0\n",
    "E_sh_kot=-(4/9)*m.log2((4/9)) - (5/9)*m.log2((5/9))\n",
    "E_gav_sob=0 - (5/5)*m.log2((5/5))\n",
    "E_gav_kot=-(4/5)*m.log2((4/5)) - (1/5)*m.log2((1/5))\n",
    "E_laz_sob=0 - (6/6)*m.log2((6/6))\n",
    "E_laz_kot=-(4/4)*m.log2((4/4)) - 0"
   ],
   "metadata": {
    "collapsed": false,
    "pycharm": {
     "name": "#%%\n"
    }
   }
  },
  {
   "cell_type": "code",
   "execution_count": 14,
   "outputs": [
    {
     "name": "stdout",
     "output_type": "stream",
     "text": [
      "0.0 0.9910760598382222 0.0 0.7219280948873623 0.0 -0.0\n"
     ]
    }
   ],
   "source": [
    "print(E_sh_sob, E_sh_kot,E_gav_sob, E_gav_kot, E_laz_sob, E_laz_kot)"
   ],
   "metadata": {
    "collapsed": false,
    "pycharm": {
     "name": "#%%\n"
    }
   }
  },
  {
   "cell_type": "code",
   "execution_count": 15,
   "outputs": [
    {
     "data": {
      "text/plain": "<IPython.core.display.SVG object>",
      "image/svg+xml": "<svg xmlns=\"http://www.w3.org/2000/svg\" xmlns:xlink=\"http://www.w3.org/1999/xlink\" width=\"242pt\" height=\"195pt\" viewBox=\"0.00 0.00 242.00 195.00\">\n<g id=\"graph0\" class=\"graph\" transform=\"scale(1 1) rotate(0) translate(4 191)\">\n<title>Tree</title>\n<polygon fill=\"white\" stroke=\"none\" points=\"-4,4 -4,-191 238,-191 238,4 -4,4\"/>\n<!-- 0 -->\n<g id=\"node1\" class=\"node\"><title>0</title>\n<polygon fill=\"#f6d5bd\" stroke=\"black\" points=\"176,-187 58,-187 58,-104 176,-104 176,-187\"/>\n<text text-anchor=\"middle\" x=\"117\" y=\"-171.8\" font-family=\"Times New Roman,serif\" font-size=\"14.00\">Шерстист &lt;= 0.5</text>\n<text text-anchor=\"middle\" x=\"117\" y=\"-156.8\" font-family=\"Times New Roman,serif\" font-size=\"14.00\">entropy = 0.971</text>\n<text text-anchor=\"middle\" x=\"117\" y=\"-141.8\" font-family=\"Times New Roman,serif\" font-size=\"14.00\">samples = 10</text>\n<text text-anchor=\"middle\" x=\"117\" y=\"-126.8\" font-family=\"Times New Roman,serif\" font-size=\"14.00\">value = [6, 4]</text>\n<text text-anchor=\"middle\" x=\"117\" y=\"-111.8\" font-family=\"Times New Roman,serif\" font-size=\"14.00\">class = Negative</text>\n</g>\n<!-- 1 -->\n<g id=\"node2\" class=\"node\"><title>1</title>\n<polygon fill=\"#e58139\" stroke=\"black\" points=\"108,-68 0,-68 0,-0 108,-0 108,-68\"/>\n<text text-anchor=\"middle\" x=\"54\" y=\"-52.8\" font-family=\"Times New Roman,serif\" font-size=\"14.00\">entropy = 0.0</text>\n<text text-anchor=\"middle\" x=\"54\" y=\"-37.8\" font-family=\"Times New Roman,serif\" font-size=\"14.00\">samples = 1</text>\n<text text-anchor=\"middle\" x=\"54\" y=\"-22.8\" font-family=\"Times New Roman,serif\" font-size=\"14.00\">value = [1, 0]</text>\n<text text-anchor=\"middle\" x=\"54\" y=\"-7.8\" font-family=\"Times New Roman,serif\" font-size=\"14.00\">class = Negative</text>\n</g>\n<!-- 0&#45;&gt;1 -->\n<g id=\"edge1\" class=\"edge\"><title>0-&gt;1</title>\n<path fill=\"none\" stroke=\"black\" d=\"M93.5411,-103.726C88.5559,-95.0615 83.2827,-85.8962 78.268,-77.1802\"/>\n<polygon fill=\"black\" stroke=\"black\" points=\"81.1794,-75.2219 73.1587,-68.2996 75.1119,-78.7128 81.1794,-75.2219\"/>\n<text text-anchor=\"middle\" x=\"66.6518\" y=\"-88.738\" font-family=\"Times New Roman,serif\" font-size=\"14.00\">True</text>\n</g>\n<!-- 2 -->\n<g id=\"node3\" class=\"node\"><title>2</title>\n<polygon fill=\"#fae6d7\" stroke=\"black\" points=\"234,-68 126,-68 126,-0 234,-0 234,-68\"/>\n<text text-anchor=\"middle\" x=\"180\" y=\"-52.8\" font-family=\"Times New Roman,serif\" font-size=\"14.00\">entropy = 0.991</text>\n<text text-anchor=\"middle\" x=\"180\" y=\"-37.8\" font-family=\"Times New Roman,serif\" font-size=\"14.00\">samples = 9</text>\n<text text-anchor=\"middle\" x=\"180\" y=\"-22.8\" font-family=\"Times New Roman,serif\" font-size=\"14.00\">value = [5, 4]</text>\n<text text-anchor=\"middle\" x=\"180\" y=\"-7.8\" font-family=\"Times New Roman,serif\" font-size=\"14.00\">class = Negative</text>\n</g>\n<!-- 0&#45;&gt;2 -->\n<g id=\"edge2\" class=\"edge\"><title>0-&gt;2</title>\n<path fill=\"none\" stroke=\"black\" d=\"M140.459,-103.726C145.444,-95.0615 150.717,-85.8962 155.732,-77.1802\"/>\n<polygon fill=\"black\" stroke=\"black\" points=\"158.888,-78.7128 160.841,-68.2996 152.821,-75.2219 158.888,-78.7128\"/>\n<text text-anchor=\"middle\" x=\"167.348\" y=\"-88.738\" font-family=\"Times New Roman,serif\" font-size=\"14.00\">False</text>\n</g>\n</g>\n</svg>"
     },
     "metadata": {},
     "output_type": "display_data"
    }
   ],
   "source": [
    "clf = tree.DecisionTreeClassifier(criterion='entropy')\n",
    "X = cats_df[['Шерстист']]\n",
    "y = cats_df.Вид\n",
    "clf.fit(X, y)\n",
    "# Отрисуем что происходит внутри дерева решений\n",
    "graph = Source(tree.export_graphviz(clf, out_file=None,\n",
    "                                    feature_names=list(X),\n",
    "                                    class_names=['Negative', 'Positive'],\n",
    "                                    filled=True))\n",
    "display(SVG(graph.pipe(format='svg')))"
   ],
   "metadata": {
    "collapsed": false,
    "pycharm": {
     "name": "#%%\n"
    }
   }
  },
  {
   "cell_type": "code",
   "execution_count": 16,
   "outputs": [
    {
     "data": {
      "text/plain": "<IPython.core.display.SVG object>",
      "image/svg+xml": "<svg xmlns=\"http://www.w3.org/2000/svg\" xmlns:xlink=\"http://www.w3.org/1999/xlink\" width=\"240pt\" height=\"195pt\" viewBox=\"0.00 0.00 240.00 195.00\">\n<g id=\"graph0\" class=\"graph\" transform=\"scale(1 1) rotate(0) translate(4 191)\">\n<title>Tree</title>\n<polygon fill=\"white\" stroke=\"none\" points=\"-4,4 -4,-191 236,-191 236,4 -4,4\"/>\n<!-- 0 -->\n<g id=\"node1\" class=\"node\"><title>0</title>\n<polygon fill=\"#f6d5bd\" stroke=\"black\" points=\"170,-187 62,-187 62,-104 170,-104 170,-187\"/>\n<text text-anchor=\"middle\" x=\"116\" y=\"-171.8\" font-family=\"Times New Roman,serif\" font-size=\"14.00\">Гавкает &lt;= 0.5</text>\n<text text-anchor=\"middle\" x=\"116\" y=\"-156.8\" font-family=\"Times New Roman,serif\" font-size=\"14.00\">entropy = 0.971</text>\n<text text-anchor=\"middle\" x=\"116\" y=\"-141.8\" font-family=\"Times New Roman,serif\" font-size=\"14.00\">samples = 10</text>\n<text text-anchor=\"middle\" x=\"116\" y=\"-126.8\" font-family=\"Times New Roman,serif\" font-size=\"14.00\">value = [6, 4]</text>\n<text text-anchor=\"middle\" x=\"116\" y=\"-111.8\" font-family=\"Times New Roman,serif\" font-size=\"14.00\">class = Negative</text>\n</g>\n<!-- 1 -->\n<g id=\"node2\" class=\"node\"><title>1</title>\n<polygon fill=\"#e58139\" stroke=\"black\" points=\"108,-68 0,-68 0,-0 108,-0 108,-68\"/>\n<text text-anchor=\"middle\" x=\"54\" y=\"-52.8\" font-family=\"Times New Roman,serif\" font-size=\"14.00\">entropy = 0.0</text>\n<text text-anchor=\"middle\" x=\"54\" y=\"-37.8\" font-family=\"Times New Roman,serif\" font-size=\"14.00\">samples = 5</text>\n<text text-anchor=\"middle\" x=\"54\" y=\"-22.8\" font-family=\"Times New Roman,serif\" font-size=\"14.00\">value = [5, 0]</text>\n<text text-anchor=\"middle\" x=\"54\" y=\"-7.8\" font-family=\"Times New Roman,serif\" font-size=\"14.00\">class = Negative</text>\n</g>\n<!-- 0&#45;&gt;1 -->\n<g id=\"edge1\" class=\"edge\"><title>0-&gt;1</title>\n<path fill=\"none\" stroke=\"black\" d=\"M92.9135,-103.726C88.0074,-95.0615 82.8179,-85.8962 77.8828,-77.1802\"/>\n<polygon fill=\"black\" stroke=\"black\" points=\"80.8274,-75.277 72.8546,-68.2996 74.7361,-78.726 80.8274,-75.277\"/>\n<text text-anchor=\"middle\" x=\"66.1816\" y=\"-88.6926\" font-family=\"Times New Roman,serif\" font-size=\"14.00\">True</text>\n</g>\n<!-- 2 -->\n<g id=\"node3\" class=\"node\"><title>2</title>\n<polygon fill=\"#6ab6ec\" stroke=\"black\" points=\"232,-68 126,-68 126,-0 232,-0 232,-68\"/>\n<text text-anchor=\"middle\" x=\"179\" y=\"-52.8\" font-family=\"Times New Roman,serif\" font-size=\"14.00\">entropy = 0.722</text>\n<text text-anchor=\"middle\" x=\"179\" y=\"-37.8\" font-family=\"Times New Roman,serif\" font-size=\"14.00\">samples = 5</text>\n<text text-anchor=\"middle\" x=\"179\" y=\"-22.8\" font-family=\"Times New Roman,serif\" font-size=\"14.00\">value = [1, 4]</text>\n<text text-anchor=\"middle\" x=\"179\" y=\"-7.8\" font-family=\"Times New Roman,serif\" font-size=\"14.00\">class = Positive</text>\n</g>\n<!-- 0&#45;&gt;2 -->\n<g id=\"edge2\" class=\"edge\"><title>0-&gt;2</title>\n<path fill=\"none\" stroke=\"black\" d=\"M139.459,-103.726C144.444,-95.0615 149.717,-85.8962 154.732,-77.1802\"/>\n<polygon fill=\"black\" stroke=\"black\" points=\"157.888,-78.7128 159.841,-68.2996 151.821,-75.2219 157.888,-78.7128\"/>\n<text text-anchor=\"middle\" x=\"166.348\" y=\"-88.738\" font-family=\"Times New Roman,serif\" font-size=\"14.00\">False</text>\n</g>\n</g>\n</svg>"
     },
     "metadata": {},
     "output_type": "display_data"
    }
   ],
   "source": [
    "clf = tree.DecisionTreeClassifier(criterion='entropy')\n",
    "X = cats_df[['Гавкает']]\n",
    "y = cats_df.Вид\n",
    "clf.fit(X, y)\n",
    "# Отрисуем что происходит внутри дерева решений\n",
    "graph = Source(tree.export_graphviz(clf, out_file=None,\n",
    "                                    feature_names=list(X),\n",
    "                                    class_names=['Negative', 'Positive'],\n",
    "                                    filled=True))\n",
    "display(SVG(graph.pipe(format='svg')))"
   ],
   "metadata": {
    "collapsed": false,
    "pycharm": {
     "name": "#%%\n"
    }
   }
  },
  {
   "cell_type": "code",
   "execution_count": 17,
   "outputs": [
    {
     "data": {
      "text/plain": "<IPython.core.display.SVG object>",
      "image/svg+xml": "<svg xmlns=\"http://www.w3.org/2000/svg\" xmlns:xlink=\"http://www.w3.org/1999/xlink\" width=\"238pt\" height=\"195pt\" viewBox=\"0.00 0.00 238.00 195.00\">\n<g id=\"graph0\" class=\"graph\" transform=\"scale(1 1) rotate(0) translate(4 191)\">\n<title>Tree</title>\n<polygon fill=\"white\" stroke=\"none\" points=\"-4,4 -4,-191 234,-191 234,4 -4,4\"/>\n<!-- 0 -->\n<g id=\"node1\" class=\"node\"><title>0</title>\n<polygon fill=\"#f6d5bd\" stroke=\"black\" points=\"202,-187 26,-187 26,-104 202,-104 202,-187\"/>\n<text text-anchor=\"middle\" x=\"114\" y=\"-171.8\" font-family=\"Times New Roman,serif\" font-size=\"14.00\">Лазает по деревьям &lt;= 0.5</text>\n<text text-anchor=\"middle\" x=\"114\" y=\"-156.8\" font-family=\"Times New Roman,serif\" font-size=\"14.00\">entropy = 0.971</text>\n<text text-anchor=\"middle\" x=\"114\" y=\"-141.8\" font-family=\"Times New Roman,serif\" font-size=\"14.00\">samples = 10</text>\n<text text-anchor=\"middle\" x=\"114\" y=\"-126.8\" font-family=\"Times New Roman,serif\" font-size=\"14.00\">value = [6, 4]</text>\n<text text-anchor=\"middle\" x=\"114\" y=\"-111.8\" font-family=\"Times New Roman,serif\" font-size=\"14.00\">class = Negative</text>\n</g>\n<!-- 1 -->\n<g id=\"node2\" class=\"node\"><title>1</title>\n<polygon fill=\"#399de5\" stroke=\"black\" points=\"104,-68 0,-68 0,-0 104,-0 104,-68\"/>\n<text text-anchor=\"middle\" x=\"52\" y=\"-52.8\" font-family=\"Times New Roman,serif\" font-size=\"14.00\">entropy = 0.0</text>\n<text text-anchor=\"middle\" x=\"52\" y=\"-37.8\" font-family=\"Times New Roman,serif\" font-size=\"14.00\">samples = 4</text>\n<text text-anchor=\"middle\" x=\"52\" y=\"-22.8\" font-family=\"Times New Roman,serif\" font-size=\"14.00\">value = [0, 4]</text>\n<text text-anchor=\"middle\" x=\"52\" y=\"-7.8\" font-family=\"Times New Roman,serif\" font-size=\"14.00\">class = Positive</text>\n</g>\n<!-- 0&#45;&gt;1 -->\n<g id=\"edge1\" class=\"edge\"><title>0-&gt;1</title>\n<path fill=\"none\" stroke=\"black\" d=\"M90.9135,-103.726C86.0074,-95.0615 80.8179,-85.8962 75.8828,-77.1802\"/>\n<polygon fill=\"black\" stroke=\"black\" points=\"78.8274,-75.277 70.8546,-68.2996 72.7361,-78.726 78.8274,-75.277\"/>\n<text text-anchor=\"middle\" x=\"64.1816\" y=\"-88.6926\" font-family=\"Times New Roman,serif\" font-size=\"14.00\">True</text>\n</g>\n<!-- 2 -->\n<g id=\"node3\" class=\"node\"><title>2</title>\n<polygon fill=\"#e58139\" stroke=\"black\" points=\"230,-68 122,-68 122,-0 230,-0 230,-68\"/>\n<text text-anchor=\"middle\" x=\"176\" y=\"-52.8\" font-family=\"Times New Roman,serif\" font-size=\"14.00\">entropy = 0.0</text>\n<text text-anchor=\"middle\" x=\"176\" y=\"-37.8\" font-family=\"Times New Roman,serif\" font-size=\"14.00\">samples = 6</text>\n<text text-anchor=\"middle\" x=\"176\" y=\"-22.8\" font-family=\"Times New Roman,serif\" font-size=\"14.00\">value = [6, 0]</text>\n<text text-anchor=\"middle\" x=\"176\" y=\"-7.8\" font-family=\"Times New Roman,serif\" font-size=\"14.00\">class = Negative</text>\n</g>\n<!-- 0&#45;&gt;2 -->\n<g id=\"edge2\" class=\"edge\"><title>0-&gt;2</title>\n<path fill=\"none\" stroke=\"black\" d=\"M137.087,-103.726C141.993,-95.0615 147.182,-85.8962 152.117,-77.1802\"/>\n<polygon fill=\"black\" stroke=\"black\" points=\"155.264,-78.726 157.145,-68.2996 149.173,-75.277 155.264,-78.726\"/>\n<text text-anchor=\"middle\" x=\"163.818\" y=\"-88.6926\" font-family=\"Times New Roman,serif\" font-size=\"14.00\">False</text>\n</g>\n</g>\n</svg>"
     },
     "metadata": {},
     "output_type": "display_data"
    }
   ],
   "source": [
    "clf = tree.DecisionTreeClassifier(criterion='entropy')\n",
    "X = cats_df[['Лазает по деревьям']]\n",
    "y = cats_df.Вид\n",
    "clf.fit(X, y)\n",
    "# Отрисуем что происходит внутри дерева решений\n",
    "graph = Source(tree.export_graphviz(clf, out_file=None,\n",
    "                                    feature_names=list(X),\n",
    "                                    class_names=['Negative', 'Positive'],\n",
    "                                    filled=True))\n",
    "display(SVG(graph.pipe(format='svg')))"
   ],
   "metadata": {
    "collapsed": false,
    "pycharm": {
     "name": "#%%\n"
    }
   }
  },
  {
   "cell_type": "markdown",
   "source": [
    "# Варианты решения других:"
   ],
   "metadata": {
    "collapsed": false,
    "pycharm": {
     "name": "#%% md\n"
    }
   }
  },
  {
   "cell_type": "code",
   "execution_count": 24,
   "outputs": [
    {
     "name": "stdout",
     "output_type": "stream",
     "text": [
      "Шерстист на 0:  0.0\n",
      "Шерстист на 1:  0.9910760598382222\n",
      "Гавкает на 0:  0.0\n",
      "Гавкает на 1:  0.7219280948873623\n",
      "Лазает по деревьям на 0:  0.0\n",
      "Лазает по деревьям на 1:  0.0\n"
     ]
    }
   ],
   "source": [
    "from scipy.stats import entropy\n",
    "\n",
    "\n",
    "def ent(data):\n",
    "    return entropy(data.Вид.value_counts() / len(data), base=2)\n",
    "\n",
    "\n",
    "df = pd.read_csv('data/cats.csv', index_col=0)\n",
    "print('Шерстист на 0: ', ent(df[df.Шерстист == 0]))\n",
    "print('Шерстист на 1: ', ent(df[df.Шерстист == 1]))\n",
    "print('Гавкает на 0: ', ent(df[df.Гавкает == 0]))\n",
    "print('Гавкает на 1: ', ent(df[df.Гавкает == 1]))\n",
    "print('Лазает по деревьям на 0: ', ent(df[df['Лазает по деревьям'] == 0]))\n",
    "print('Лазает по деревьям на 1: ', ent(df[df['Лазает по деревьям'] == 1]))"
   ],
   "metadata": {
    "collapsed": false,
    "pycharm": {
     "name": "#%%\n"
    }
   }
  },
  {
   "cell_type": "code",
   "execution_count": 37,
   "outputs": [
    {
     "name": "stdout",
     "output_type": "stream",
     "text": [
      "Шерстист -0.0 0.99\n",
      "Гавкает -0.0 0.72\n",
      "Лазает по деревьям -0.0 -0.0\n",
      "Вид -0.0 -0.0\n"
     ]
    }
   ],
   "source": [
    "def split(df, col):\n",
    "    '''Разделяем датафрейм на 2 части, в первой значение col == 0, во второй col == 1 '''\n",
    "    return df[df[col] == 0], df[df[col] == 1]\n",
    "\n",
    "def entropy(df, ycol):\n",
    "    ''' Энтропия значений столбца ycol(Вид) для одного датафрейма  '''\n",
    "    p = df[ycol].value_counts() / df[ycol].size # Series с вероятностями каждого исхода\n",
    "    return round(-np.sum(p * np.log2(p)), 2)    # Умножаем на лог2, складываем\n",
    "\n",
    "cats = cats_df\n",
    "ycol = 'Вид'\n",
    "\n",
    "for col in cats.columns[:4]:\n",
    "    t0, t1 = split(cats, col)\n",
    "    print(col, entropy(t0, ycol), entropy(t1, ycol))\n",
    "\n",
    "# Шерстист -0.0 0.99\n",
    "# Гавкает -0.0 0.72\n",
    "# Лазает по деревьям -0.0 -0.0"
   ],
   "metadata": {
    "collapsed": false,
    "pycharm": {
     "name": "#%%\n"
    }
   }
  },
  {
   "cell_type": "code",
   "execution_count": 27,
   "outputs": [
    {
     "data": {
      "text/plain": "котик      6\nсобачка    4\nName: Вид, dtype: int64"
     },
     "execution_count": 27,
     "metadata": {},
     "output_type": "execute_result"
    }
   ],
   "source": [
    "cats_df.Вид.value_counts()"
   ],
   "metadata": {
    "collapsed": false,
    "pycharm": {
     "name": "#%%\n"
    }
   }
  },
  {
   "cell_type": "code",
   "execution_count": 39,
   "outputs": [
    {
     "name": "stdout",
     "output_type": "stream",
     "text": [
      "0.9709505944546686\n"
     ]
    }
   ],
   "source": [
    "E_y = -(4/10)*m.log2(4/10) - (6/10)*m.log2(6/10)\n",
    "print(E_y)"
   ],
   "metadata": {
    "collapsed": false,
    "pycharm": {
     "name": "#%%\n"
    }
   }
  },
  {
   "cell_type": "code",
   "execution_count": 1,
   "outputs": [
    {
     "ename": "NameError",
     "evalue": "name 'E_y' is not defined",
     "output_type": "error",
     "traceback": [
      "\u001B[1;31m---------------------------------------------------------------------------\u001B[0m",
      "\u001B[1;31mNameError\u001B[0m                                 Traceback (most recent call last)",
      "\u001B[1;32m<ipython-input-1-97d7c1968cae>\u001B[0m in \u001B[0;36m<module>\u001B[1;34m\u001B[0m\n\u001B[1;32m----> 1\u001B[1;33m \u001B[0mE1\u001B[0m \u001B[1;33m=\u001B[0m \u001B[0mE_y\u001B[0m \u001B[1;33m-\u001B[0m \u001B[1;36m0.99\u001B[0m\u001B[1;33m\u001B[0m\u001B[1;33m\u001B[0m\u001B[0m\n\u001B[0m",
      "\u001B[1;31mNameError\u001B[0m: name 'E_y' is not defined"
     ]
    }
   ],
   "source": [
    "E1 = E_y - 0.99"
   ],
   "metadata": {
    "collapsed": false,
    "pycharm": {
     "name": "#%%\n"
    }
   }
  },
  {
   "cell_type": "code",
   "execution_count": 19,
   "outputs": [
    {
     "name": "stdout",
     "output_type": "stream",
     "text": [
      "0.9709505944546686\n"
     ]
    }
   ],
   "source": [
    "# Свои расчеты\n",
    "E_y = -(4/10)*m.log2(4/10) - (6/10)*m.log2(6/10)\n",
    "print(E_y)"
   ],
   "metadata": {
    "collapsed": false,
    "pycharm": {
     "name": "#%%\n"
    }
   }
  },
  {
   "cell_type": "code",
   "execution_count": 37,
   "outputs": [
    {
     "name": "stdout",
     "output_type": "stream",
     "text": [
      "0.9910760598382222\n",
      "-0.0\n",
      "-0.0\n",
      "0.7219280948873623\n"
     ]
    }
   ],
   "source": [
    "E_sh_0 = -(1/1)*m.log2(1/1) - (1/1)*m.log2(1/1)\n",
    "E_sh = -(4/9)*m.log2(4/9) - (5/9)*m.log2(5/9)\n",
    "E_g_zero = -(5/5)*m.log2(5/5) - (5/5)*m.log2(5/5)\n",
    "E_g_one = -(4/5)*m.log2(4/5) - (1/5)*m.log2(1/5)\n",
    "#E_d_zero = -(4/4)*m.log2(4/4) - 0*m.log2(0) # Ноль но лограрифм от нуля не берется\n",
    "#E_d_one = -(6/6)*m.log2(6/6) - (0)*m.log2(0) # Ноль но лограрифм от нуля не берется\n",
    "print(E_sh)\n",
    "print(E_sh_0)\n",
    "print(E_g_zero)\n",
    "print(E_g_one)\n",
    "#print(E_d_zero)\n",
    "#print(E_d_one)"
   ],
   "metadata": {
    "collapsed": false,
    "pycharm": {
     "name": "#%%\n"
    }
   }
  },
  {
   "cell_type": "code",
   "execution_count": 42,
   "outputs": [
    {
     "name": "stdout",
     "output_type": "stream",
     "text": [
      "0.891 0.36 0.0\n"
     ]
    }
   ],
   "source": [
    "eg_sh = 0 + (9/10) * 0.99\n",
    "eg_g = (5/10) * 0 + (5/10) * 0.72\n",
    "eg_l = (4/10) * 0 + (6/10) * 0\n",
    "print(eg_sh, eg_g, eg_l)"
   ],
   "metadata": {
    "collapsed": false,
    "pycharm": {
     "name": "#%%\n"
    }
   }
  },
  {
   "cell_type": "code",
   "execution_count": 43,
   "outputs": [
    {
     "name": "stdout",
     "output_type": "stream",
     "text": [
      "0.07999999999999996 0.61 0.97\n"
     ]
    }
   ],
   "source": [
    "# ig\n",
    "print(0.97 - 0.89, 0.97 - 0.36, 0.97 - 0.0)"
   ],
   "metadata": {
    "collapsed": false,
    "pycharm": {
     "name": "#%%\n"
    }
   }
  },
  {
   "cell_type": "code",
   "execution_count": 48,
   "outputs": [
    {
     "name": "stdout",
     "output_type": "stream",
     "text": [
      "IG по шертистости:  0.07898214060026876\n",
      "IG по голосу:  0.6099865470109876\n",
      "IG по деревьям:  0.9709505944546688\n"
     ]
    }
   ],
   "source": [
    "# Чужое решение\n",
    "import pandas as pd\n",
    "from scipy.stats import entropy\n",
    "\n",
    "\n",
    "def ent(data):\n",
    "    return entropy(data.Вид.value_counts() / len(data), base=2)\n",
    "\n",
    "\n",
    "def ig(data, feature):\n",
    "    ent0 = ent(data[data[feature] == 0])\n",
    "    ent1 = ent(data[data[feature] == 1])\n",
    "    n = len(data)\n",
    "    n0 = len(data[data[feature] == 0])\n",
    "    n1 = len(data[data[feature] == 1])\n",
    "    return ent(data) - ent0 * n0 / n - ent1 * n1 / n\n",
    "\n",
    "\n",
    "df = pd.read_csv('data/cats.csv', index_col=0)\n",
    "\n",
    "# С моим исправлением\n",
    "print('IG по шертистости: ', ig(df, 'Шерстист'))\n",
    "print('IG по голосу: ', ig(df, 'Гавкает'))\n",
    "print('IG по деревьям: ', ig(df, 'Лазает по деревьям'))"
   ],
   "metadata": {
    "collapsed": false,
    "pycharm": {
     "name": "#%%\n"
    }
   }
  },
  {
   "cell_type": "code",
   "execution_count": null,
   "outputs": [],
   "source": [],
   "metadata": {
    "collapsed": false,
    "pycharm": {
     "name": "#%%\n"
    }
   }
  }
 ],
 "metadata": {
  "kernelspec": {
   "display_name": "Python 3",
   "language": "python",
   "name": "python3"
  },
  "language_info": {
   "codemirror_mode": {
    "name": "ipython",
    "version": 2
   },
   "file_extension": ".py",
   "mimetype": "text/x-python",
   "name": "python",
   "nbconvert_exporter": "python",
   "pygments_lexer": "ipython2",
   "version": "2.7.6"
  }
 },
 "nbformat": 4,
 "nbformat_minor": 0
}