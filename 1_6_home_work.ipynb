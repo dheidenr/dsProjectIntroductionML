{
 "cells": [
  {
   "cell_type": "code",
   "execution_count": 56,
   "metadata": {
    "collapsed": true
   },
   "outputs": [],
   "source": [
    "import pandas as pd\n",
    "import numpy as np"
   ]
  },
  {
   "cell_type": "markdown",
   "source": [
    "# Пересчитаем число ног у героев игры Dota2! Сгруппируйте героев из датасэта по числу их ног (колонка legs), и заполните их число в задании ниже."
   ],
   "metadata": {
    "collapsed": false,
    "pycharm": {
     "name": "#%% md\n"
    }
   }
  },
  {
   "cell_type": "code",
   "execution_count": 57,
   "outputs": [],
   "source": [
    "df = pd.read_csv('data/dota_hero_stats.csv')"
   ],
   "metadata": {
    "collapsed": false,
    "pycharm": {
     "name": "#%%\n"
    }
   }
  },
  {
   "cell_type": "code",
   "execution_count": 58,
   "outputs": [
    {
     "data": {
      "text/plain": "   Unnamed: 0 attack_type  id  legs  localized_name  \\\n0           0       Melee   1     2       Anti-Mage   \n1           1       Melee   2     2             Axe   \n2           2      Ranged   3     4            Bane   \n3           3       Melee   4     2     Bloodseeker   \n4           4      Ranged   5     2  Crystal Maiden   \n\n                           name primary_attr  \\\n0        npc_dota_hero_antimage          agi   \n1             npc_dota_hero_axe          str   \n2            npc_dota_hero_bane          int   \n3     npc_dota_hero_bloodseeker          agi   \n4  npc_dota_hero_crystal_maiden          int   \n\n                                               roles  \n0                       ['Carry', 'Escape', 'Nuker']  \n1    ['Initiator', 'Durable', 'Disabler', 'Jungler']  \n2        ['Support', 'Disabler', 'Nuker', 'Durable']  \n3  ['Carry', 'Disabler', 'Jungler', 'Nuker', 'Ini...  \n4        ['Support', 'Disabler', 'Nuker', 'Jungler']  ",
      "text/html": "<div>\n<style scoped>\n    .dataframe tbody tr th:only-of-type {\n        vertical-align: middle;\n    }\n\n    .dataframe tbody tr th {\n        vertical-align: top;\n    }\n\n    .dataframe thead th {\n        text-align: right;\n    }\n</style>\n<table border=\"1\" class=\"dataframe\">\n  <thead>\n    <tr style=\"text-align: right;\">\n      <th></th>\n      <th>Unnamed: 0</th>\n      <th>attack_type</th>\n      <th>id</th>\n      <th>legs</th>\n      <th>localized_name</th>\n      <th>name</th>\n      <th>primary_attr</th>\n      <th>roles</th>\n    </tr>\n  </thead>\n  <tbody>\n    <tr>\n      <th>0</th>\n      <td>0</td>\n      <td>Melee</td>\n      <td>1</td>\n      <td>2</td>\n      <td>Anti-Mage</td>\n      <td>npc_dota_hero_antimage</td>\n      <td>agi</td>\n      <td>['Carry', 'Escape', 'Nuker']</td>\n    </tr>\n    <tr>\n      <th>1</th>\n      <td>1</td>\n      <td>Melee</td>\n      <td>2</td>\n      <td>2</td>\n      <td>Axe</td>\n      <td>npc_dota_hero_axe</td>\n      <td>str</td>\n      <td>['Initiator', 'Durable', 'Disabler', 'Jungler']</td>\n    </tr>\n    <tr>\n      <th>2</th>\n      <td>2</td>\n      <td>Ranged</td>\n      <td>3</td>\n      <td>4</td>\n      <td>Bane</td>\n      <td>npc_dota_hero_bane</td>\n      <td>int</td>\n      <td>['Support', 'Disabler', 'Nuker', 'Durable']</td>\n    </tr>\n    <tr>\n      <th>3</th>\n      <td>3</td>\n      <td>Melee</td>\n      <td>4</td>\n      <td>2</td>\n      <td>Bloodseeker</td>\n      <td>npc_dota_hero_bloodseeker</td>\n      <td>agi</td>\n      <td>['Carry', 'Disabler', 'Jungler', 'Nuker', 'Ini...</td>\n    </tr>\n    <tr>\n      <th>4</th>\n      <td>4</td>\n      <td>Ranged</td>\n      <td>5</td>\n      <td>2</td>\n      <td>Crystal Maiden</td>\n      <td>npc_dota_hero_crystal_maiden</td>\n      <td>int</td>\n      <td>['Support', 'Disabler', 'Nuker', 'Jungler']</td>\n    </tr>\n  </tbody>\n</table>\n</div>"
     },
     "execution_count": 58,
     "metadata": {},
     "output_type": "execute_result"
    }
   ],
   "source": [
    "df.head()"
   ],
   "metadata": {
    "collapsed": false,
    "pycharm": {
     "name": "#%%\n"
    }
   }
  },
  {
   "cell_type": "code",
   "execution_count": 59,
   "outputs": [
    {
     "data": {
      "text/plain": "(117, 8)"
     },
     "execution_count": 59,
     "metadata": {},
     "output_type": "execute_result"
    }
   ],
   "source": [
    "df.shape"
   ],
   "metadata": {
    "collapsed": false,
    "pycharm": {
     "name": "#%%\n"
    }
   }
  },
  {
   "cell_type": "code",
   "execution_count": 60,
   "outputs": [
    {
     "data": {
      "text/plain": "      Unnamed: 0  attack_type  id  localized_name  name  primary_attr  roles\nlegs                                                                        \n0             11           11  11              11    11            11     11\n2             95           95  95              95    95            95     95\n4              7            7   7               7     7             7      7\n6              3            3   3               3     3             3      3\n8              1            1   1               1     1             1      1",
      "text/html": "<div>\n<style scoped>\n    .dataframe tbody tr th:only-of-type {\n        vertical-align: middle;\n    }\n\n    .dataframe tbody tr th {\n        vertical-align: top;\n    }\n\n    .dataframe thead th {\n        text-align: right;\n    }\n</style>\n<table border=\"1\" class=\"dataframe\">\n  <thead>\n    <tr style=\"text-align: right;\">\n      <th></th>\n      <th>Unnamed: 0</th>\n      <th>attack_type</th>\n      <th>id</th>\n      <th>localized_name</th>\n      <th>name</th>\n      <th>primary_attr</th>\n      <th>roles</th>\n    </tr>\n    <tr>\n      <th>legs</th>\n      <th></th>\n      <th></th>\n      <th></th>\n      <th></th>\n      <th></th>\n      <th></th>\n      <th></th>\n    </tr>\n  </thead>\n  <tbody>\n    <tr>\n      <th>0</th>\n      <td>11</td>\n      <td>11</td>\n      <td>11</td>\n      <td>11</td>\n      <td>11</td>\n      <td>11</td>\n      <td>11</td>\n    </tr>\n    <tr>\n      <th>2</th>\n      <td>95</td>\n      <td>95</td>\n      <td>95</td>\n      <td>95</td>\n      <td>95</td>\n      <td>95</td>\n      <td>95</td>\n    </tr>\n    <tr>\n      <th>4</th>\n      <td>7</td>\n      <td>7</td>\n      <td>7</td>\n      <td>7</td>\n      <td>7</td>\n      <td>7</td>\n      <td>7</td>\n    </tr>\n    <tr>\n      <th>6</th>\n      <td>3</td>\n      <td>3</td>\n      <td>3</td>\n      <td>3</td>\n      <td>3</td>\n      <td>3</td>\n      <td>3</td>\n    </tr>\n    <tr>\n      <th>8</th>\n      <td>1</td>\n      <td>1</td>\n      <td>1</td>\n      <td>1</td>\n      <td>1</td>\n      <td>1</td>\n      <td>1</td>\n    </tr>\n  </tbody>\n</table>\n</div>"
     },
     "execution_count": 60,
     "metadata": {},
     "output_type": "execute_result"
    }
   ],
   "source": [
    "df.groupby('legs').count()"
   ],
   "metadata": {
    "collapsed": false,
    "pycharm": {
     "name": "#%%\n"
    }
   }
  },
  {
   "cell_type": "markdown",
   "source": [
    "# альтернативные решения"
   ],
   "metadata": {
    "collapsed": false,
    "pycharm": {
     "name": "#%% md\n"
    }
   }
  },
  {
   "cell_type": "code",
   "execution_count": 61,
   "outputs": [
    {
     "data": {
      "text/plain": "2    95\n0    11\n4     7\n6     3\n8     1\nName: legs, dtype: int64"
     },
     "execution_count": 61,
     "metadata": {},
     "output_type": "execute_result"
    }
   ],
   "source": [
    "df.legs.value_counts()"
   ],
   "metadata": {
    "collapsed": false,
    "pycharm": {
     "name": "#%%\n"
    }
   }
  },
  {
   "cell_type": "code",
   "execution_count": 62,
   "outputs": [
    {
     "data": {
      "text/plain": "legs\n0    11\n2    95\n4     7\n6     3\n8     1\ndtype: int64"
     },
     "execution_count": 62,
     "metadata": {},
     "output_type": "execute_result"
    }
   ],
   "source": [
    "df.groupby('legs').size()"
   ],
   "metadata": {
    "collapsed": false,
    "pycharm": {
     "name": "#%%\n"
    }
   }
  },
  {
   "cell_type": "code",
   "execution_count": 63,
   "outputs": [
    {
     "data": {
      "text/plain": "   legs\n0    11\n2    95\n4     7\n6     3\n8     1",
      "text/html": "<div>\n<style scoped>\n    .dataframe tbody tr th:only-of-type {\n        vertical-align: middle;\n    }\n\n    .dataframe tbody tr th {\n        vertical-align: top;\n    }\n\n    .dataframe thead th {\n        text-align: right;\n    }\n</style>\n<table border=\"1\" class=\"dataframe\">\n  <thead>\n    <tr style=\"text-align: right;\">\n      <th></th>\n      <th>legs</th>\n    </tr>\n  </thead>\n  <tbody>\n    <tr>\n      <th>0</th>\n      <td>11</td>\n    </tr>\n    <tr>\n      <th>2</th>\n      <td>95</td>\n    </tr>\n    <tr>\n      <th>4</th>\n      <td>7</td>\n    </tr>\n    <tr>\n      <th>6</th>\n      <td>3</td>\n    </tr>\n    <tr>\n      <th>8</th>\n      <td>1</td>\n    </tr>\n  </tbody>\n</table>\n</div>"
     },
     "execution_count": 63,
     "metadata": {},
     "output_type": "execute_result"
    }
   ],
   "source": [
    "df.aggregate({'legs': 'value_counts'}).sort_index()"
   ],
   "metadata": {
    "collapsed": false,
    "pycharm": {
     "name": "#%%\n"
    }
   }
  },
  {
   "cell_type": "code",
   "execution_count": 64,
   "outputs": [
    {
     "data": {
      "text/plain": "legs\n0    11\n2    95\n4     7\n6     3\n8     1\nName: id, dtype: int64"
     },
     "execution_count": 64,
     "metadata": {},
     "output_type": "execute_result"
    }
   ],
   "source": [
    "df.groupby(['legs']).id.nunique()"
   ],
   "metadata": {
    "collapsed": false,
    "pycharm": {
     "name": "#%%\n"
    }
   }
  },
  {
   "cell_type": "code",
   "execution_count": 65,
   "outputs": [
    {
     "data": {
      "text/plain": "[11, 95, 7, 3, 1]"
     },
     "execution_count": 65,
     "metadata": {},
     "output_type": "execute_result"
    }
   ],
   "source": [
    "[len(df[df.legs == i]) for i in [0,2,4,6,8]]"
   ],
   "metadata": {
    "collapsed": false,
    "pycharm": {
     "name": "#%%\n"
    }
   }
  },
  {
   "cell_type": "code",
   "execution_count": 66,
   "outputs": [
    {
     "data": {
      "text/plain": "     Unnamed: 0                                                         id  \\\n          count       mean        std   min   25%   50%   75%    max count   \nlegs                                                                         \n0          11.0  46.000000  32.227318   9.0  20.0  38.0  76.0   92.0  11.0   \n2          95.0  58.789474  34.307091   0.0  29.5  58.0  86.5  116.0  95.0   \n4           7.0  61.714286  31.721256   2.0  53.0  61.0  84.0   95.0   7.0   \n6           3.0  68.000000  46.679760  15.0  50.5  86.0  94.5  103.0   3.0   \n8           1.0  59.000000        NaN  59.0  59.0  59.0  59.0   59.0   1.0   \n\n                                                           \n           mean        std   min   25%   50%   75%    max  \nlegs                                                       \n0     47.727273  32.554849  10.0  21.5  40.0  78.0   94.0  \n2     60.842105  34.994928   1.0  31.5  60.0  88.5  129.0  \n4     63.571429  32.035694   3.0  55.0  63.0  86.0   97.0  \n6     69.666667  47.247575  16.0  52.0  88.0  96.5  105.0  \n8     61.000000        NaN  61.0  61.0  61.0  61.0   61.0  ",
      "text/html": "<div>\n<style scoped>\n    .dataframe tbody tr th:only-of-type {\n        vertical-align: middle;\n    }\n\n    .dataframe tbody tr th {\n        vertical-align: top;\n    }\n\n    .dataframe thead tr th {\n        text-align: left;\n    }\n\n    .dataframe thead tr:last-of-type th {\n        text-align: right;\n    }\n</style>\n<table border=\"1\" class=\"dataframe\">\n  <thead>\n    <tr>\n      <th></th>\n      <th colspan=\"8\" halign=\"left\">Unnamed: 0</th>\n      <th colspan=\"8\" halign=\"left\">id</th>\n    </tr>\n    <tr>\n      <th></th>\n      <th>count</th>\n      <th>mean</th>\n      <th>std</th>\n      <th>min</th>\n      <th>25%</th>\n      <th>50%</th>\n      <th>75%</th>\n      <th>max</th>\n      <th>count</th>\n      <th>mean</th>\n      <th>std</th>\n      <th>min</th>\n      <th>25%</th>\n      <th>50%</th>\n      <th>75%</th>\n      <th>max</th>\n    </tr>\n    <tr>\n      <th>legs</th>\n      <th></th>\n      <th></th>\n      <th></th>\n      <th></th>\n      <th></th>\n      <th></th>\n      <th></th>\n      <th></th>\n      <th></th>\n      <th></th>\n      <th></th>\n      <th></th>\n      <th></th>\n      <th></th>\n      <th></th>\n      <th></th>\n    </tr>\n  </thead>\n  <tbody>\n    <tr>\n      <th>0</th>\n      <td>11.0</td>\n      <td>46.000000</td>\n      <td>32.227318</td>\n      <td>9.0</td>\n      <td>20.0</td>\n      <td>38.0</td>\n      <td>76.0</td>\n      <td>92.0</td>\n      <td>11.0</td>\n      <td>47.727273</td>\n      <td>32.554849</td>\n      <td>10.0</td>\n      <td>21.5</td>\n      <td>40.0</td>\n      <td>78.0</td>\n      <td>94.0</td>\n    </tr>\n    <tr>\n      <th>2</th>\n      <td>95.0</td>\n      <td>58.789474</td>\n      <td>34.307091</td>\n      <td>0.0</td>\n      <td>29.5</td>\n      <td>58.0</td>\n      <td>86.5</td>\n      <td>116.0</td>\n      <td>95.0</td>\n      <td>60.842105</td>\n      <td>34.994928</td>\n      <td>1.0</td>\n      <td>31.5</td>\n      <td>60.0</td>\n      <td>88.5</td>\n      <td>129.0</td>\n    </tr>\n    <tr>\n      <th>4</th>\n      <td>7.0</td>\n      <td>61.714286</td>\n      <td>31.721256</td>\n      <td>2.0</td>\n      <td>53.0</td>\n      <td>61.0</td>\n      <td>84.0</td>\n      <td>95.0</td>\n      <td>7.0</td>\n      <td>63.571429</td>\n      <td>32.035694</td>\n      <td>3.0</td>\n      <td>55.0</td>\n      <td>63.0</td>\n      <td>86.0</td>\n      <td>97.0</td>\n    </tr>\n    <tr>\n      <th>6</th>\n      <td>3.0</td>\n      <td>68.000000</td>\n      <td>46.679760</td>\n      <td>15.0</td>\n      <td>50.5</td>\n      <td>86.0</td>\n      <td>94.5</td>\n      <td>103.0</td>\n      <td>3.0</td>\n      <td>69.666667</td>\n      <td>47.247575</td>\n      <td>16.0</td>\n      <td>52.0</td>\n      <td>88.0</td>\n      <td>96.5</td>\n      <td>105.0</td>\n    </tr>\n    <tr>\n      <th>8</th>\n      <td>1.0</td>\n      <td>59.000000</td>\n      <td>NaN</td>\n      <td>59.0</td>\n      <td>59.0</td>\n      <td>59.0</td>\n      <td>59.0</td>\n      <td>59.0</td>\n      <td>1.0</td>\n      <td>61.000000</td>\n      <td>NaN</td>\n      <td>61.0</td>\n      <td>61.0</td>\n      <td>61.0</td>\n      <td>61.0</td>\n      <td>61.0</td>\n    </tr>\n  </tbody>\n</table>\n</div>"
     },
     "execution_count": 66,
     "metadata": {},
     "output_type": "execute_result"
    }
   ],
   "source": [
    "df.groupby('legs').describe()"
   ],
   "metadata": {
    "collapsed": false,
    "pycharm": {
     "name": "#%%\n"
    }
   }
  },
  {
   "cell_type": "markdown",
   "source": [
    "# К нам поступили данные из бухгалтерии о заработках Лупы и Пупы за разные задачи! Посмотрите у кого из них больше средний заработок в различных категориях (колонка Type) и заполните таблицу, указывая исполнителя с большим заработком в каждой из категорий."
   ],
   "metadata": {
    "collapsed": false,
    "pycharm": {
     "name": "#%% md\n"
    }
   }
  },
  {
   "cell_type": "code",
   "execution_count": 67,
   "outputs": [],
   "source": [
    "df = pd.read_csv('data/accountancy.csv')"
   ],
   "metadata": {
    "collapsed": false,
    "pycharm": {
     "name": "#%%\n"
    }
   }
  },
  {
   "cell_type": "code",
   "execution_count": 68,
   "outputs": [
    {
     "data": {
      "text/plain": "   Unnamed: 0 Executor Type  Salary\n0           0     Pupa    D      63\n1           1     Pupa    A     158\n2           2     Pupa    D     194\n3           3     Pupa    E     109\n4           4    Loopa    E     184",
      "text/html": "<div>\n<style scoped>\n    .dataframe tbody tr th:only-of-type {\n        vertical-align: middle;\n    }\n\n    .dataframe tbody tr th {\n        vertical-align: top;\n    }\n\n    .dataframe thead th {\n        text-align: right;\n    }\n</style>\n<table border=\"1\" class=\"dataframe\">\n  <thead>\n    <tr style=\"text-align: right;\">\n      <th></th>\n      <th>Unnamed: 0</th>\n      <th>Executor</th>\n      <th>Type</th>\n      <th>Salary</th>\n    </tr>\n  </thead>\n  <tbody>\n    <tr>\n      <th>0</th>\n      <td>0</td>\n      <td>Pupa</td>\n      <td>D</td>\n      <td>63</td>\n    </tr>\n    <tr>\n      <th>1</th>\n      <td>1</td>\n      <td>Pupa</td>\n      <td>A</td>\n      <td>158</td>\n    </tr>\n    <tr>\n      <th>2</th>\n      <td>2</td>\n      <td>Pupa</td>\n      <td>D</td>\n      <td>194</td>\n    </tr>\n    <tr>\n      <th>3</th>\n      <td>3</td>\n      <td>Pupa</td>\n      <td>E</td>\n      <td>109</td>\n    </tr>\n    <tr>\n      <th>4</th>\n      <td>4</td>\n      <td>Loopa</td>\n      <td>E</td>\n      <td>184</td>\n    </tr>\n  </tbody>\n</table>\n</div>"
     },
     "execution_count": 68,
     "metadata": {},
     "output_type": "execute_result"
    }
   ],
   "source": [
    "df.head()"
   ],
   "metadata": {
    "collapsed": false,
    "pycharm": {
     "name": "#%%\n"
    }
   }
  },
  {
   "cell_type": "code",
   "execution_count": 69,
   "outputs": [
    {
     "data": {
      "text/plain": "   Executor Type      Salary\n0     Loopa    A   58.000000\n1     Loopa    B  145.166667\n2     Loopa    C  154.333333\n3     Loopa    D  137.714286\n4     Loopa    E  164.000000\n5     Loopa    F  238.000000\n6      Pupa    A  160.833333\n7      Pupa    B   77.000000\n8      Pupa    C   74.500000\n9      Pupa    D  146.500000\n10     Pupa    E  131.200000\n11     Pupa    F  136.250000",
      "text/html": "<div>\n<style scoped>\n    .dataframe tbody tr th:only-of-type {\n        vertical-align: middle;\n    }\n\n    .dataframe tbody tr th {\n        vertical-align: top;\n    }\n\n    .dataframe thead th {\n        text-align: right;\n    }\n</style>\n<table border=\"1\" class=\"dataframe\">\n  <thead>\n    <tr style=\"text-align: right;\">\n      <th></th>\n      <th>Executor</th>\n      <th>Type</th>\n      <th>Salary</th>\n    </tr>\n  </thead>\n  <tbody>\n    <tr>\n      <th>0</th>\n      <td>Loopa</td>\n      <td>A</td>\n      <td>58.000000</td>\n    </tr>\n    <tr>\n      <th>1</th>\n      <td>Loopa</td>\n      <td>B</td>\n      <td>145.166667</td>\n    </tr>\n    <tr>\n      <th>2</th>\n      <td>Loopa</td>\n      <td>C</td>\n      <td>154.333333</td>\n    </tr>\n    <tr>\n      <th>3</th>\n      <td>Loopa</td>\n      <td>D</td>\n      <td>137.714286</td>\n    </tr>\n    <tr>\n      <th>4</th>\n      <td>Loopa</td>\n      <td>E</td>\n      <td>164.000000</td>\n    </tr>\n    <tr>\n      <th>5</th>\n      <td>Loopa</td>\n      <td>F</td>\n      <td>238.000000</td>\n    </tr>\n    <tr>\n      <th>6</th>\n      <td>Pupa</td>\n      <td>A</td>\n      <td>160.833333</td>\n    </tr>\n    <tr>\n      <th>7</th>\n      <td>Pupa</td>\n      <td>B</td>\n      <td>77.000000</td>\n    </tr>\n    <tr>\n      <th>8</th>\n      <td>Pupa</td>\n      <td>C</td>\n      <td>74.500000</td>\n    </tr>\n    <tr>\n      <th>9</th>\n      <td>Pupa</td>\n      <td>D</td>\n      <td>146.500000</td>\n    </tr>\n    <tr>\n      <th>10</th>\n      <td>Pupa</td>\n      <td>E</td>\n      <td>131.200000</td>\n    </tr>\n    <tr>\n      <th>11</th>\n      <td>Pupa</td>\n      <td>F</td>\n      <td>136.250000</td>\n    </tr>\n  </tbody>\n</table>\n</div>"
     },
     "execution_count": 69,
     "metadata": {},
     "output_type": "execute_result"
    }
   ],
   "source": [
    "df.groupby(['Executor', 'Type'], as_index=False).aggregate({'Salary': 'mean'})"
   ],
   "metadata": {
    "collapsed": false,
    "pycharm": {
     "name": "#%%\n"
    }
   }
  },
  {
   "cell_type": "markdown",
   "source": [
    "# Альтернативные решения"
   ],
   "metadata": {
    "collapsed": false,
    "pycharm": {
     "name": "#%% md\n"
    }
   }
  },
  {
   "cell_type": "code",
   "execution_count": 70,
   "outputs": [
    {
     "data": {
      "text/plain": "   Type Executor      Salary\n1     A     Pupa  160.833333\n2     B    Loopa  145.166667\n4     C    Loopa  154.333333\n7     D     Pupa  146.500000\n8     E    Loopa  164.000000\n10    F    Loopa  238.000000",
      "text/html": "<div>\n<style scoped>\n    .dataframe tbody tr th:only-of-type {\n        vertical-align: middle;\n    }\n\n    .dataframe tbody tr th {\n        vertical-align: top;\n    }\n\n    .dataframe thead th {\n        text-align: right;\n    }\n</style>\n<table border=\"1\" class=\"dataframe\">\n  <thead>\n    <tr style=\"text-align: right;\">\n      <th></th>\n      <th>Type</th>\n      <th>Executor</th>\n      <th>Salary</th>\n    </tr>\n  </thead>\n  <tbody>\n    <tr>\n      <th>1</th>\n      <td>A</td>\n      <td>Pupa</td>\n      <td>160.833333</td>\n    </tr>\n    <tr>\n      <th>2</th>\n      <td>B</td>\n      <td>Loopa</td>\n      <td>145.166667</td>\n    </tr>\n    <tr>\n      <th>4</th>\n      <td>C</td>\n      <td>Loopa</td>\n      <td>154.333333</td>\n    </tr>\n    <tr>\n      <th>7</th>\n      <td>D</td>\n      <td>Pupa</td>\n      <td>146.500000</td>\n    </tr>\n    <tr>\n      <th>8</th>\n      <td>E</td>\n      <td>Loopa</td>\n      <td>164.000000</td>\n    </tr>\n    <tr>\n      <th>10</th>\n      <td>F</td>\n      <td>Loopa</td>\n      <td>238.000000</td>\n    </tr>\n  </tbody>\n</table>\n</div>"
     },
     "execution_count": 70,
     "metadata": {},
     "output_type": "execute_result"
    }
   ],
   "source": [
    "\n",
    "df.drop('Unnamed: 0', axis=1)\\\n",
    "    .groupby(['Type', 'Executor'], as_index=False)\\\n",
    "    .mean()\\\n",
    "    .sort_values(['Type', 'Salary'], ascending=[True, False])\\\n",
    "    .groupby('Type')\\\n",
    "    .head(1)"
   ],
   "metadata": {
    "collapsed": false,
    "pycharm": {
     "name": "#%%\n"
    }
   }
  },
  {
   "cell_type": "code",
   "execution_count": 71,
   "outputs": [
    {
     "data": {
      "text/plain": "         Unnamed: 0             Salary            \nExecutor      Loopa   Pupa       Loopa        Pupa\nType                                              \nA         46.000000  16.00   58.000000  160.833333\nB         24.000000  41.00  145.166667   77.000000\nC         31.666667  23.00  154.333333   74.500000\nD         31.857143  14.00  137.714286  146.500000\nE         23.500000  19.80  164.000000  131.200000\nF         20.000000  25.75  238.000000  136.250000",
      "text/html": "<div>\n<style scoped>\n    .dataframe tbody tr th:only-of-type {\n        vertical-align: middle;\n    }\n\n    .dataframe tbody tr th {\n        vertical-align: top;\n    }\n\n    .dataframe thead tr th {\n        text-align: left;\n    }\n\n    .dataframe thead tr:last-of-type th {\n        text-align: right;\n    }\n</style>\n<table border=\"1\" class=\"dataframe\">\n  <thead>\n    <tr>\n      <th></th>\n      <th colspan=\"2\" halign=\"left\">Unnamed: 0</th>\n      <th colspan=\"2\" halign=\"left\">Salary</th>\n    </tr>\n    <tr>\n      <th>Executor</th>\n      <th>Loopa</th>\n      <th>Pupa</th>\n      <th>Loopa</th>\n      <th>Pupa</th>\n    </tr>\n    <tr>\n      <th>Type</th>\n      <th></th>\n      <th></th>\n      <th></th>\n      <th></th>\n    </tr>\n  </thead>\n  <tbody>\n    <tr>\n      <th>A</th>\n      <td>46.000000</td>\n      <td>16.00</td>\n      <td>58.000000</td>\n      <td>160.833333</td>\n    </tr>\n    <tr>\n      <th>B</th>\n      <td>24.000000</td>\n      <td>41.00</td>\n      <td>145.166667</td>\n      <td>77.000000</td>\n    </tr>\n    <tr>\n      <th>C</th>\n      <td>31.666667</td>\n      <td>23.00</td>\n      <td>154.333333</td>\n      <td>74.500000</td>\n    </tr>\n    <tr>\n      <th>D</th>\n      <td>31.857143</td>\n      <td>14.00</td>\n      <td>137.714286</td>\n      <td>146.500000</td>\n    </tr>\n    <tr>\n      <th>E</th>\n      <td>23.500000</td>\n      <td>19.80</td>\n      <td>164.000000</td>\n      <td>131.200000</td>\n    </tr>\n    <tr>\n      <th>F</th>\n      <td>20.000000</td>\n      <td>25.75</td>\n      <td>238.000000</td>\n      <td>136.250000</td>\n    </tr>\n  </tbody>\n</table>\n</div>"
     },
     "execution_count": 71,
     "metadata": {},
     "output_type": "execute_result"
    }
   ],
   "source": [
    "df.groupby(['Type','Executor']).mean().unstack()"
   ],
   "metadata": {
    "collapsed": false,
    "pycharm": {
     "name": "#%%\n"
    }
   }
  },
  {
   "cell_type": "code",
   "execution_count": 72,
   "outputs": [
    {
     "data": {
      "text/plain": "Type               A           B           C           D      E       F\nExecutor                                                               \nLoopa      58.000000  145.166667  154.333333  137.714286  164.0  238.00\nPupa      160.833333   77.000000   74.500000  146.500000  131.2  136.25",
      "text/html": "<div>\n<style scoped>\n    .dataframe tbody tr th:only-of-type {\n        vertical-align: middle;\n    }\n\n    .dataframe tbody tr th {\n        vertical-align: top;\n    }\n\n    .dataframe thead th {\n        text-align: right;\n    }\n</style>\n<table border=\"1\" class=\"dataframe\">\n  <thead>\n    <tr style=\"text-align: right;\">\n      <th>Type</th>\n      <th>A</th>\n      <th>B</th>\n      <th>C</th>\n      <th>D</th>\n      <th>E</th>\n      <th>F</th>\n    </tr>\n    <tr>\n      <th>Executor</th>\n      <th></th>\n      <th></th>\n      <th></th>\n      <th></th>\n      <th></th>\n      <th></th>\n    </tr>\n  </thead>\n  <tbody>\n    <tr>\n      <th>Loopa</th>\n      <td>58.000000</td>\n      <td>145.166667</td>\n      <td>154.333333</td>\n      <td>137.714286</td>\n      <td>164.0</td>\n      <td>238.00</td>\n    </tr>\n    <tr>\n      <th>Pupa</th>\n      <td>160.833333</td>\n      <td>77.000000</td>\n      <td>74.500000</td>\n      <td>146.500000</td>\n      <td>131.2</td>\n      <td>136.25</td>\n    </tr>\n  </tbody>\n</table>\n</div>"
     },
     "execution_count": 72,
     "metadata": {},
     "output_type": "execute_result"
    }
   ],
   "source": [
    "df.pivot_table(values = \"Salary\", index = \"Executor\", columns = \"Type\")"
   ],
   "metadata": {
    "collapsed": false,
    "pycharm": {
     "name": "#%%\n"
    }
   }
  },
  {
   "cell_type": "code",
   "execution_count": 73,
   "outputs": [
    {
     "data": {
      "text/plain": "      Unnamed: 0  Salary\nType                    \nA          False    True\nB           True   False\nC          False   False\nD          False    True\nE          False   False\nF           True   False",
      "text/html": "<div>\n<style scoped>\n    .dataframe tbody tr th:only-of-type {\n        vertical-align: middle;\n    }\n\n    .dataframe tbody tr th {\n        vertical-align: top;\n    }\n\n    .dataframe thead th {\n        text-align: right;\n    }\n</style>\n<table border=\"1\" class=\"dataframe\">\n  <thead>\n    <tr style=\"text-align: right;\">\n      <th></th>\n      <th>Unnamed: 0</th>\n      <th>Salary</th>\n    </tr>\n    <tr>\n      <th>Type</th>\n      <th></th>\n      <th></th>\n    </tr>\n  </thead>\n  <tbody>\n    <tr>\n      <th>A</th>\n      <td>False</td>\n      <td>True</td>\n    </tr>\n    <tr>\n      <th>B</th>\n      <td>True</td>\n      <td>False</td>\n    </tr>\n    <tr>\n      <th>C</th>\n      <td>False</td>\n      <td>False</td>\n    </tr>\n    <tr>\n      <th>D</th>\n      <td>False</td>\n      <td>True</td>\n    </tr>\n    <tr>\n      <th>E</th>\n      <td>False</td>\n      <td>False</td>\n    </tr>\n    <tr>\n      <th>F</th>\n      <td>True</td>\n      <td>False</td>\n    </tr>\n  </tbody>\n</table>\n</div>"
     },
     "execution_count": 73,
     "metadata": {},
     "output_type": "execute_result"
    }
   ],
   "source": [
    "(df[df['Executor']=='Pupa'].groupby(['Type']).mean())>(df[df['Executor']=='Loopa'].groupby(['Type']).mean())"
   ],
   "metadata": {
    "collapsed": false,
    "pycharm": {
     "name": "#%%\n"
    }
   }
  },
  {
   "cell_type": "code",
   "execution_count": 74,
   "outputs": [
    {
     "data": {
      "text/plain": "    Unnamed: 0 Executor Type  Salary\n19          19     Pupa    A     234\n6            6    Loopa    B     249\n44          44    Loopa    C     249\n2            2     Pupa    D     194\n42          42    Loopa    E     220\n35          35    Loopa    F     244",
      "text/html": "<div>\n<style scoped>\n    .dataframe tbody tr th:only-of-type {\n        vertical-align: middle;\n    }\n\n    .dataframe tbody tr th {\n        vertical-align: top;\n    }\n\n    .dataframe thead th {\n        text-align: right;\n    }\n</style>\n<table border=\"1\" class=\"dataframe\">\n  <thead>\n    <tr style=\"text-align: right;\">\n      <th></th>\n      <th>Unnamed: 0</th>\n      <th>Executor</th>\n      <th>Type</th>\n      <th>Salary</th>\n    </tr>\n  </thead>\n  <tbody>\n    <tr>\n      <th>19</th>\n      <td>19</td>\n      <td>Pupa</td>\n      <td>A</td>\n      <td>234</td>\n    </tr>\n    <tr>\n      <th>6</th>\n      <td>6</td>\n      <td>Loopa</td>\n      <td>B</td>\n      <td>249</td>\n    </tr>\n    <tr>\n      <th>44</th>\n      <td>44</td>\n      <td>Loopa</td>\n      <td>C</td>\n      <td>249</td>\n    </tr>\n    <tr>\n      <th>2</th>\n      <td>2</td>\n      <td>Pupa</td>\n      <td>D</td>\n      <td>194</td>\n    </tr>\n    <tr>\n      <th>42</th>\n      <td>42</td>\n      <td>Loopa</td>\n      <td>E</td>\n      <td>220</td>\n    </tr>\n    <tr>\n      <th>35</th>\n      <td>35</td>\n      <td>Loopa</td>\n      <td>F</td>\n      <td>244</td>\n    </tr>\n  </tbody>\n</table>\n</div>"
     },
     "execution_count": 74,
     "metadata": {},
     "output_type": "execute_result"
    }
   ],
   "source": [
    "df.sort_values('Salary', ascending=False).groupby('Type').head(1).sort_values('Type')"
   ],
   "metadata": {
    "collapsed": false,
    "pycharm": {
     "name": "#%%\n"
    }
   }
  },
  {
   "cell_type": "code",
   "execution_count": 75,
   "outputs": [
    {
     "data": {
      "text/plain": "              Salary            \nExecutor       Loopa        Pupa\nType                            \nA          58.000000  160.833333\nB         145.166667   77.000000\nC         154.333333   74.500000\nD         137.714286  146.500000\nE         164.000000  131.200000\nF         238.000000  136.250000",
      "text/html": "<div>\n<style scoped>\n    .dataframe tbody tr th:only-of-type {\n        vertical-align: middle;\n    }\n\n    .dataframe tbody tr th {\n        vertical-align: top;\n    }\n\n    .dataframe thead tr th {\n        text-align: left;\n    }\n\n    .dataframe thead tr:last-of-type th {\n        text-align: right;\n    }\n</style>\n<table border=\"1\" class=\"dataframe\">\n  <thead>\n    <tr>\n      <th></th>\n      <th colspan=\"2\" halign=\"left\">Salary</th>\n    </tr>\n    <tr>\n      <th>Executor</th>\n      <th>Loopa</th>\n      <th>Pupa</th>\n    </tr>\n    <tr>\n      <th>Type</th>\n      <th></th>\n      <th></th>\n    </tr>\n  </thead>\n  <tbody>\n    <tr>\n      <th>A</th>\n      <td>58.000000</td>\n      <td>160.833333</td>\n    </tr>\n    <tr>\n      <th>B</th>\n      <td>145.166667</td>\n      <td>77.000000</td>\n    </tr>\n    <tr>\n      <th>C</th>\n      <td>154.333333</td>\n      <td>74.500000</td>\n    </tr>\n    <tr>\n      <th>D</th>\n      <td>137.714286</td>\n      <td>146.500000</td>\n    </tr>\n    <tr>\n      <th>E</th>\n      <td>164.000000</td>\n      <td>131.200000</td>\n    </tr>\n    <tr>\n      <th>F</th>\n      <td>238.000000</td>\n      <td>136.250000</td>\n    </tr>\n  </tbody>\n</table>\n</div>"
     },
     "execution_count": 75,
     "metadata": {},
     "output_type": "execute_result"
    }
   ],
   "source": [
    "df.groupby(['Executor','Type']).aggregate({'Salary': 'mean'}).unstack(level=0)"
   ],
   "metadata": {
    "collapsed": false,
    "pycharm": {
     "name": "#%%\n"
    }
   }
  },
  {
   "cell_type": "code",
   "execution_count": 76,
   "outputs": [
    {
     "data": {
      "text/plain": "Type\nA     Pupa\nB    Loopa\nC    Loopa\nD     Pupa\nE    Loopa\nF    Loopa\ndtype: object"
     },
     "execution_count": 76,
     "metadata": {},
     "output_type": "execute_result"
    }
   ],
   "source": [
    "# Мб не оптимальный, но удобный способ:\n",
    "#\n",
    "# Берётся сводная таблица, аггрегирующая среднее значение для формата \"индексы - тип, столбцы - исполнитель\";\n",
    "# Определяется индекс максимального значения в каждой строке .idxmax(axis=1);\n",
    "# Из каждого индекса берётся только та часть, которая содержит значение исполнителя.\n",
    "df.pivot_table(index=['Type'],\n",
    "               columns=['Executor'],\n",
    "               aggfunc='mean').idxmax(axis='columns').map(lambda val: val[1])"
   ],
   "metadata": {
    "collapsed": false,
    "pycharm": {
     "name": "#%%\n"
    }
   }
  },
  {
   "cell_type": "code",
   "execution_count": 77,
   "outputs": [
    {
     "data": {
      "text/plain": "Executor       Loopa        Pupa\nType                            \nA          58.000000  160.833333\nB         145.166667   77.000000\nC         154.333333   74.500000\nD         137.714286  146.500000\nE         164.000000  131.200000\nF         238.000000  136.250000",
      "text/html": "<div>\n<style scoped>\n    .dataframe tbody tr th:only-of-type {\n        vertical-align: middle;\n    }\n\n    .dataframe tbody tr th {\n        vertical-align: top;\n    }\n\n    .dataframe thead th {\n        text-align: right;\n    }\n</style>\n<table border=\"1\" class=\"dataframe\">\n  <thead>\n    <tr style=\"text-align: right;\">\n      <th>Executor</th>\n      <th>Loopa</th>\n      <th>Pupa</th>\n    </tr>\n    <tr>\n      <th>Type</th>\n      <th></th>\n      <th></th>\n    </tr>\n  </thead>\n  <tbody>\n    <tr>\n      <th>A</th>\n      <td>58.000000</td>\n      <td>160.833333</td>\n    </tr>\n    <tr>\n      <th>B</th>\n      <td>145.166667</td>\n      <td>77.000000</td>\n    </tr>\n    <tr>\n      <th>C</th>\n      <td>154.333333</td>\n      <td>74.500000</td>\n    </tr>\n    <tr>\n      <th>D</th>\n      <td>137.714286</td>\n      <td>146.500000</td>\n    </tr>\n    <tr>\n      <th>E</th>\n      <td>164.000000</td>\n      <td>131.200000</td>\n    </tr>\n    <tr>\n      <th>F</th>\n      <td>238.000000</td>\n      <td>136.250000</td>\n    </tr>\n  </tbody>\n</table>\n</div>"
     },
     "execution_count": 77,
     "metadata": {},
     "output_type": "execute_result"
    }
   ],
   "source": [
    "df.pivot_table('Salary', 'Type', 'Executor')"
   ],
   "metadata": {
    "collapsed": false,
    "pycharm": {
     "name": "#%%\n"
    }
   }
  },
  {
   "cell_type": "code",
   "execution_count": 78,
   "outputs": [
    {
     "data": {
      "text/plain": "Executor       Loopa        Pupa\nType                            \nA          58.000000  160.833333\nB         145.166667   77.000000\nC         154.333333   74.500000\nD         137.714286  146.500000\nE         164.000000  131.200000\nF         238.000000  136.250000",
      "text/html": "<div>\n<style scoped>\n    .dataframe tbody tr th:only-of-type {\n        vertical-align: middle;\n    }\n\n    .dataframe tbody tr th {\n        vertical-align: top;\n    }\n\n    .dataframe thead th {\n        text-align: right;\n    }\n</style>\n<table border=\"1\" class=\"dataframe\">\n  <thead>\n    <tr style=\"text-align: right;\">\n      <th>Executor</th>\n      <th>Loopa</th>\n      <th>Pupa</th>\n    </tr>\n    <tr>\n      <th>Type</th>\n      <th></th>\n      <th></th>\n    </tr>\n  </thead>\n  <tbody>\n    <tr>\n      <th>A</th>\n      <td>58.000000</td>\n      <td>160.833333</td>\n    </tr>\n    <tr>\n      <th>B</th>\n      <td>145.166667</td>\n      <td>77.000000</td>\n    </tr>\n    <tr>\n      <th>C</th>\n      <td>154.333333</td>\n      <td>74.500000</td>\n    </tr>\n    <tr>\n      <th>D</th>\n      <td>137.714286</td>\n      <td>146.500000</td>\n    </tr>\n    <tr>\n      <th>E</th>\n      <td>164.000000</td>\n      <td>131.200000</td>\n    </tr>\n    <tr>\n      <th>F</th>\n      <td>238.000000</td>\n      <td>136.250000</td>\n    </tr>\n  </tbody>\n</table>\n</div>"
     },
     "execution_count": 78,
     "metadata": {},
     "output_type": "execute_result"
    }
   ],
   "source": [
    "pd.crosstab(df.Type, df.Executor, df.Salary, aggfunc='mean')"
   ],
   "metadata": {
    "collapsed": false,
    "pycharm": {
     "name": "#%%\n"
    }
   }
  },
  {
   "cell_type": "code",
   "execution_count": 79,
   "outputs": [
    {
     "data": {
      "text/plain": "               Salary\nType Executor        \nA    Loopa         58\n     Pupa         234\nB    Loopa        249\n     Pupa          77\nC    Loopa        249\n     Pupa          94\nD    Loopa        181\n     Pupa         194\nE    Loopa        220\n     Pupa         197\nF    Loopa        244\n     Pupa         195",
      "text/html": "<div>\n<style scoped>\n    .dataframe tbody tr th:only-of-type {\n        vertical-align: middle;\n    }\n\n    .dataframe tbody tr th {\n        vertical-align: top;\n    }\n\n    .dataframe thead th {\n        text-align: right;\n    }\n</style>\n<table border=\"1\" class=\"dataframe\">\n  <thead>\n    <tr style=\"text-align: right;\">\n      <th></th>\n      <th></th>\n      <th>Salary</th>\n    </tr>\n    <tr>\n      <th>Type</th>\n      <th>Executor</th>\n      <th></th>\n    </tr>\n  </thead>\n  <tbody>\n    <tr>\n      <th rowspan=\"2\" valign=\"top\">A</th>\n      <th>Loopa</th>\n      <td>58</td>\n    </tr>\n    <tr>\n      <th>Pupa</th>\n      <td>234</td>\n    </tr>\n    <tr>\n      <th rowspan=\"2\" valign=\"top\">B</th>\n      <th>Loopa</th>\n      <td>249</td>\n    </tr>\n    <tr>\n      <th>Pupa</th>\n      <td>77</td>\n    </tr>\n    <tr>\n      <th rowspan=\"2\" valign=\"top\">C</th>\n      <th>Loopa</th>\n      <td>249</td>\n    </tr>\n    <tr>\n      <th>Pupa</th>\n      <td>94</td>\n    </tr>\n    <tr>\n      <th rowspan=\"2\" valign=\"top\">D</th>\n      <th>Loopa</th>\n      <td>181</td>\n    </tr>\n    <tr>\n      <th>Pupa</th>\n      <td>194</td>\n    </tr>\n    <tr>\n      <th rowspan=\"2\" valign=\"top\">E</th>\n      <th>Loopa</th>\n      <td>220</td>\n    </tr>\n    <tr>\n      <th>Pupa</th>\n      <td>197</td>\n    </tr>\n    <tr>\n      <th rowspan=\"2\" valign=\"top\">F</th>\n      <th>Loopa</th>\n      <td>244</td>\n    </tr>\n    <tr>\n      <th>Pupa</th>\n      <td>195</td>\n    </tr>\n  </tbody>\n</table>\n</div>"
     },
     "execution_count": 79,
     "metadata": {},
     "output_type": "execute_result"
    }
   ],
   "source": [
    "df.drop('Unnamed: 0', axis='columns').groupby(['Type', 'Executor']).max()"
   ],
   "metadata": {
    "collapsed": false,
    "pycharm": {
     "name": "#%%\n"
    }
   }
  },
  {
   "cell_type": "code",
   "execution_count": 80,
   "outputs": [
    {
     "data": {
      "text/plain": "Type  Executor\nA     Loopa        58.000000\n      Pupa        160.833333\nB     Loopa       145.166667\n      Pupa         77.000000\nC     Loopa       154.333333\n      Pupa         74.500000\nD     Loopa       137.714286\n      Pupa        146.500000\nE     Loopa       164.000000\n      Pupa        131.200000\nF     Loopa       238.000000\n      Pupa        136.250000\nName: Salary, dtype: float64"
     },
     "execution_count": 80,
     "metadata": {},
     "output_type": "execute_result"
    }
   ],
   "source": [
    "df.groupby(['Type', 'Executor']).mean()['Salary']"
   ],
   "metadata": {
    "collapsed": false,
    "pycharm": {
     "name": "#%%\n"
    }
   }
  },
  {
   "cell_type": "markdown",
   "source": [
    "# Продолжим исследование героев Dota2. Сгруппируйте по колонкам attack_type и primary_attr и выберите самый распространённый набор характеристик."
   ],
   "metadata": {
    "collapsed": false,
    "pycharm": {
     "name": "#%% md\n"
    }
   }
  },
  {
   "cell_type": "code",
   "execution_count": 92,
   "outputs": [
    {
     "data": {
      "text/plain": "(117, 8)"
     },
     "execution_count": 92,
     "metadata": {},
     "output_type": "execute_result"
    }
   ],
   "source": [
    "heroes = pd.read_csv('data/dota_hero_stats.csv')\n",
    "heroes.shape"
   ],
   "metadata": {
    "collapsed": false,
    "pycharm": {
     "name": "#%%\n"
    }
   }
  },
  {
   "cell_type": "code",
   "execution_count": 93,
   "outputs": [
    {
     "data": {
      "text/plain": "   Unnamed: 0 attack_type  id  legs  localized_name  \\\n0           0       Melee   1     2       Anti-Mage   \n1           1       Melee   2     2             Axe   \n2           2      Ranged   3     4            Bane   \n3           3       Melee   4     2     Bloodseeker   \n4           4      Ranged   5     2  Crystal Maiden   \n\n                           name primary_attr  \\\n0        npc_dota_hero_antimage          agi   \n1             npc_dota_hero_axe          str   \n2            npc_dota_hero_bane          int   \n3     npc_dota_hero_bloodseeker          agi   \n4  npc_dota_hero_crystal_maiden          int   \n\n                                               roles  one  \n0                       ['Carry', 'Escape', 'Nuker']    1  \n1    ['Initiator', 'Durable', 'Disabler', 'Jungler']    1  \n2        ['Support', 'Disabler', 'Nuker', 'Durable']    1  \n3  ['Carry', 'Disabler', 'Jungler', 'Nuker', 'Ini...    1  \n4        ['Support', 'Disabler', 'Nuker', 'Jungler']    1  ",
      "text/html": "<div>\n<style scoped>\n    .dataframe tbody tr th:only-of-type {\n        vertical-align: middle;\n    }\n\n    .dataframe tbody tr th {\n        vertical-align: top;\n    }\n\n    .dataframe thead th {\n        text-align: right;\n    }\n</style>\n<table border=\"1\" class=\"dataframe\">\n  <thead>\n    <tr style=\"text-align: right;\">\n      <th></th>\n      <th>Unnamed: 0</th>\n      <th>attack_type</th>\n      <th>id</th>\n      <th>legs</th>\n      <th>localized_name</th>\n      <th>name</th>\n      <th>primary_attr</th>\n      <th>roles</th>\n      <th>one</th>\n    </tr>\n  </thead>\n  <tbody>\n    <tr>\n      <th>0</th>\n      <td>0</td>\n      <td>Melee</td>\n      <td>1</td>\n      <td>2</td>\n      <td>Anti-Mage</td>\n      <td>npc_dota_hero_antimage</td>\n      <td>agi</td>\n      <td>['Carry', 'Escape', 'Nuker']</td>\n      <td>1</td>\n    </tr>\n    <tr>\n      <th>1</th>\n      <td>1</td>\n      <td>Melee</td>\n      <td>2</td>\n      <td>2</td>\n      <td>Axe</td>\n      <td>npc_dota_hero_axe</td>\n      <td>str</td>\n      <td>['Initiator', 'Durable', 'Disabler', 'Jungler']</td>\n      <td>1</td>\n    </tr>\n    <tr>\n      <th>2</th>\n      <td>2</td>\n      <td>Ranged</td>\n      <td>3</td>\n      <td>4</td>\n      <td>Bane</td>\n      <td>npc_dota_hero_bane</td>\n      <td>int</td>\n      <td>['Support', 'Disabler', 'Nuker', 'Durable']</td>\n      <td>1</td>\n    </tr>\n    <tr>\n      <th>3</th>\n      <td>3</td>\n      <td>Melee</td>\n      <td>4</td>\n      <td>2</td>\n      <td>Bloodseeker</td>\n      <td>npc_dota_hero_bloodseeker</td>\n      <td>agi</td>\n      <td>['Carry', 'Disabler', 'Jungler', 'Nuker', 'Ini...</td>\n      <td>1</td>\n    </tr>\n    <tr>\n      <th>4</th>\n      <td>4</td>\n      <td>Ranged</td>\n      <td>5</td>\n      <td>2</td>\n      <td>Crystal Maiden</td>\n      <td>npc_dota_hero_crystal_maiden</td>\n      <td>int</td>\n      <td>['Support', 'Disabler', 'Nuker', 'Jungler']</td>\n      <td>1</td>\n    </tr>\n  </tbody>\n</table>\n</div>"
     },
     "execution_count": 93,
     "metadata": {},
     "output_type": "execute_result"
    }
   ],
   "source": [
    "heroes['one'] = [1 for _ in range(heroes.shape[0])]\n",
    "heroes.head()"
   ],
   "metadata": {
    "collapsed": false,
    "pycharm": {
     "name": "#%%\n"
    }
   }
  },
  {
   "cell_type": "code",
   "execution_count": 100,
   "outputs": [
    {
     "data": {
      "text/plain": "  attack_type  one\n4      Ranged   40\n2       Melee   35\n0       Melee   19\n3      Ranged   18\n5      Ranged    3\n1       Melee    2",
      "text/html": "<div>\n<style scoped>\n    .dataframe tbody tr th:only-of-type {\n        vertical-align: middle;\n    }\n\n    .dataframe tbody tr th {\n        vertical-align: top;\n    }\n\n    .dataframe thead th {\n        text-align: right;\n    }\n</style>\n<table border=\"1\" class=\"dataframe\">\n  <thead>\n    <tr style=\"text-align: right;\">\n      <th></th>\n      <th>attack_type</th>\n      <th>one</th>\n    </tr>\n  </thead>\n  <tbody>\n    <tr>\n      <th>4</th>\n      <td>Ranged</td>\n      <td>40</td>\n    </tr>\n    <tr>\n      <th>2</th>\n      <td>Melee</td>\n      <td>35</td>\n    </tr>\n    <tr>\n      <th>0</th>\n      <td>Melee</td>\n      <td>19</td>\n    </tr>\n    <tr>\n      <th>3</th>\n      <td>Ranged</td>\n      <td>18</td>\n    </tr>\n    <tr>\n      <th>5</th>\n      <td>Ranged</td>\n      <td>3</td>\n    </tr>\n    <tr>\n      <th>1</th>\n      <td>Melee</td>\n      <td>2</td>\n    </tr>\n  </tbody>\n</table>\n</div>"
     },
     "execution_count": 100,
     "metadata": {},
     "output_type": "execute_result"
    }
   ],
   "source": [
    "heroes.groupby(['attack_type', 'primary_attr'], as_index=False)\\\n",
    "    .count()\\\n",
    "    .sort_values(['one'], ascending=False)[['attack_type', 'one']]"
   ],
   "metadata": {
    "collapsed": false,
    "pycharm": {
     "name": "#%%\n"
    }
   }
  },
  {
   "cell_type": "code",
   "execution_count": 102,
   "outputs": [
    {
     "data": {
      "text/plain": "  attack_type primary_attr\n0      Ranged          int",
      "text/html": "<div>\n<style scoped>\n    .dataframe tbody tr th:only-of-type {\n        vertical-align: middle;\n    }\n\n    .dataframe tbody tr th {\n        vertical-align: top;\n    }\n\n    .dataframe thead th {\n        text-align: right;\n    }\n</style>\n<table border=\"1\" class=\"dataframe\">\n  <thead>\n    <tr style=\"text-align: right;\">\n      <th></th>\n      <th>attack_type</th>\n      <th>primary_attr</th>\n    </tr>\n  </thead>\n  <tbody>\n    <tr>\n      <th>0</th>\n      <td>Ranged</td>\n      <td>int</td>\n    </tr>\n  </tbody>\n</table>\n</div>"
     },
     "execution_count": 102,
     "metadata": {},
     "output_type": "execute_result"
    }
   ],
   "source": [
    "heroes.filter(items=['attack_type', 'primary_attr']).mode()"
   ],
   "metadata": {
    "collapsed": false,
    "pycharm": {
     "name": "#%%\n"
    }
   }
  },
  {
   "cell_type": "code",
   "execution_count": 103,
   "outputs": [
    {
     "data": {
      "text/plain": "  attack_type primary_attr\n0      Ranged          int",
      "text/html": "<div>\n<style scoped>\n    .dataframe tbody tr th:only-of-type {\n        vertical-align: middle;\n    }\n\n    .dataframe tbody tr th {\n        vertical-align: top;\n    }\n\n    .dataframe thead th {\n        text-align: right;\n    }\n</style>\n<table border=\"1\" class=\"dataframe\">\n  <thead>\n    <tr style=\"text-align: right;\">\n      <th></th>\n      <th>attack_type</th>\n      <th>primary_attr</th>\n    </tr>\n  </thead>\n  <tbody>\n    <tr>\n      <th>0</th>\n      <td>Ranged</td>\n      <td>int</td>\n    </tr>\n  </tbody>\n</table>\n</div>"
     },
     "execution_count": 103,
     "metadata": {},
     "output_type": "execute_result"
    }
   ],
   "source": [
    "heroes[['attack_type', 'primary_attr']].mode()"
   ],
   "metadata": {
    "collapsed": false,
    "pycharm": {
     "name": "#%%\n"
    }
   }
  },
  {
   "cell_type": "code",
   "execution_count": 104,
   "outputs": [
    {
     "data": {
      "text/plain": "  attack_type primary_attr\n0      Ranged          int",
      "text/html": "<div>\n<style scoped>\n    .dataframe tbody tr th:only-of-type {\n        vertical-align: middle;\n    }\n\n    .dataframe tbody tr th {\n        vertical-align: top;\n    }\n\n    .dataframe thead th {\n        text-align: right;\n    }\n</style>\n<table border=\"1\" class=\"dataframe\">\n  <thead>\n    <tr style=\"text-align: right;\">\n      <th></th>\n      <th>attack_type</th>\n      <th>primary_attr</th>\n    </tr>\n  </thead>\n  <tbody>\n    <tr>\n      <th>0</th>\n      <td>Ranged</td>\n      <td>int</td>\n    </tr>\n  </tbody>\n</table>\n</div>"
     },
     "execution_count": 104,
     "metadata": {},
     "output_type": "execute_result"
    }
   ],
   "source": [
    "df = heroes\n",
    "df[['attack_type', 'primary_attr']].mode()"
   ],
   "metadata": {
    "collapsed": false,
    "pycharm": {
     "name": "#%%\n"
    }
   }
  },
  {
   "cell_type": "markdown",
   "source": [
    "### Аспирант Ростислав изучает метаболом водорослей и получил такую табличку. В ней он записал вид каждой водоросли, её род (группа, объединяющая близкие виды), группа (ещё одно объединение водорослей в крупные фракции) и концентрации анализируемых веществ.\n",
    "Помогите Ростиславу найти среднюю концентрацию каждого из веществ в каждом из родов (колонка genus)! Для этого проведите группировку датафрэйма, сохранённого в переменной concentrations, и примените метод, сохранив результат в переменной mean_concentrations."
   ],
   "metadata": {
    "collapsed": false,
    "pycharm": {
     "name": "#%% md\n"
    }
   }
  },
  {
   "cell_type": "code",
   "execution_count": 114,
   "outputs": [
    {
     "data": {
      "text/plain": "                species        genus  group   sucrose    alanin   citrate  \\\n0     Fucus_vesiculosus        Fucus  brown  3.001472  3.711498  5.004262   \n1   Saccharina_japonica   Saccharina  brown  6.731070  1.255251  5.621499   \n2        Fucus_serratus        Fucus  brown  3.276870  0.346431  1.216767   \n3       Fucus_distichus        Fucus  brown  6.786996  6.641303  6.423606   \n4     Cladophora_fracta   Cladophora  green  3.861470  1.648450  6.940588   \n5   Cladophora_compacta   Cladophora  green  5.712284  3.461692  3.082826   \n6   Cladophora_gracilis   Cladophora  green  2.452623  6.881024  5.841520   \n7      Palmaria_palmata     Palmaria    red  0.704580  3.176440  5.573905   \n8  Saccharina_latissima   Saccharina  brown  1.636122  5.793163  1.071920   \n9   Ascophyllum_nodosum  Ascophyllum  brown  6.825467  0.875429  5.253527   \n\n    glucose  oleic_acid  \n0  2.548459    6.405165  \n1  6.013219    4.156700  \n2  3.623225    0.304573  \n3  2.272724    3.393203  \n4  2.316955    2.528886  \n5  3.343707    1.432514  \n6  2.740165    2.829016  \n7  3.242090    2.245538  \n8  3.947968    4.817804  \n9  3.414961    2.432526  ",
      "text/html": "<div>\n<style scoped>\n    .dataframe tbody tr th:only-of-type {\n        vertical-align: middle;\n    }\n\n    .dataframe tbody tr th {\n        vertical-align: top;\n    }\n\n    .dataframe thead th {\n        text-align: right;\n    }\n</style>\n<table border=\"1\" class=\"dataframe\">\n  <thead>\n    <tr style=\"text-align: right;\">\n      <th></th>\n      <th>species</th>\n      <th>genus</th>\n      <th>group</th>\n      <th>sucrose</th>\n      <th>alanin</th>\n      <th>citrate</th>\n      <th>glucose</th>\n      <th>oleic_acid</th>\n    </tr>\n  </thead>\n  <tbody>\n    <tr>\n      <th>0</th>\n      <td>Fucus_vesiculosus</td>\n      <td>Fucus</td>\n      <td>brown</td>\n      <td>3.001472</td>\n      <td>3.711498</td>\n      <td>5.004262</td>\n      <td>2.548459</td>\n      <td>6.405165</td>\n    </tr>\n    <tr>\n      <th>1</th>\n      <td>Saccharina_japonica</td>\n      <td>Saccharina</td>\n      <td>brown</td>\n      <td>6.731070</td>\n      <td>1.255251</td>\n      <td>5.621499</td>\n      <td>6.013219</td>\n      <td>4.156700</td>\n    </tr>\n    <tr>\n      <th>2</th>\n      <td>Fucus_serratus</td>\n      <td>Fucus</td>\n      <td>brown</td>\n      <td>3.276870</td>\n      <td>0.346431</td>\n      <td>1.216767</td>\n      <td>3.623225</td>\n      <td>0.304573</td>\n    </tr>\n    <tr>\n      <th>3</th>\n      <td>Fucus_distichus</td>\n      <td>Fucus</td>\n      <td>brown</td>\n      <td>6.786996</td>\n      <td>6.641303</td>\n      <td>6.423606</td>\n      <td>2.272724</td>\n      <td>3.393203</td>\n    </tr>\n    <tr>\n      <th>4</th>\n      <td>Cladophora_fracta</td>\n      <td>Cladophora</td>\n      <td>green</td>\n      <td>3.861470</td>\n      <td>1.648450</td>\n      <td>6.940588</td>\n      <td>2.316955</td>\n      <td>2.528886</td>\n    </tr>\n    <tr>\n      <th>5</th>\n      <td>Cladophora_compacta</td>\n      <td>Cladophora</td>\n      <td>green</td>\n      <td>5.712284</td>\n      <td>3.461692</td>\n      <td>3.082826</td>\n      <td>3.343707</td>\n      <td>1.432514</td>\n    </tr>\n    <tr>\n      <th>6</th>\n      <td>Cladophora_gracilis</td>\n      <td>Cladophora</td>\n      <td>green</td>\n      <td>2.452623</td>\n      <td>6.881024</td>\n      <td>5.841520</td>\n      <td>2.740165</td>\n      <td>2.829016</td>\n    </tr>\n    <tr>\n      <th>7</th>\n      <td>Palmaria_palmata</td>\n      <td>Palmaria</td>\n      <td>red</td>\n      <td>0.704580</td>\n      <td>3.176440</td>\n      <td>5.573905</td>\n      <td>3.242090</td>\n      <td>2.245538</td>\n    </tr>\n    <tr>\n      <th>8</th>\n      <td>Saccharina_latissima</td>\n      <td>Saccharina</td>\n      <td>brown</td>\n      <td>1.636122</td>\n      <td>5.793163</td>\n      <td>1.071920</td>\n      <td>3.947968</td>\n      <td>4.817804</td>\n    </tr>\n    <tr>\n      <th>9</th>\n      <td>Ascophyllum_nodosum</td>\n      <td>Ascophyllum</td>\n      <td>brown</td>\n      <td>6.825467</td>\n      <td>0.875429</td>\n      <td>5.253527</td>\n      <td>3.414961</td>\n      <td>2.432526</td>\n    </tr>\n  </tbody>\n</table>\n</div>"
     },
     "execution_count": 114,
     "metadata": {},
     "output_type": "execute_result"
    }
   ],
   "source": [
    "concentrations = pd.read_csv('data/algae.csv')\n",
    "concentrations"
   ],
   "metadata": {
    "collapsed": false,
    "pycharm": {
     "name": "#%%\n"
    }
   }
  },
  {
   "cell_type": "code",
   "execution_count": 115,
   "outputs": [
    {
     "data": {
      "text/plain": "              sucrose    alanin   citrate   glucose  oleic_acid\ngenus                                                          \nAscophyllum  6.825467  0.875429  5.253527  3.414961    2.432526\nCladophora   4.008792  3.997055  5.288311  2.800276    2.263472\nFucus        4.355112  3.566411  4.214878  2.814803    3.367647\nPalmaria     0.704580  3.176440  5.573905  3.242090    2.245538\nSaccharina   4.183596  3.524207  3.346710  4.980594    4.487252",
      "text/html": "<div>\n<style scoped>\n    .dataframe tbody tr th:only-of-type {\n        vertical-align: middle;\n    }\n\n    .dataframe tbody tr th {\n        vertical-align: top;\n    }\n\n    .dataframe thead th {\n        text-align: right;\n    }\n</style>\n<table border=\"1\" class=\"dataframe\">\n  <thead>\n    <tr style=\"text-align: right;\">\n      <th></th>\n      <th>sucrose</th>\n      <th>alanin</th>\n      <th>citrate</th>\n      <th>glucose</th>\n      <th>oleic_acid</th>\n    </tr>\n    <tr>\n      <th>genus</th>\n      <th></th>\n      <th></th>\n      <th></th>\n      <th></th>\n      <th></th>\n    </tr>\n  </thead>\n  <tbody>\n    <tr>\n      <th>Ascophyllum</th>\n      <td>6.825467</td>\n      <td>0.875429</td>\n      <td>5.253527</td>\n      <td>3.414961</td>\n      <td>2.432526</td>\n    </tr>\n    <tr>\n      <th>Cladophora</th>\n      <td>4.008792</td>\n      <td>3.997055</td>\n      <td>5.288311</td>\n      <td>2.800276</td>\n      <td>2.263472</td>\n    </tr>\n    <tr>\n      <th>Fucus</th>\n      <td>4.355112</td>\n      <td>3.566411</td>\n      <td>4.214878</td>\n      <td>2.814803</td>\n      <td>3.367647</td>\n    </tr>\n    <tr>\n      <th>Palmaria</th>\n      <td>0.704580</td>\n      <td>3.176440</td>\n      <td>5.573905</td>\n      <td>3.242090</td>\n      <td>2.245538</td>\n    </tr>\n    <tr>\n      <th>Saccharina</th>\n      <td>4.183596</td>\n      <td>3.524207</td>\n      <td>3.346710</td>\n      <td>4.980594</td>\n      <td>4.487252</td>\n    </tr>\n  </tbody>\n</table>\n</div>"
     },
     "execution_count": 115,
     "metadata": {},
     "output_type": "execute_result"
    }
   ],
   "source": [
    "concentrations.groupby('genus').mean()"
   ],
   "metadata": {
    "collapsed": false,
    "pycharm": {
     "name": "#%%\n"
    }
   }
  },
  {
   "cell_type": "code",
   "execution_count": 196,
   "outputs": [],
   "source": [
    "mean_concentrations = concentrations.groupby('genus').mean()"
   ],
   "metadata": {
    "collapsed": false,
    "pycharm": {
     "name": "#%%\n"
    }
   }
  },
  {
   "cell_type": "markdown",
   "source": [
    "### Пользуясь предыдущими данными, укажите через пробел (без запятых) чему равны минимальная, средняя и максимальная концентрации аланина (alanin) среди видов рода Fucus. Округлите до 2-ого знака, десятичным разделителем является точка.\n",
    "### Формат ответа:\n",
    "### 0.55 6.77 7.48"
   ],
   "metadata": {
    "collapsed": false,
    "pycharm": {
     "name": "#%% md\n"
    }
   }
  },
  {
   "cell_type": "code",
   "execution_count": 210,
   "outputs": [
    {
     "name": "stdout",
     "output_type": "stream",
     "text": [
      "0.35 3.57 6.64\n"
     ]
    }
   ],
   "source": [
    "# Мое решение \"0.35 3.57 6.64\"\n",
    "min_mean_max = concentrations[concentrations.genus == 'Fucus']['alanin'].describe().round(2)[['min','mean','max']]\n",
    "print(min_mean_max[0], min_mean_max[1], min_mean_max[2])"
   ],
   "metadata": {
    "collapsed": false,
    "pycharm": {
     "name": "#%%\n"
    }
   }
  },
  {
   "cell_type": "code",
   "execution_count": 206,
   "outputs": [
    {
     "data": {
      "text/plain": "         sucrose     alanin    citrate    glucose  oleic_acid\ncount  10.000000  10.000000  10.000000  10.000000   10.000000\nmean    4.098895   3.379068   4.603042   3.346347    3.054593\nstd     2.271190   2.400529   2.084948   1.094572    1.739319\nmin     0.704580   0.346431   1.071920   2.272724    0.304573\n25%     2.589835   1.353551   3.563185   2.596385    2.292285\n50%     3.569170   3.319066   5.413716   3.292899    2.678951\n75%     6.476373   5.272747   5.786515   3.571159    3.965826\nmax     6.825467   6.881024   6.940588   6.013219    6.405165",
      "text/html": "<div>\n<style scoped>\n    .dataframe tbody tr th:only-of-type {\n        vertical-align: middle;\n    }\n\n    .dataframe tbody tr th {\n        vertical-align: top;\n    }\n\n    .dataframe thead th {\n        text-align: right;\n    }\n</style>\n<table border=\"1\" class=\"dataframe\">\n  <thead>\n    <tr style=\"text-align: right;\">\n      <th></th>\n      <th>sucrose</th>\n      <th>alanin</th>\n      <th>citrate</th>\n      <th>glucose</th>\n      <th>oleic_acid</th>\n    </tr>\n  </thead>\n  <tbody>\n    <tr>\n      <th>count</th>\n      <td>10.000000</td>\n      <td>10.000000</td>\n      <td>10.000000</td>\n      <td>10.000000</td>\n      <td>10.000000</td>\n    </tr>\n    <tr>\n      <th>mean</th>\n      <td>4.098895</td>\n      <td>3.379068</td>\n      <td>4.603042</td>\n      <td>3.346347</td>\n      <td>3.054593</td>\n    </tr>\n    <tr>\n      <th>std</th>\n      <td>2.271190</td>\n      <td>2.400529</td>\n      <td>2.084948</td>\n      <td>1.094572</td>\n      <td>1.739319</td>\n    </tr>\n    <tr>\n      <th>min</th>\n      <td>0.704580</td>\n      <td>0.346431</td>\n      <td>1.071920</td>\n      <td>2.272724</td>\n      <td>0.304573</td>\n    </tr>\n    <tr>\n      <th>25%</th>\n      <td>2.589835</td>\n      <td>1.353551</td>\n      <td>3.563185</td>\n      <td>2.596385</td>\n      <td>2.292285</td>\n    </tr>\n    <tr>\n      <th>50%</th>\n      <td>3.569170</td>\n      <td>3.319066</td>\n      <td>5.413716</td>\n      <td>3.292899</td>\n      <td>2.678951</td>\n    </tr>\n    <tr>\n      <th>75%</th>\n      <td>6.476373</td>\n      <td>5.272747</td>\n      <td>5.786515</td>\n      <td>3.571159</td>\n      <td>3.965826</td>\n    </tr>\n    <tr>\n      <th>max</th>\n      <td>6.825467</td>\n      <td>6.881024</td>\n      <td>6.940588</td>\n      <td>6.013219</td>\n      <td>6.405165</td>\n    </tr>\n  </tbody>\n</table>\n</div>"
     },
     "execution_count": 206,
     "metadata": {},
     "output_type": "execute_result"
    }
   ],
   "source": [
    "concentrations.describe()"
   ],
   "metadata": {
    "collapsed": false,
    "pycharm": {
     "name": "#%%\n"
    }
   }
  },
  {
   "cell_type": "code",
   "execution_count": 194,
   "outputs": [
    {
     "data": {
      "text/plain": "0    3.71\n2    0.35\n3    6.64\nName: alanin, dtype: float64"
     },
     "execution_count": 194,
     "metadata": {},
     "output_type": "execute_result"
    }
   ],
   "source": [
    "concentrations.query(\"genus == 'Fucus'\")['alanin'].round(2)"
   ],
   "metadata": {
    "collapsed": false,
    "pycharm": {
     "name": "#%%\n"
    }
   }
  },
  {
   "cell_type": "markdown",
   "source": [],
   "metadata": {
    "collapsed": false
   }
  },
  {
   "cell_type": "code",
   "execution_count": 192,
   "outputs": [
    {
     "name": "stdout",
     "output_type": "stream",
     "text": [
      "0.35 3.57 6.64\n"
     ]
    }
   ],
   "source": [
    "fucus_alian = concentrations.query(\"genus == 'Fucus'\")['alanin'].round(2)\n",
    "print(f'{fucus_alian[2]} {round(fucus_alian.mean(), 2)} {fucus_alian[3]}')"
   ],
   "metadata": {
    "collapsed": false,
    "pycharm": {
     "name": "#%%\n"
    }
   }
  },
  {
   "cell_type": "markdown",
   "source": [
    "## Сгруппируйте данные по переменной group и соотнесите вопросы с ответами"
   ],
   "metadata": {
    "collapsed": false,
    "pycharm": {
     "name": "#%% md\n"
    }
   }
  },
  {
   "cell_type": "code",
   "execution_count": 212,
   "outputs": [
    {
     "data": {
      "text/plain": "               species       genus  group   sucrose    alanin   citrate  \\\n0    Fucus_vesiculosus       Fucus  brown  3.001472  3.711498  5.004262   \n1  Saccharina_japonica  Saccharina  brown  6.731070  1.255251  5.621499   \n2       Fucus_serratus       Fucus  brown  3.276870  0.346431  1.216767   \n3      Fucus_distichus       Fucus  brown  6.786996  6.641303  6.423606   \n4    Cladophora_fracta  Cladophora  green  3.861470  1.648450  6.940588   \n\n    glucose  oleic_acid  \n0  2.548459    6.405165  \n1  6.013219    4.156700  \n2  3.623225    0.304573  \n3  2.272724    3.393203  \n4  2.316955    2.528886  ",
      "text/html": "<div>\n<style scoped>\n    .dataframe tbody tr th:only-of-type {\n        vertical-align: middle;\n    }\n\n    .dataframe tbody tr th {\n        vertical-align: top;\n    }\n\n    .dataframe thead th {\n        text-align: right;\n    }\n</style>\n<table border=\"1\" class=\"dataframe\">\n  <thead>\n    <tr style=\"text-align: right;\">\n      <th></th>\n      <th>species</th>\n      <th>genus</th>\n      <th>group</th>\n      <th>sucrose</th>\n      <th>alanin</th>\n      <th>citrate</th>\n      <th>glucose</th>\n      <th>oleic_acid</th>\n    </tr>\n  </thead>\n  <tbody>\n    <tr>\n      <th>0</th>\n      <td>Fucus_vesiculosus</td>\n      <td>Fucus</td>\n      <td>brown</td>\n      <td>3.001472</td>\n      <td>3.711498</td>\n      <td>5.004262</td>\n      <td>2.548459</td>\n      <td>6.405165</td>\n    </tr>\n    <tr>\n      <th>1</th>\n      <td>Saccharina_japonica</td>\n      <td>Saccharina</td>\n      <td>brown</td>\n      <td>6.731070</td>\n      <td>1.255251</td>\n      <td>5.621499</td>\n      <td>6.013219</td>\n      <td>4.156700</td>\n    </tr>\n    <tr>\n      <th>2</th>\n      <td>Fucus_serratus</td>\n      <td>Fucus</td>\n      <td>brown</td>\n      <td>3.276870</td>\n      <td>0.346431</td>\n      <td>1.216767</td>\n      <td>3.623225</td>\n      <td>0.304573</td>\n    </tr>\n    <tr>\n      <th>3</th>\n      <td>Fucus_distichus</td>\n      <td>Fucus</td>\n      <td>brown</td>\n      <td>6.786996</td>\n      <td>6.641303</td>\n      <td>6.423606</td>\n      <td>2.272724</td>\n      <td>3.393203</td>\n    </tr>\n    <tr>\n      <th>4</th>\n      <td>Cladophora_fracta</td>\n      <td>Cladophora</td>\n      <td>green</td>\n      <td>3.861470</td>\n      <td>1.648450</td>\n      <td>6.940588</td>\n      <td>2.316955</td>\n      <td>2.528886</td>\n    </tr>\n  </tbody>\n</table>\n</div>"
     },
     "execution_count": 212,
     "metadata": {},
     "output_type": "execute_result"
    }
   ],
   "source": [
    "concentrations.head()"
   ],
   "metadata": {
    "collapsed": false,
    "pycharm": {
     "name": "#%%\n"
    }
   }
  },
  {
   "cell_type": "code",
   "execution_count": 213,
   "outputs": [
    {
     "data": {
      "text/plain": "       species  genus  sucrose  alanin  citrate  glucose  oleic_acid\ngroup                                                               \nbrown        6      6        6       6        6        6           6\ngreen        3      3        3       3        3        3           3\nred          1      1        1       1        1        1           1",
      "text/html": "<div>\n<style scoped>\n    .dataframe tbody tr th:only-of-type {\n        vertical-align: middle;\n    }\n\n    .dataframe tbody tr th {\n        vertical-align: top;\n    }\n\n    .dataframe thead th {\n        text-align: right;\n    }\n</style>\n<table border=\"1\" class=\"dataframe\">\n  <thead>\n    <tr style=\"text-align: right;\">\n      <th></th>\n      <th>species</th>\n      <th>genus</th>\n      <th>sucrose</th>\n      <th>alanin</th>\n      <th>citrate</th>\n      <th>glucose</th>\n      <th>oleic_acid</th>\n    </tr>\n    <tr>\n      <th>group</th>\n      <th></th>\n      <th></th>\n      <th></th>\n      <th></th>\n      <th></th>\n      <th></th>\n      <th></th>\n    </tr>\n  </thead>\n  <tbody>\n    <tr>\n      <th>brown</th>\n      <td>6</td>\n      <td>6</td>\n      <td>6</td>\n      <td>6</td>\n      <td>6</td>\n      <td>6</td>\n      <td>6</td>\n    </tr>\n    <tr>\n      <th>green</th>\n      <td>3</td>\n      <td>3</td>\n      <td>3</td>\n      <td>3</td>\n      <td>3</td>\n      <td>3</td>\n      <td>3</td>\n    </tr>\n    <tr>\n      <th>red</th>\n      <td>1</td>\n      <td>1</td>\n      <td>1</td>\n      <td>1</td>\n      <td>1</td>\n      <td>1</td>\n      <td>1</td>\n    </tr>\n  </tbody>\n</table>\n</div>"
     },
     "execution_count": 213,
     "metadata": {},
     "output_type": "execute_result"
    }
   ],
   "source": [
    "# Мои три решения:\n",
    "# Число видов бурых, зелёных и красных водорослей\n",
    "concentrations.groupby('group').aggregate('count')"
   ],
   "metadata": {
    "collapsed": false,
    "pycharm": {
     "name": "#%%\n"
    }
   }
  },
  {
   "cell_type": "code",
   "execution_count": 216,
   "outputs": [
    {
     "data": {
      "text/plain": "group\nbrown    5.47\ngreen    3.95\nred       NaN\nName: citrate, dtype: float64"
     },
     "execution_count": 216,
     "metadata": {},
     "output_type": "execute_result"
    }
   ],
   "source": [
    "# Дисперсия концентрации цитрата в бурых, зелёных и красных водорослях\n",
    "concentrations.groupby('group')['citrate'].aggregate('var').round(2)"
   ],
   "metadata": {
    "collapsed": false,
    "pycharm": {
     "name": "#%%\n"
    }
   }
  },
  {
   "cell_type": "markdown",
   "source": [],
   "metadata": {
    "collapsed": false
   }
  },
  {
   "cell_type": "code",
   "execution_count": 221,
   "outputs": [
    {
     "data": {
      "text/plain": "group\nbrown    5.19\ngreen    3.26\nred      0.00\nName: sucrose, dtype: float64"
     },
     "execution_count": 221,
     "metadata": {},
     "output_type": "execute_result"
    }
   ],
   "source": [
    "# Размах (максимум - минимум) сахарозы в бурых, зелёных и красных водорослях\n",
    "(concentrations.groupby('group')['sucrose'].aggregate('max') - concentrations.groupby('group')['sucrose'].aggregate('min')).round(2)"
   ],
   "metadata": {
    "collapsed": false,
    "pycharm": {
     "name": "#%%\n"
    }
   }
  },
  {
   "cell_type": "code",
   "execution_count": 222,
   "outputs": [
    {
     "data": {
      "text/plain": "group\nbrown    5.19\ngreen    3.26\nred      0.00\nName: sucrose, dtype: float64"
     },
     "execution_count": 222,
     "metadata": {},
     "output_type": "execute_result"
    }
   ],
   "source": [
    "# Удобная функция для расчета размаха np.ptp\n",
    "concentrations.groupby('group')['sucrose'].aggregate(np.ptp).round(2)"
   ],
   "metadata": {
    "collapsed": false,
    "pycharm": {
     "name": "#%%\n"
    }
   }
  },
  {
   "cell_type": "code",
   "execution_count": null,
   "outputs": [],
   "source": [],
   "metadata": {
    "collapsed": false,
    "pycharm": {
     "name": "#%%\n"
    }
   }
  }
 ],
 "metadata": {
  "kernelspec": {
   "display_name": "Python 3",
   "language": "python",
   "name": "python3"
  },
  "language_info": {
   "codemirror_mode": {
    "name": "ipython",
    "version": 2
   },
   "file_extension": ".py",
   "mimetype": "text/x-python",
   "name": "python",
   "nbconvert_exporter": "python",
   "pygments_lexer": "ipython2",
   "version": "2.7.6"
  }
 },
 "nbformat": 4,
 "nbformat_minor": 0
}