{
 "cells": [
  {
   "cell_type": "code",
   "execution_count": 98,
   "outputs": [],
   "source": [
    "import numpy as np\n",
    "import pandas as pd\n",
    "import matplotlib.pyplot as plt\n",
    "import seaborn as sns\n",
    "from sklearn import tree\n",
    "from sklearn.model_selection import train_test_split\n",
    "%matplotlib inline"
   ],
   "metadata": {
    "collapsed": false,
    "pycharm": {
     "name": "#%%\n"
    }
   }
  },
  {
   "cell_type": "code",
   "execution_count": 99,
   "outputs": [
    {
     "data": {
      "text/plain": "<IPython.core.display.HTML object>",
      "text/html": "<style>svg{width:70% !important;height:70% !important;}</style>"
     },
     "execution_count": 99,
     "metadata": {},
     "output_type": "execute_result"
    }
   ],
   "source": [
    "from IPython.display import SVG\n",
    "from graphviz import Source\n",
    "from IPython.display import display\n",
    "from IPython.display import HTML\n",
    "style = \"<style>svg{width:70% !important;height:70% !important;}</style>\"\n",
    "HTML(style)"
   ],
   "metadata": {
    "collapsed": false,
    "pycharm": {
     "name": "#%%\n"
    }
   }
  },
  {
   "cell_type": "code",
   "execution_count": 100,
   "outputs": [
    {
     "data": {
      "text/plain": "   Длина  Высота  Шерстист  Гавкает  Лазает_по_деревьям      Вид\n0     15    18.0         1        1                   0  собачка\n1     20    24.0         1        0                   0  собачка\n2     34    40.8         1        1                   0  собачка\n3     26    31.2         1        1                   0  собачка\n4     16    19.2         1        1                   0  собачка",
      "text/html": "<div>\n<style scoped>\n    .dataframe tbody tr th:only-of-type {\n        vertical-align: middle;\n    }\n\n    .dataframe tbody tr th {\n        vertical-align: top;\n    }\n\n    .dataframe thead th {\n        text-align: right;\n    }\n</style>\n<table border=\"1\" class=\"dataframe\">\n  <thead>\n    <tr style=\"text-align: right;\">\n      <th></th>\n      <th>Длина</th>\n      <th>Высота</th>\n      <th>Шерстист</th>\n      <th>Гавкает</th>\n      <th>Лазает_по_деревьям</th>\n      <th>Вид</th>\n    </tr>\n  </thead>\n  <tbody>\n    <tr>\n      <th>0</th>\n      <td>15</td>\n      <td>18.0</td>\n      <td>1</td>\n      <td>1</td>\n      <td>0</td>\n      <td>собачка</td>\n    </tr>\n    <tr>\n      <th>1</th>\n      <td>20</td>\n      <td>24.0</td>\n      <td>1</td>\n      <td>0</td>\n      <td>0</td>\n      <td>собачка</td>\n    </tr>\n    <tr>\n      <th>2</th>\n      <td>34</td>\n      <td>40.8</td>\n      <td>1</td>\n      <td>1</td>\n      <td>0</td>\n      <td>собачка</td>\n    </tr>\n    <tr>\n      <th>3</th>\n      <td>26</td>\n      <td>31.2</td>\n      <td>1</td>\n      <td>1</td>\n      <td>0</td>\n      <td>собачка</td>\n    </tr>\n    <tr>\n      <th>4</th>\n      <td>16</td>\n      <td>19.2</td>\n      <td>1</td>\n      <td>1</td>\n      <td>0</td>\n      <td>собачка</td>\n    </tr>\n  </tbody>\n</table>\n</div>"
     },
     "execution_count": 100,
     "metadata": {},
     "output_type": "execute_result"
    }
   ],
   "source": [
    "df = pd.read_csv('data/dogs_n_cats.csv')\n",
    "df.columns = df.columns.str.replace(' ', '_')\n",
    "df.head()"
   ],
   "metadata": {
    "collapsed": false,
    "pycharm": {
     "name": "#%%\n"
    }
   }
  },
  {
   "cell_type": "code",
   "execution_count": 101,
   "outputs": [],
   "source": [
    "X = df[['Длина', 'Высота', 'Шерстист', 'Гавкает', 'Лазает_по_деревьям']]\n",
    "y = df[['Вид']]"
   ],
   "metadata": {
    "collapsed": false,
    "pycharm": {
     "name": "#%%\n"
    }
   }
  },
  {
   "cell_type": "code",
   "execution_count": 102,
   "outputs": [],
   "source": [
    "clf = tree.DecisionTreeClassifier(criterion='entropy')"
   ],
   "metadata": {
    "collapsed": false,
    "pycharm": {
     "name": "#%%\n"
    }
   }
  },
  {
   "cell_type": "code",
   "execution_count": 103,
   "outputs": [
    {
     "data": {
      "text/plain": "DecisionTreeClassifier(criterion='entropy')"
     },
     "execution_count": 103,
     "metadata": {},
     "output_type": "execute_result"
    }
   ],
   "source": [
    "clf.fit(X, y)"
   ],
   "metadata": {
    "collapsed": false,
    "pycharm": {
     "name": "#%%\n"
    }
   }
  },
  {
   "cell_type": "code",
   "execution_count": 104,
   "outputs": [
    {
     "data": {
      "text/plain": "   Длина  Высота  Шерстист  Гавкает  Лазает по деревьям\n0     15    18.0         1        1                   0\n1     18    21.6         1        1                   0\n2     33    39.6         1        0                   0\n3     27    32.4         1        1                   0\n4     23    27.6         1        1                   0",
      "text/html": "<div>\n<style scoped>\n    .dataframe tbody tr th:only-of-type {\n        vertical-align: middle;\n    }\n\n    .dataframe tbody tr th {\n        vertical-align: top;\n    }\n\n    .dataframe thead th {\n        text-align: right;\n    }\n</style>\n<table border=\"1\" class=\"dataframe\">\n  <thead>\n    <tr style=\"text-align: right;\">\n      <th></th>\n      <th>Длина</th>\n      <th>Высота</th>\n      <th>Шерстист</th>\n      <th>Гавкает</th>\n      <th>Лазает по деревьям</th>\n    </tr>\n  </thead>\n  <tbody>\n    <tr>\n      <th>0</th>\n      <td>15</td>\n      <td>18.0</td>\n      <td>1</td>\n      <td>1</td>\n      <td>0</td>\n    </tr>\n    <tr>\n      <th>1</th>\n      <td>18</td>\n      <td>21.6</td>\n      <td>1</td>\n      <td>1</td>\n      <td>0</td>\n    </tr>\n    <tr>\n      <th>2</th>\n      <td>33</td>\n      <td>39.6</td>\n      <td>1</td>\n      <td>0</td>\n      <td>0</td>\n    </tr>\n    <tr>\n      <th>3</th>\n      <td>27</td>\n      <td>32.4</td>\n      <td>1</td>\n      <td>1</td>\n      <td>0</td>\n    </tr>\n    <tr>\n      <th>4</th>\n      <td>23</td>\n      <td>27.6</td>\n      <td>1</td>\n      <td>1</td>\n      <td>0</td>\n    </tr>\n  </tbody>\n</table>\n</div>"
     },
     "execution_count": 104,
     "metadata": {},
     "output_type": "execute_result"
    }
   ],
   "source": [
    "X_test = pd.read_json('data/dataset_209691_15.txt')\n",
    "X_test.head()"
   ],
   "metadata": {
    "collapsed": false,
    "pycharm": {
     "name": "#%%\n"
    }
   }
  },
  {
   "cell_type": "code",
   "execution_count": 105,
   "outputs": [],
   "source": [
    "predict = clf.predict(X_test)"
   ],
   "metadata": {
    "collapsed": false,
    "pycharm": {
     "name": "#%%\n"
    }
   }
  },
  {
   "cell_type": "code",
   "execution_count": 106,
   "outputs": [
    {
     "name": "stdout",
     "output_type": "stream",
     "text": [
      "ответ: 44\n"
     ]
    }
   ],
   "source": [
    "cats = 0\n",
    "dogs = 0\n",
    "for element in predict:\n",
    "    if element == 'собачка':\n",
    "        dogs += 1\n",
    "    else:\n",
    "        cats += 1\n",
    "\n",
    "print('ответ:', dogs)"
   ],
   "metadata": {
    "collapsed": false,
    "pycharm": {
     "name": "#%%\n"
    }
   }
  },
  {
   "cell_type": "code",
   "execution_count": 107,
   "outputs": [
    {
     "data": {
      "text/plain": "0    собачка\n1    собачка\n2    собачка\n3    собачка\n4    собачка\ndtype: object"
     },
     "execution_count": 107,
     "metadata": {},
     "output_type": "execute_result"
    }
   ],
   "source": [
    "predict = pd.Series(predict)\n",
    "predict.head()"
   ],
   "metadata": {
    "collapsed": false,
    "pycharm": {
     "name": "#%%\n"
    }
   }
  },
  {
   "cell_type": "code",
   "execution_count": 112,
   "outputs": [
    {
     "name": "stdout",
     "output_type": "stream",
     "text": [
      "Wall time: 1 ms\n",
      "Wall time: 0 ns\n",
      "Wall time: 1e+03 µs\n",
      "Wall time: 0 ns\n"
     ]
    },
    {
     "data": {
      "text/plain": "44"
     },
     "execution_count": 112,
     "metadata": {},
     "output_type": "execute_result"
    }
   ],
   "source": [
    "# Вместо дичи c подсчетом собак можно было написать:\n",
    "%time pd.Series(predict)[predict == 'собачка'].count()\n",
    "# или\n",
    "%time (predict == 'собачка').sum()\n",
    "# или\n",
    "%time pd.Series(predict).value_counts().собачка\n",
    "# или\n",
    "%time predict.tolist().count('собачка')"
   ],
   "metadata": {
    "collapsed": false,
    "pycharm": {
     "name": "#%%\n"
    }
   }
  },
  {
   "cell_type": "markdown",
   "source": [
    "# Не мои решения"
   ],
   "metadata": {
    "collapsed": false,
    "pycharm": {
     "name": "#%% md\n"
    }
   }
  },
  {
   "cell_type": "code",
   "execution_count": 109,
   "outputs": [
    {
     "data": {
      "text/plain": "44"
     },
     "execution_count": 109,
     "metadata": {},
     "output_type": "execute_result"
    }
   ],
   "source": [
    "# Считать данные для обучения Дерева\n",
    "dogs_n_cats = pd.read_csv('data/dogs_n_cats.csv')\n",
    "X_train = dogs_n_cats.drop('Вид', axis=1)\n",
    "y_train = dogs_n_cats['Вид']\n",
    "\n",
    "# Обучение Дерева\n",
    "rs = np.random.seed(0)\n",
    "clf = tree.DecisionTreeClassifier(criterion='entropy', random_state=rs, max_depth=5)\n",
    "clf.fit(X_train, y_train)\n",
    "\n",
    "# Результат обучения\n",
    "clf.score(X_train, y_train)\n",
    "\n",
    "# Считать тестовые данные\n",
    "X_test = pd.read_json('data/dataset_209691_15.txt')\n",
    "\n",
    "# Предсказать результаты\n",
    "y_pred = clf.predict(X_test)\n",
    "\n",
    "# Подсчитать количество собачек\n",
    "pd.Series(y_pred)[y_pred == 'собачка'].count()"
   ],
   "metadata": {
    "collapsed": false,
    "pycharm": {
     "name": "#%%\n"
    }
   }
  },
  {
   "cell_type": "code",
   "execution_count": 110,
   "outputs": [
    {
     "data": {
      "text/plain": "44"
     },
     "execution_count": 110,
     "metadata": {},
     "output_type": "execute_result"
    }
   ],
   "source": [
    "# Компактное решение\n",
    "df = pd.read_csv('data/dogs_n_cats.csv')\n",
    "dt = tree.DecisionTreeClassifier()\n",
    "dt.fit(df.drop(['Вид'], 1), df['Вид'])\n",
    "df2 = pd.read_json('data/dataset_209691_15.txt')\n",
    "pred = dt.predict(df2)\n",
    "(pred == 'собачка').sum()"
   ],
   "metadata": {
    "collapsed": false,
    "pycharm": {
     "name": "#%%\n"
    }
   }
  },
  {
   "cell_type": "code",
   "execution_count": 110,
   "outputs": [],
   "source": [],
   "metadata": {
    "collapsed": false,
    "pycharm": {
     "name": "#%%\n"
    }
   }
  }
 ],
 "metadata": {
  "kernelspec": {
   "display_name": "Python 3",
   "language": "python",
   "name": "python3"
  },
  "language_info": {
   "codemirror_mode": {
    "name": "ipython",
    "version": 2
   },
   "file_extension": ".py",
   "mimetype": "text/x-python",
   "name": "python",
   "nbconvert_exporter": "python",
   "pygments_lexer": "ipython2",
   "version": "2.7.6"
  }
 },
 "nbformat": 4,
 "nbformat_minor": 0
}