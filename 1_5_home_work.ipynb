{
 "cells": [
  {
   "cell_type": "code",
   "execution_count": 4,
   "metadata": {
    "collapsed": true
   },
   "outputs": [],
   "source": [
    "import pandas as pd"
   ]
  },
  {
   "cell_type": "code",
   "execution_count": 5,
   "outputs": [],
   "source": [
    "students = pd.read_csv('data/StudentsPerformance.csv')"
   ],
   "metadata": {
    "collapsed": false,
    "pycharm": {
     "name": "#%%\n"
    }
   }
  },
  {
   "cell_type": "markdown",
   "source": [
    "# У какой доли студентов из датасэта в колонке lunch указано free/reduced?"
   ],
   "metadata": {
    "collapsed": false,
    "pycharm": {
     "name": "#%% md\n"
    }
   }
  },
  {
   "cell_type": "code",
   "execution_count": 6,
   "outputs": [
    {
     "data": {
      "text/plain": "(355, 8)"
     },
     "execution_count": 6,
     "metadata": {},
     "output_type": "execute_result"
    }
   ],
   "source": [
    "students[students.lunch == 'free/reduced'].shape"
   ],
   "metadata": {
    "collapsed": false,
    "pycharm": {
     "name": "#%%\n"
    }
   }
  },
  {
   "cell_type": "code",
   "execution_count": 7,
   "outputs": [
    {
     "data": {
      "text/plain": "(1000, 8)"
     },
     "execution_count": 7,
     "metadata": {},
     "output_type": "execute_result"
    }
   ],
   "source": [
    "students.shape"
   ],
   "metadata": {
    "collapsed": false,
    "pycharm": {
     "name": "#%%\n"
    }
   }
  },
  {
   "cell_type": "code",
   "execution_count": 8,
   "outputs": [
    {
     "data": {
      "text/plain": "0.355"
     },
     "execution_count": 8,
     "metadata": {},
     "output_type": "execute_result"
    }
   ],
   "source": [
    "355/1000"
   ],
   "metadata": {
    "collapsed": false,
    "pycharm": {
     "name": "#%%\n"
    }
   }
  },
  {
   "cell_type": "code",
   "execution_count": 16,
   "outputs": [
    {
     "data": {
      "text/plain": "0.355"
     },
     "execution_count": 16,
     "metadata": {},
     "output_type": "execute_result"
    }
   ],
   "source": [
    "# еще один метод\n",
    "students.lunch.value_counts(normalize=True)['free/reduced']"
   ],
   "metadata": {
    "collapsed": false,
    "pycharm": {
     "name": "#%%\n"
    }
   }
  },
  {
   "cell_type": "code",
   "execution_count": 17,
   "outputs": [
    {
     "data": {
      "text/plain": "0.355"
     },
     "execution_count": 17,
     "metadata": {},
     "output_type": "execute_result"
    }
   ],
   "source": [
    "# еще один метод\n",
    "students.value_counts('lunch', True)['free/reduced']"
   ],
   "metadata": {
    "collapsed": false,
    "pycharm": {
     "name": "#%%\n"
    }
   }
  },
  {
   "cell_type": "markdown",
   "source": [
    "# Как различается среднее и дисперсия оценок по предметам у групп студентов со стандартным или урезанным ланчем?"
   ],
   "metadata": {
    "collapsed": false,
    "pycharm": {
     "name": "#%% md\n"
    }
   }
  },
  {
   "cell_type": "code",
   "execution_count": 18,
   "outputs": [
    {
     "data": {
      "text/plain": "   gender race/ethnicity parental level of education         lunch  \\\n0  female        group B           bachelor's degree      standard   \n1  female        group C                some college      standard   \n2  female        group B             master's degree      standard   \n3    male        group A          associate's degree  free/reduced   \n4    male        group C                some college      standard   \n\n  test preparation course  math score  reading score  writing score  \n0                    none          72             72             74  \n1               completed          69             90             88  \n2                    none          90             95             93  \n3                    none          47             57             44  \n4                    none          76             78             75  ",
      "text/html": "<div>\n<style scoped>\n    .dataframe tbody tr th:only-of-type {\n        vertical-align: middle;\n    }\n\n    .dataframe tbody tr th {\n        vertical-align: top;\n    }\n\n    .dataframe thead th {\n        text-align: right;\n    }\n</style>\n<table border=\"1\" class=\"dataframe\">\n  <thead>\n    <tr style=\"text-align: right;\">\n      <th></th>\n      <th>gender</th>\n      <th>race/ethnicity</th>\n      <th>parental level of education</th>\n      <th>lunch</th>\n      <th>test preparation course</th>\n      <th>math score</th>\n      <th>reading score</th>\n      <th>writing score</th>\n    </tr>\n  </thead>\n  <tbody>\n    <tr>\n      <th>0</th>\n      <td>female</td>\n      <td>group B</td>\n      <td>bachelor's degree</td>\n      <td>standard</td>\n      <td>none</td>\n      <td>72</td>\n      <td>72</td>\n      <td>74</td>\n    </tr>\n    <tr>\n      <th>1</th>\n      <td>female</td>\n      <td>group C</td>\n      <td>some college</td>\n      <td>standard</td>\n      <td>completed</td>\n      <td>69</td>\n      <td>90</td>\n      <td>88</td>\n    </tr>\n    <tr>\n      <th>2</th>\n      <td>female</td>\n      <td>group B</td>\n      <td>master's degree</td>\n      <td>standard</td>\n      <td>none</td>\n      <td>90</td>\n      <td>95</td>\n      <td>93</td>\n    </tr>\n    <tr>\n      <th>3</th>\n      <td>male</td>\n      <td>group A</td>\n      <td>associate's degree</td>\n      <td>free/reduced</td>\n      <td>none</td>\n      <td>47</td>\n      <td>57</td>\n      <td>44</td>\n    </tr>\n    <tr>\n      <th>4</th>\n      <td>male</td>\n      <td>group C</td>\n      <td>some college</td>\n      <td>standard</td>\n      <td>none</td>\n      <td>76</td>\n      <td>78</td>\n      <td>75</td>\n    </tr>\n  </tbody>\n</table>\n</div>"
     },
     "execution_count": 18,
     "metadata": {},
     "output_type": "execute_result"
    }
   ],
   "source": [
    "students.head()"
   ],
   "metadata": {
    "collapsed": false,
    "pycharm": {
     "name": "#%%\n"
    }
   }
  },
  {
   "cell_type": "code",
   "execution_count": 24,
   "outputs": [
    {
     "data": {
      "text/plain": "math score       70.034109\nreading score    71.654264\nwriting score    70.823256\ndtype: float64"
     },
     "execution_count": 24,
     "metadata": {},
     "output_type": "execute_result"
    }
   ],
   "source": [
    "students[students.lunch == 'standard'][['math score', 'reading score', 'writing score']].mean()"
   ],
   "metadata": {
    "collapsed": false,
    "pycharm": {
     "name": "#%%\n"
    }
   }
  },
  {
   "cell_type": "code",
   "execution_count": 25,
   "outputs": [
    {
     "data": {
      "text/plain": "math score       58.921127\nreading score    64.653521\nwriting score    63.022535\ndtype: float64"
     },
     "execution_count": 25,
     "metadata": {},
     "output_type": "execute_result"
    }
   ],
   "source": [
    "students[students.lunch == 'free/reduced'][['math score', 'reading score', 'writing score']].mean()"
   ],
   "metadata": {
    "collapsed": false,
    "pycharm": {
     "name": "#%%\n"
    }
   }
  },
  {
   "cell_type": "code",
   "execution_count": 26,
   "outputs": [
    {
     "data": {
      "text/plain": "math score       186.418089\nreading score    191.285560\nwriting score    205.620887\ndtype: float64"
     },
     "execution_count": 26,
     "metadata": {},
     "output_type": "execute_result"
    }
   ],
   "source": [
    "students[students.lunch == 'standard'][['math score', 'reading score', 'writing score']].var()"
   ],
   "metadata": {
    "collapsed": false,
    "pycharm": {
     "name": "#%%\n"
    }
   }
  },
  {
   "cell_type": "code",
   "execution_count": 27,
   "outputs": [
    {
     "data": {
      "text/plain": "math score       229.824270\nreading score    221.871139\nwriting score    238.202881\ndtype: float64"
     },
     "execution_count": 27,
     "metadata": {},
     "output_type": "execute_result"
    }
   ],
   "source": [
    "students[students.lunch == 'free/reduced'][['math score', 'reading score', 'writing score']].var()"
   ],
   "metadata": {
    "collapsed": false,
    "pycharm": {
     "name": "#%%\n"
    }
   }
  },
  {
   "cell_type": "code",
   "execution_count": 29,
   "outputs": [
    {
     "data": {
      "text/plain": "       math score  reading score  writing score\ncount  290.000000     290.000000     290.000000\nmean    11.112982       7.000742       7.800721\nstd     -1.506455      -1.064737      -1.094336\nmin     19.000000       9.000000      12.000000\n25%     12.000000       7.000000       9.000000\n50%      9.000000       7.000000       8.000000\n75%     11.000000       7.000000       7.000000\nmax      0.000000       0.000000       0.000000",
      "text/html": "<div>\n<style scoped>\n    .dataframe tbody tr th:only-of-type {\n        vertical-align: middle;\n    }\n\n    .dataframe tbody tr th {\n        vertical-align: top;\n    }\n\n    .dataframe thead th {\n        text-align: right;\n    }\n</style>\n<table border=\"1\" class=\"dataframe\">\n  <thead>\n    <tr style=\"text-align: right;\">\n      <th></th>\n      <th>math score</th>\n      <th>reading score</th>\n      <th>writing score</th>\n    </tr>\n  </thead>\n  <tbody>\n    <tr>\n      <th>count</th>\n      <td>290.000000</td>\n      <td>290.000000</td>\n      <td>290.000000</td>\n    </tr>\n    <tr>\n      <th>mean</th>\n      <td>11.112982</td>\n      <td>7.000742</td>\n      <td>7.800721</td>\n    </tr>\n    <tr>\n      <th>std</th>\n      <td>-1.506455</td>\n      <td>-1.064737</td>\n      <td>-1.094336</td>\n    </tr>\n    <tr>\n      <th>min</th>\n      <td>19.000000</td>\n      <td>9.000000</td>\n      <td>12.000000</td>\n    </tr>\n    <tr>\n      <th>25%</th>\n      <td>12.000000</td>\n      <td>7.000000</td>\n      <td>9.000000</td>\n    </tr>\n    <tr>\n      <th>50%</th>\n      <td>9.000000</td>\n      <td>7.000000</td>\n      <td>8.000000</td>\n    </tr>\n    <tr>\n      <th>75%</th>\n      <td>11.000000</td>\n      <td>7.000000</td>\n      <td>7.000000</td>\n    </tr>\n    <tr>\n      <th>max</th>\n      <td>0.000000</td>\n      <td>0.000000</td>\n      <td>0.000000</td>\n    </tr>\n  </tbody>\n</table>\n</div>"
     },
     "execution_count": 29,
     "metadata": {},
     "output_type": "execute_result"
    }
   ],
   "source": [
    "students[students.lunch == 'standard'][['math score', 'reading score', 'writing score']].describe() - students[students.lunch == 'free/reduced'][['math score', 'reading score', 'writing score']].describe()"
   ],
   "metadata": {
    "collapsed": false,
    "pycharm": {
     "name": "#%%\n"
    }
   }
  },
  {
   "cell_type": "code",
   "execution_count": 31,
   "outputs": [
    {
     "data": {
      "text/plain": "             math score             reading score             writing score  \\\n                   mean         var          mean         var          mean   \nlunch                                                                         \nfree/reduced  58.921127  229.824270     64.653521  221.871139     63.022535   \nstandard      70.034109  186.418089     71.654264  191.285560     70.823256   \n\n                          \n                     var  \nlunch                     \nfree/reduced  238.202881  \nstandard      205.620887  ",
      "text/html": "<div>\n<style scoped>\n    .dataframe tbody tr th:only-of-type {\n        vertical-align: middle;\n    }\n\n    .dataframe tbody tr th {\n        vertical-align: top;\n    }\n\n    .dataframe thead tr th {\n        text-align: left;\n    }\n\n    .dataframe thead tr:last-of-type th {\n        text-align: right;\n    }\n</style>\n<table border=\"1\" class=\"dataframe\">\n  <thead>\n    <tr>\n      <th></th>\n      <th colspan=\"2\" halign=\"left\">math score</th>\n      <th colspan=\"2\" halign=\"left\">reading score</th>\n      <th colspan=\"2\" halign=\"left\">writing score</th>\n    </tr>\n    <tr>\n      <th></th>\n      <th>mean</th>\n      <th>var</th>\n      <th>mean</th>\n      <th>var</th>\n      <th>mean</th>\n      <th>var</th>\n    </tr>\n    <tr>\n      <th>lunch</th>\n      <th></th>\n      <th></th>\n      <th></th>\n      <th></th>\n      <th></th>\n      <th></th>\n    </tr>\n  </thead>\n  <tbody>\n    <tr>\n      <th>free/reduced</th>\n      <td>58.921127</td>\n      <td>229.824270</td>\n      <td>64.653521</td>\n      <td>221.871139</td>\n      <td>63.022535</td>\n      <td>238.202881</td>\n    </tr>\n    <tr>\n      <th>standard</th>\n      <td>70.034109</td>\n      <td>186.418089</td>\n      <td>71.654264</td>\n      <td>191.285560</td>\n      <td>70.823256</td>\n      <td>205.620887</td>\n    </tr>\n  </tbody>\n</table>\n</div>"
     },
     "execution_count": 31,
     "metadata": {},
     "output_type": "execute_result"
    }
   ],
   "source": [
    "students.groupby('lunch').agg(['mean','var'])"
   ],
   "metadata": {
    "collapsed": false,
    "pycharm": {
     "name": "#%%\n"
    }
   }
  },
  {
   "cell_type": "markdown",
   "source": [
    "# Финальное задание темы 1_5 Фильтрация данных"
   ],
   "metadata": {
    "collapsed": false,
    "pycharm": {
     "name": "#%% md\n"
    }
   }
  },
  {
   "cell_type": "code",
   "execution_count": 32,
   "outputs": [],
   "source": [
    "df = pd.read_csv('data/column_hell.csv')"
   ],
   "metadata": {
    "collapsed": false,
    "pycharm": {
     "name": "#%%\n"
    }
   }
  },
  {
   "cell_type": "code",
   "execution_count": 33,
   "outputs": [
    {
     "data": {
      "text/plain": "      yrh&6      ohku         q      hfxx   umeca-4       apj         g  \\\n0  0.288397  0.911359  0.488069  0.074599  0.016124  0.090555  0.560810   \n1  0.861276  0.134987  0.701885  0.897921  0.507115  0.740151  0.963179   \n2  0.775577  0.832874  0.862665  0.831049  0.003274  0.703112  0.509795   \n3  0.857910  0.555818  0.598305  0.473988  0.784139  0.427963  0.725103   \n4  0.748652  0.451725  0.252619  0.584361  0.011265  0.051115  0.755444   \n\n   ijvnixxo  kudbpyw-3    upubjv  ...        fi   clsruyy       g&6      qo$6  \\\n0  0.110975   0.430787  0.548763  ...  0.793122  0.070335  0.145115  0.686579   \n1  0.712024   0.671662  0.497596  ...  0.477181  0.767931  0.996055  0.948774   \n2  0.573296   0.286411  0.282792  ...  0.421542  0.770413  0.749468  0.395022   \n3  0.286610   0.863717  0.545562  ...  0.240252  0.010355  0.759912  0.965837   \n4  0.627191   0.206172  0.955043  ...  0.846165  0.043458  0.209347  0.028276   \n\n         ap         o  sladymzr       tif   wuikzxt     wzuvc  \n0  0.071681  0.563068  0.815201  0.081902  0.333237  0.185148  \n1  0.054327  0.087341  0.072166  0.856081  0.120481  0.622113  \n2  0.307752  0.535575  0.341393  0.971201  0.714558  0.702453  \n3  0.110719  0.439488  0.816526  0.111621  0.373365  0.461615  \n4  0.700446  0.203503  0.181903  0.428842  0.099398  0.175227  \n\n[5 rows x 75 columns]",
      "text/html": "<div>\n<style scoped>\n    .dataframe tbody tr th:only-of-type {\n        vertical-align: middle;\n    }\n\n    .dataframe tbody tr th {\n        vertical-align: top;\n    }\n\n    .dataframe thead th {\n        text-align: right;\n    }\n</style>\n<table border=\"1\" class=\"dataframe\">\n  <thead>\n    <tr style=\"text-align: right;\">\n      <th></th>\n      <th>yrh&amp;6</th>\n      <th>ohku</th>\n      <th>q</th>\n      <th>hfxx</th>\n      <th>umeca-4</th>\n      <th>apj</th>\n      <th>g</th>\n      <th>ijvnixxo</th>\n      <th>kudbpyw-3</th>\n      <th>upubjv</th>\n      <th>...</th>\n      <th>fi</th>\n      <th>clsruyy</th>\n      <th>g&amp;6</th>\n      <th>qo$6</th>\n      <th>ap</th>\n      <th>o</th>\n      <th>sladymzr</th>\n      <th>tif</th>\n      <th>wuikzxt</th>\n      <th>wzuvc</th>\n    </tr>\n  </thead>\n  <tbody>\n    <tr>\n      <th>0</th>\n      <td>0.288397</td>\n      <td>0.911359</td>\n      <td>0.488069</td>\n      <td>0.074599</td>\n      <td>0.016124</td>\n      <td>0.090555</td>\n      <td>0.560810</td>\n      <td>0.110975</td>\n      <td>0.430787</td>\n      <td>0.548763</td>\n      <td>...</td>\n      <td>0.793122</td>\n      <td>0.070335</td>\n      <td>0.145115</td>\n      <td>0.686579</td>\n      <td>0.071681</td>\n      <td>0.563068</td>\n      <td>0.815201</td>\n      <td>0.081902</td>\n      <td>0.333237</td>\n      <td>0.185148</td>\n    </tr>\n    <tr>\n      <th>1</th>\n      <td>0.861276</td>\n      <td>0.134987</td>\n      <td>0.701885</td>\n      <td>0.897921</td>\n      <td>0.507115</td>\n      <td>0.740151</td>\n      <td>0.963179</td>\n      <td>0.712024</td>\n      <td>0.671662</td>\n      <td>0.497596</td>\n      <td>...</td>\n      <td>0.477181</td>\n      <td>0.767931</td>\n      <td>0.996055</td>\n      <td>0.948774</td>\n      <td>0.054327</td>\n      <td>0.087341</td>\n      <td>0.072166</td>\n      <td>0.856081</td>\n      <td>0.120481</td>\n      <td>0.622113</td>\n    </tr>\n    <tr>\n      <th>2</th>\n      <td>0.775577</td>\n      <td>0.832874</td>\n      <td>0.862665</td>\n      <td>0.831049</td>\n      <td>0.003274</td>\n      <td>0.703112</td>\n      <td>0.509795</td>\n      <td>0.573296</td>\n      <td>0.286411</td>\n      <td>0.282792</td>\n      <td>...</td>\n      <td>0.421542</td>\n      <td>0.770413</td>\n      <td>0.749468</td>\n      <td>0.395022</td>\n      <td>0.307752</td>\n      <td>0.535575</td>\n      <td>0.341393</td>\n      <td>0.971201</td>\n      <td>0.714558</td>\n      <td>0.702453</td>\n    </tr>\n    <tr>\n      <th>3</th>\n      <td>0.857910</td>\n      <td>0.555818</td>\n      <td>0.598305</td>\n      <td>0.473988</td>\n      <td>0.784139</td>\n      <td>0.427963</td>\n      <td>0.725103</td>\n      <td>0.286610</td>\n      <td>0.863717</td>\n      <td>0.545562</td>\n      <td>...</td>\n      <td>0.240252</td>\n      <td>0.010355</td>\n      <td>0.759912</td>\n      <td>0.965837</td>\n      <td>0.110719</td>\n      <td>0.439488</td>\n      <td>0.816526</td>\n      <td>0.111621</td>\n      <td>0.373365</td>\n      <td>0.461615</td>\n    </tr>\n    <tr>\n      <th>4</th>\n      <td>0.748652</td>\n      <td>0.451725</td>\n      <td>0.252619</td>\n      <td>0.584361</td>\n      <td>0.011265</td>\n      <td>0.051115</td>\n      <td>0.755444</td>\n      <td>0.627191</td>\n      <td>0.206172</td>\n      <td>0.955043</td>\n      <td>...</td>\n      <td>0.846165</td>\n      <td>0.043458</td>\n      <td>0.209347</td>\n      <td>0.028276</td>\n      <td>0.700446</td>\n      <td>0.203503</td>\n      <td>0.181903</td>\n      <td>0.428842</td>\n      <td>0.099398</td>\n      <td>0.175227</td>\n    </tr>\n  </tbody>\n</table>\n<p>5 rows × 75 columns</p>\n</div>"
     },
     "execution_count": 33,
     "metadata": {},
     "output_type": "execute_result"
    }
   ],
   "source": [
    "df.head()"
   ],
   "metadata": {
    "collapsed": false,
    "pycharm": {
     "name": "#%%\n"
    }
   }
  },
  {
   "cell_type": "code",
   "execution_count": 34,
   "outputs": [],
   "source": [
    "selected_columns = df.filter(like='-')"
   ],
   "metadata": {
    "collapsed": false,
    "pycharm": {
     "name": "#%%\n"
    }
   }
  },
  {
   "cell_type": "code",
   "execution_count": 35,
   "outputs": [
    {
     "data": {
      "text/plain": "    umeca-4  kudbpyw-3       g-3       v-9     fla-6  hwtbyrkp-5\n0  0.016124   0.430787  0.202407  0.725508  0.305076    0.979296\n1  0.507115   0.671662  0.864249  0.867818  0.358859    0.160520\n2  0.003274   0.286411  0.928865  0.719159  0.340235    0.734612\n3  0.784139   0.863717  0.175446  0.554744  0.049325    0.621132\n4  0.011265   0.206172  0.044151  0.163643  0.048806    0.437836",
      "text/html": "<div>\n<style scoped>\n    .dataframe tbody tr th:only-of-type {\n        vertical-align: middle;\n    }\n\n    .dataframe tbody tr th {\n        vertical-align: top;\n    }\n\n    .dataframe thead th {\n        text-align: right;\n    }\n</style>\n<table border=\"1\" class=\"dataframe\">\n  <thead>\n    <tr style=\"text-align: right;\">\n      <th></th>\n      <th>umeca-4</th>\n      <th>kudbpyw-3</th>\n      <th>g-3</th>\n      <th>v-9</th>\n      <th>fla-6</th>\n      <th>hwtbyrkp-5</th>\n    </tr>\n  </thead>\n  <tbody>\n    <tr>\n      <th>0</th>\n      <td>0.016124</td>\n      <td>0.430787</td>\n      <td>0.202407</td>\n      <td>0.725508</td>\n      <td>0.305076</td>\n      <td>0.979296</td>\n    </tr>\n    <tr>\n      <th>1</th>\n      <td>0.507115</td>\n      <td>0.671662</td>\n      <td>0.864249</td>\n      <td>0.867818</td>\n      <td>0.358859</td>\n      <td>0.160520</td>\n    </tr>\n    <tr>\n      <th>2</th>\n      <td>0.003274</td>\n      <td>0.286411</td>\n      <td>0.928865</td>\n      <td>0.719159</td>\n      <td>0.340235</td>\n      <td>0.734612</td>\n    </tr>\n    <tr>\n      <th>3</th>\n      <td>0.784139</td>\n      <td>0.863717</td>\n      <td>0.175446</td>\n      <td>0.554744</td>\n      <td>0.049325</td>\n      <td>0.621132</td>\n    </tr>\n    <tr>\n      <th>4</th>\n      <td>0.011265</td>\n      <td>0.206172</td>\n      <td>0.044151</td>\n      <td>0.163643</td>\n      <td>0.048806</td>\n      <td>0.437836</td>\n    </tr>\n  </tbody>\n</table>\n</div>"
     },
     "execution_count": 35,
     "metadata": {},
     "output_type": "execute_result"
    }
   ],
   "source": [
    "selected_columns.head()"
   ],
   "metadata": {
    "collapsed": false,
    "pycharm": {
     "name": "#%%\n"
    }
   }
  },
  {
   "cell_type": "code",
   "execution_count": null,
   "outputs": [],
   "source": [],
   "metadata": {
    "collapsed": false,
    "pycharm": {
     "name": "#%%\n"
    }
   }
  }
 ],
 "metadata": {
  "kernelspec": {
   "display_name": "Python 3",
   "language": "python",
   "name": "python3"
  },
  "language_info": {
   "codemirror_mode": {
    "name": "ipython",
    "version": 2
   },
   "file_extension": ".py",
   "mimetype": "text/x-python",
   "name": "python",
   "nbconvert_exporter": "python",
   "pygments_lexer": "ipython2",
   "version": "2.7.6"
  }
 },
 "nbformat": 4,
 "nbformat_minor": 0
}